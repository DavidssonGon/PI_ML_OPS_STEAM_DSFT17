{
 "cells": [
  {
   "cell_type": "markdown",
   "metadata": {},
   "source": [
    "# ETL Proyecto Individual ML Ops STEAM"
   ]
  },
  {
   "cell_type": "code",
   "execution_count": 2,
   "metadata": {},
   "outputs": [],
   "source": [
    "# Importo las librerias que considero necesarias para hacer la extración de los Data Set\n",
    "import json\n",
    "import ast\n",
    "import numpy as np\n",
    "import pandas as pd\n",
    "import matplotlib.pyplot as plt\n",
    "import seaborn as sns"
   ]
  },
  {
   "cell_type": "code",
   "execution_count": 75,
   "metadata": {},
   "outputs": [],
   "source": [
    "# Ruta de ubicación para los datasets:\n",
    "# 'E:\\\\AAADATOS\\Henry\\\\AA_Data_Science\\\\MATERIAL_PI\\\\DATA_PI MLOps - STEAM\\\\Data_sets\\\\australian_user_reviews.json'\n",
    "# 'E:\\\\AAADATOS\\Henry\\\\AA_Data_Science\\\\MATERIAL_PI\\\\DATA_PI MLOps - STEAM\\\\Data_sets\\\\australian_users_items.json'\n",
    "# 'E:\\\\AAADATOS\\Henry\\\\AA_Data_Science\\\\MATERIAL_PI\\\\DATA_PI MLOps - STEAM\\\\Data_sets\\\\output_steam_games.json'"
   ]
  },
  {
   "cell_type": "markdown",
   "metadata": {},
   "source": [
    "## Data Set australian_user_reviews.json"
   ]
  },
  {
   "cell_type": "code",
   "execution_count": 76,
   "metadata": {},
   "outputs": [],
   "source": [
    "# Se inicializa una lista vacia donde alamcenare los datos del archivo .JSON\n",
    "filas = []\n",
    "# Se abre el archivo .JSON con el modulo 'with'\n",
    "with open('E:\\\\AAADATOS\\\\Henry\\\\AA_Data_Science\\\\MATERIAL_PI\\\\DATA_PI MLOps - STEAM\\\\Data_sets\\\\australian_user_reviews.json', 'r', encoding='utf-8') as archivo:\n",
    "    for line in archivo.readlines():\n",
    "        filas.append(ast.literal_eval(line))"
   ]
  },
  {
   "cell_type": "code",
   "execution_count": 77,
   "metadata": {},
   "outputs": [
    {
     "data": {
      "text/html": [
       "<div>\n",
       "<style scoped>\n",
       "    .dataframe tbody tr th:only-of-type {\n",
       "        vertical-align: middle;\n",
       "    }\n",
       "\n",
       "    .dataframe tbody tr th {\n",
       "        vertical-align: top;\n",
       "    }\n",
       "\n",
       "    .dataframe thead th {\n",
       "        text-align: right;\n",
       "    }\n",
       "</style>\n",
       "<table border=\"1\" class=\"dataframe\">\n",
       "  <thead>\n",
       "    <tr style=\"text-align: right;\">\n",
       "      <th></th>\n",
       "      <th>user_id</th>\n",
       "      <th>user_url</th>\n",
       "      <th>reviews</th>\n",
       "    </tr>\n",
       "  </thead>\n",
       "  <tbody>\n",
       "    <tr>\n",
       "      <th>0</th>\n",
       "      <td>76561197970982479</td>\n",
       "      <td>http://steamcommunity.com/profiles/76561197970...</td>\n",
       "      <td>[{'funny': '', 'posted': 'Posted November 5, 2...</td>\n",
       "    </tr>\n",
       "    <tr>\n",
       "      <th>1</th>\n",
       "      <td>js41637</td>\n",
       "      <td>http://steamcommunity.com/id/js41637</td>\n",
       "      <td>[{'funny': '', 'posted': 'Posted June 24, 2014...</td>\n",
       "    </tr>\n",
       "    <tr>\n",
       "      <th>2</th>\n",
       "      <td>evcentric</td>\n",
       "      <td>http://steamcommunity.com/id/evcentric</td>\n",
       "      <td>[{'funny': '', 'posted': 'Posted February 3.',...</td>\n",
       "    </tr>\n",
       "    <tr>\n",
       "      <th>3</th>\n",
       "      <td>doctr</td>\n",
       "      <td>http://steamcommunity.com/id/doctr</td>\n",
       "      <td>[{'funny': '', 'posted': 'Posted October 14, 2...</td>\n",
       "    </tr>\n",
       "    <tr>\n",
       "      <th>4</th>\n",
       "      <td>maplemage</td>\n",
       "      <td>http://steamcommunity.com/id/maplemage</td>\n",
       "      <td>[{'funny': '3 people found this review funny',...</td>\n",
       "    </tr>\n",
       "    <tr>\n",
       "      <th>...</th>\n",
       "      <td>...</td>\n",
       "      <td>...</td>\n",
       "      <td>...</td>\n",
       "    </tr>\n",
       "    <tr>\n",
       "      <th>25794</th>\n",
       "      <td>76561198306599751</td>\n",
       "      <td>http://steamcommunity.com/profiles/76561198306...</td>\n",
       "      <td>[{'funny': '', 'posted': 'Posted May 31.', 'la...</td>\n",
       "    </tr>\n",
       "    <tr>\n",
       "      <th>25795</th>\n",
       "      <td>Ghoustik</td>\n",
       "      <td>http://steamcommunity.com/id/Ghoustik</td>\n",
       "      <td>[{'funny': '', 'posted': 'Posted June 17.', 'l...</td>\n",
       "    </tr>\n",
       "    <tr>\n",
       "      <th>25796</th>\n",
       "      <td>76561198310819422</td>\n",
       "      <td>http://steamcommunity.com/profiles/76561198310...</td>\n",
       "      <td>[{'funny': '1 person found this review funny',...</td>\n",
       "    </tr>\n",
       "    <tr>\n",
       "      <th>25797</th>\n",
       "      <td>76561198312638244</td>\n",
       "      <td>http://steamcommunity.com/profiles/76561198312...</td>\n",
       "      <td>[{'funny': '', 'posted': 'Posted July 21.', 'l...</td>\n",
       "    </tr>\n",
       "    <tr>\n",
       "      <th>25798</th>\n",
       "      <td>LydiaMorley</td>\n",
       "      <td>http://steamcommunity.com/id/LydiaMorley</td>\n",
       "      <td>[{'funny': '1 person found this review funny',...</td>\n",
       "    </tr>\n",
       "  </tbody>\n",
       "</table>\n",
       "<p>25799 rows × 3 columns</p>\n",
       "</div>"
      ],
      "text/plain": [
       "                 user_id                                           user_url  \\\n",
       "0      76561197970982479  http://steamcommunity.com/profiles/76561197970...   \n",
       "1                js41637               http://steamcommunity.com/id/js41637   \n",
       "2              evcentric             http://steamcommunity.com/id/evcentric   \n",
       "3                  doctr                 http://steamcommunity.com/id/doctr   \n",
       "4              maplemage             http://steamcommunity.com/id/maplemage   \n",
       "...                  ...                                                ...   \n",
       "25794  76561198306599751  http://steamcommunity.com/profiles/76561198306...   \n",
       "25795           Ghoustik              http://steamcommunity.com/id/Ghoustik   \n",
       "25796  76561198310819422  http://steamcommunity.com/profiles/76561198310...   \n",
       "25797  76561198312638244  http://steamcommunity.com/profiles/76561198312...   \n",
       "25798        LydiaMorley           http://steamcommunity.com/id/LydiaMorley   \n",
       "\n",
       "                                                 reviews  \n",
       "0      [{'funny': '', 'posted': 'Posted November 5, 2...  \n",
       "1      [{'funny': '', 'posted': 'Posted June 24, 2014...  \n",
       "2      [{'funny': '', 'posted': 'Posted February 3.',...  \n",
       "3      [{'funny': '', 'posted': 'Posted October 14, 2...  \n",
       "4      [{'funny': '3 people found this review funny',...  \n",
       "...                                                  ...  \n",
       "25794  [{'funny': '', 'posted': 'Posted May 31.', 'la...  \n",
       "25795  [{'funny': '', 'posted': 'Posted June 17.', 'l...  \n",
       "25796  [{'funny': '1 person found this review funny',...  \n",
       "25797  [{'funny': '', 'posted': 'Posted July 21.', 'l...  \n",
       "25798  [{'funny': '1 person found this review funny',...  \n",
       "\n",
       "[25799 rows x 3 columns]"
      ]
     },
     "execution_count": 77,
     "metadata": {},
     "output_type": "execute_result"
    }
   ],
   "source": [
    "# Se inicializa el primer DataFrame a partir de la lista donde se extrajo el archivo .JSON\n",
    "df_reviews = pd.DataFrame(filas)\n",
    "df_reviews"
   ]
  },
  {
   "cell_type": "markdown",
   "metadata": {},
   "source": [
    "Se evidencia que la columna \"reviews\" contiene listas como dato así que se tiene que proceder a expandirla"
   ]
  },
  {
   "cell_type": "code",
   "execution_count": 78,
   "metadata": {},
   "outputs": [
    {
     "data": {
      "text/html": [
       "<div>\n",
       "<style scoped>\n",
       "    .dataframe tbody tr th:only-of-type {\n",
       "        vertical-align: middle;\n",
       "    }\n",
       "\n",
       "    .dataframe tbody tr th {\n",
       "        vertical-align: top;\n",
       "    }\n",
       "\n",
       "    .dataframe thead th {\n",
       "        text-align: right;\n",
       "    }\n",
       "</style>\n",
       "<table border=\"1\" class=\"dataframe\">\n",
       "  <thead>\n",
       "    <tr style=\"text-align: right;\">\n",
       "      <th></th>\n",
       "      <th>user_id</th>\n",
       "      <th>user_url</th>\n",
       "      <th>reviews</th>\n",
       "      <th>funny</th>\n",
       "      <th>posted</th>\n",
       "      <th>last_edited</th>\n",
       "      <th>item_id</th>\n",
       "      <th>helpful</th>\n",
       "      <th>recommend</th>\n",
       "      <th>review</th>\n",
       "    </tr>\n",
       "  </thead>\n",
       "  <tbody>\n",
       "    <tr>\n",
       "      <th>0</th>\n",
       "      <td>76561197970982479</td>\n",
       "      <td>http://steamcommunity.com/profiles/76561197970...</td>\n",
       "      <td>{'funny': '', 'posted': 'Posted November 5, 20...</td>\n",
       "      <td></td>\n",
       "      <td>Posted November 5, 2011.</td>\n",
       "      <td></td>\n",
       "      <td>1250</td>\n",
       "      <td>No ratings yet</td>\n",
       "      <td>True</td>\n",
       "      <td>Simple yet with great replayability. In my opi...</td>\n",
       "    </tr>\n",
       "    <tr>\n",
       "      <th>1</th>\n",
       "      <td>76561197970982479</td>\n",
       "      <td>http://steamcommunity.com/profiles/76561197970...</td>\n",
       "      <td>{'funny': '', 'posted': 'Posted July 15, 2011....</td>\n",
       "      <td></td>\n",
       "      <td>Posted July 15, 2011.</td>\n",
       "      <td></td>\n",
       "      <td>22200</td>\n",
       "      <td>No ratings yet</td>\n",
       "      <td>True</td>\n",
       "      <td>It's unique and worth a playthrough.</td>\n",
       "    </tr>\n",
       "    <tr>\n",
       "      <th>2</th>\n",
       "      <td>76561197970982479</td>\n",
       "      <td>http://steamcommunity.com/profiles/76561197970...</td>\n",
       "      <td>{'funny': '', 'posted': 'Posted April 21, 2011...</td>\n",
       "      <td></td>\n",
       "      <td>Posted April 21, 2011.</td>\n",
       "      <td></td>\n",
       "      <td>43110</td>\n",
       "      <td>No ratings yet</td>\n",
       "      <td>True</td>\n",
       "      <td>Great atmosphere. The gunplay can be a bit chu...</td>\n",
       "    </tr>\n",
       "    <tr>\n",
       "      <th>3</th>\n",
       "      <td>js41637</td>\n",
       "      <td>http://steamcommunity.com/id/js41637</td>\n",
       "      <td>{'funny': '', 'posted': 'Posted June 24, 2014....</td>\n",
       "      <td></td>\n",
       "      <td>Posted June 24, 2014.</td>\n",
       "      <td></td>\n",
       "      <td>251610</td>\n",
       "      <td>15 of 20 people (75%) found this review helpful</td>\n",
       "      <td>True</td>\n",
       "      <td>I know what you think when you see this title ...</td>\n",
       "    </tr>\n",
       "    <tr>\n",
       "      <th>4</th>\n",
       "      <td>js41637</td>\n",
       "      <td>http://steamcommunity.com/id/js41637</td>\n",
       "      <td>{'funny': '', 'posted': 'Posted September 8, 2...</td>\n",
       "      <td></td>\n",
       "      <td>Posted September 8, 2013.</td>\n",
       "      <td></td>\n",
       "      <td>227300</td>\n",
       "      <td>0 of 1 people (0%) found this review helpful</td>\n",
       "      <td>True</td>\n",
       "      <td>For a simple (it's actually not all that simpl...</td>\n",
       "    </tr>\n",
       "  </tbody>\n",
       "</table>\n",
       "</div>"
      ],
      "text/plain": [
       "             user_id                                           user_url  \\\n",
       "0  76561197970982479  http://steamcommunity.com/profiles/76561197970...   \n",
       "1  76561197970982479  http://steamcommunity.com/profiles/76561197970...   \n",
       "2  76561197970982479  http://steamcommunity.com/profiles/76561197970...   \n",
       "3            js41637               http://steamcommunity.com/id/js41637   \n",
       "4            js41637               http://steamcommunity.com/id/js41637   \n",
       "\n",
       "                                             reviews funny  \\\n",
       "0  {'funny': '', 'posted': 'Posted November 5, 20...         \n",
       "1  {'funny': '', 'posted': 'Posted July 15, 2011....         \n",
       "2  {'funny': '', 'posted': 'Posted April 21, 2011...         \n",
       "3  {'funny': '', 'posted': 'Posted June 24, 2014....         \n",
       "4  {'funny': '', 'posted': 'Posted September 8, 2...         \n",
       "\n",
       "                      posted last_edited item_id  \\\n",
       "0   Posted November 5, 2011.                1250   \n",
       "1      Posted July 15, 2011.               22200   \n",
       "2     Posted April 21, 2011.               43110   \n",
       "3      Posted June 24, 2014.              251610   \n",
       "4  Posted September 8, 2013.              227300   \n",
       "\n",
       "                                           helpful recommend  \\\n",
       "0                                   No ratings yet      True   \n",
       "1                                   No ratings yet      True   \n",
       "2                                   No ratings yet      True   \n",
       "3  15 of 20 people (75%) found this review helpful      True   \n",
       "4     0 of 1 people (0%) found this review helpful      True   \n",
       "\n",
       "                                              review  \n",
       "0  Simple yet with great replayability. In my opi...  \n",
       "1               It's unique and worth a playthrough.  \n",
       "2  Great atmosphere. The gunplay can be a bit chu...  \n",
       "3  I know what you think when you see this title ...  \n",
       "4  For a simple (it's actually not all that simpl...  "
      ]
     },
     "execution_count": 78,
     "metadata": {},
     "output_type": "execute_result"
    }
   ],
   "source": [
    "df_reviews = df_reviews.explode('reviews').reset_index() # Se redefine el DatFrame con una descomposición del campo para desanidarla y se reinicia el conteo del índice\n",
    "df_reviews = df_reviews.drop(columns='index') # Se elimina el campo 'index'\n",
    "df_reviews = pd.concat([df_reviews, pd.json_normalize(df_reviews['reviews'])], axis=1) # Se normalizan los datos JSON de la columna 'reviews' aplanando los datos, convirtiendolos en un formato tabular y concatenando de manera horizontal el DatFrame original con el del contendio de 'reviews' \n",
    "df_reviews.head()"
   ]
  },
  {
   "cell_type": "markdown",
   "metadata": {},
   "source": [
    "### Se empieza a analizar y transformar los datos del DataFrame"
   ]
  },
  {
   "cell_type": "code",
   "execution_count": 79,
   "metadata": {},
   "outputs": [
    {
     "name": "stdout",
     "output_type": "stream",
     "text": [
      "<class 'pandas.core.frame.DataFrame'>\n",
      "RangeIndex: 59333 entries, 0 to 59332\n",
      "Data columns (total 10 columns):\n",
      " #   Column       Non-Null Count  Dtype \n",
      "---  ------       --------------  ----- \n",
      " 0   user_id      59333 non-null  object\n",
      " 1   user_url     59333 non-null  object\n",
      " 2   reviews      59305 non-null  object\n",
      " 3   funny        59305 non-null  object\n",
      " 4   posted       59305 non-null  object\n",
      " 5   last_edited  59305 non-null  object\n",
      " 6   item_id      59305 non-null  object\n",
      " 7   helpful      59305 non-null  object\n",
      " 8   recommend    59305 non-null  object\n",
      " 9   review       59305 non-null  object\n",
      "dtypes: object(10)\n",
      "memory usage: 4.5+ MB\n"
     ]
    }
   ],
   "source": [
    "# Información general del DataFrame\n",
    "df_reviews.info()"
   ]
  },
  {
   "cell_type": "markdown",
   "metadata": {},
   "source": [
    "NULOS"
   ]
  },
  {
   "cell_type": "code",
   "execution_count": 80,
   "metadata": {},
   "outputs": [
    {
     "data": {
      "text/plain": [
       "user_id         0\n",
       "user_url        0\n",
       "reviews        28\n",
       "funny          28\n",
       "posted         28\n",
       "last_edited    28\n",
       "item_id        28\n",
       "helpful        28\n",
       "recommend      28\n",
       "review         28\n",
       "dtype: int64"
      ]
     },
     "execution_count": 80,
     "metadata": {},
     "output_type": "execute_result"
    }
   ],
   "source": [
    "# Conteo de Nulos\n",
    "nulos = df_reviews.isna().sum()\n",
    "nulos"
   ]
  },
  {
   "cell_type": "code",
   "execution_count": 81,
   "metadata": {},
   "outputs": [
    {
     "data": {
      "text/html": [
       "<div>\n",
       "<style scoped>\n",
       "    .dataframe tbody tr th:only-of-type {\n",
       "        vertical-align: middle;\n",
       "    }\n",
       "\n",
       "    .dataframe tbody tr th {\n",
       "        vertical-align: top;\n",
       "    }\n",
       "\n",
       "    .dataframe thead th {\n",
       "        text-align: right;\n",
       "    }\n",
       "</style>\n",
       "<table border=\"1\" class=\"dataframe\">\n",
       "  <thead>\n",
       "    <tr style=\"text-align: right;\">\n",
       "      <th></th>\n",
       "      <th>user_id</th>\n",
       "      <th>user_url</th>\n",
       "      <th>reviews</th>\n",
       "      <th>funny</th>\n",
       "      <th>posted</th>\n",
       "      <th>last_edited</th>\n",
       "      <th>item_id</th>\n",
       "      <th>helpful</th>\n",
       "      <th>recommend</th>\n",
       "      <th>review</th>\n",
       "    </tr>\n",
       "  </thead>\n",
       "  <tbody>\n",
       "    <tr>\n",
       "      <th>137</th>\n",
       "      <td>gdxsd</td>\n",
       "      <td>http://steamcommunity.com/id/gdxsd</td>\n",
       "      <td>NaN</td>\n",
       "      <td>NaN</td>\n",
       "      <td>NaN</td>\n",
       "      <td>NaN</td>\n",
       "      <td>NaN</td>\n",
       "      <td>NaN</td>\n",
       "      <td>NaN</td>\n",
       "      <td>NaN</td>\n",
       "    </tr>\n",
       "    <tr>\n",
       "      <th>177</th>\n",
       "      <td>76561198094224872</td>\n",
       "      <td>http://steamcommunity.com/profiles/76561198094...</td>\n",
       "      <td>NaN</td>\n",
       "      <td>NaN</td>\n",
       "      <td>NaN</td>\n",
       "      <td>NaN</td>\n",
       "      <td>NaN</td>\n",
       "      <td>NaN</td>\n",
       "      <td>NaN</td>\n",
       "      <td>NaN</td>\n",
       "    </tr>\n",
       "    <tr>\n",
       "      <th>2559</th>\n",
       "      <td>76561198021575394</td>\n",
       "      <td>http://steamcommunity.com/profiles/76561198021...</td>\n",
       "      <td>NaN</td>\n",
       "      <td>NaN</td>\n",
       "      <td>NaN</td>\n",
       "      <td>NaN</td>\n",
       "      <td>NaN</td>\n",
       "      <td>NaN</td>\n",
       "      <td>NaN</td>\n",
       "      <td>NaN</td>\n",
       "    </tr>\n",
       "    <tr>\n",
       "      <th>10080</th>\n",
       "      <td>cmuir37</td>\n",
       "      <td>http://steamcommunity.com/id/cmuir37</td>\n",
       "      <td>NaN</td>\n",
       "      <td>NaN</td>\n",
       "      <td>NaN</td>\n",
       "      <td>NaN</td>\n",
       "      <td>NaN</td>\n",
       "      <td>NaN</td>\n",
       "      <td>NaN</td>\n",
       "      <td>NaN</td>\n",
       "    </tr>\n",
       "    <tr>\n",
       "      <th>13767</th>\n",
       "      <td>Jaysteeny</td>\n",
       "      <td>http://steamcommunity.com/id/Jaysteeny</td>\n",
       "      <td>NaN</td>\n",
       "      <td>NaN</td>\n",
       "      <td>NaN</td>\n",
       "      <td>NaN</td>\n",
       "      <td>NaN</td>\n",
       "      <td>NaN</td>\n",
       "      <td>NaN</td>\n",
       "      <td>NaN</td>\n",
       "    </tr>\n",
       "    <tr>\n",
       "      <th>15493</th>\n",
       "      <td>ML8989</td>\n",
       "      <td>http://steamcommunity.com/id/ML8989</td>\n",
       "      <td>NaN</td>\n",
       "      <td>NaN</td>\n",
       "      <td>NaN</td>\n",
       "      <td>NaN</td>\n",
       "      <td>NaN</td>\n",
       "      <td>NaN</td>\n",
       "      <td>NaN</td>\n",
       "      <td>NaN</td>\n",
       "    </tr>\n",
       "    <tr>\n",
       "      <th>19184</th>\n",
       "      <td>76561198079215291</td>\n",
       "      <td>http://steamcommunity.com/profiles/76561198079...</td>\n",
       "      <td>NaN</td>\n",
       "      <td>NaN</td>\n",
       "      <td>NaN</td>\n",
       "      <td>NaN</td>\n",
       "      <td>NaN</td>\n",
       "      <td>NaN</td>\n",
       "      <td>NaN</td>\n",
       "      <td>NaN</td>\n",
       "    </tr>\n",
       "    <tr>\n",
       "      <th>20223</th>\n",
       "      <td>76561198079342142</td>\n",
       "      <td>http://steamcommunity.com/profiles/76561198079...</td>\n",
       "      <td>NaN</td>\n",
       "      <td>NaN</td>\n",
       "      <td>NaN</td>\n",
       "      <td>NaN</td>\n",
       "      <td>NaN</td>\n",
       "      <td>NaN</td>\n",
       "      <td>NaN</td>\n",
       "      <td>NaN</td>\n",
       "    </tr>\n",
       "    <tr>\n",
       "      <th>25056</th>\n",
       "      <td>76561198061996985</td>\n",
       "      <td>http://steamcommunity.com/profiles/76561198061...</td>\n",
       "      <td>NaN</td>\n",
       "      <td>NaN</td>\n",
       "      <td>NaN</td>\n",
       "      <td>NaN</td>\n",
       "      <td>NaN</td>\n",
       "      <td>NaN</td>\n",
       "      <td>NaN</td>\n",
       "      <td>NaN</td>\n",
       "    </tr>\n",
       "    <tr>\n",
       "      <th>26257</th>\n",
       "      <td>76561198108286351</td>\n",
       "      <td>http://steamcommunity.com/profiles/76561198108...</td>\n",
       "      <td>NaN</td>\n",
       "      <td>NaN</td>\n",
       "      <td>NaN</td>\n",
       "      <td>NaN</td>\n",
       "      <td>NaN</td>\n",
       "      <td>NaN</td>\n",
       "      <td>NaN</td>\n",
       "      <td>NaN</td>\n",
       "    </tr>\n",
       "    <tr>\n",
       "      <th>26674</th>\n",
       "      <td>CallTripleZero</td>\n",
       "      <td>http://steamcommunity.com/id/CallTripleZero</td>\n",
       "      <td>NaN</td>\n",
       "      <td>NaN</td>\n",
       "      <td>NaN</td>\n",
       "      <td>NaN</td>\n",
       "      <td>NaN</td>\n",
       "      <td>NaN</td>\n",
       "      <td>NaN</td>\n",
       "      <td>NaN</td>\n",
       "    </tr>\n",
       "    <tr>\n",
       "      <th>28444</th>\n",
       "      <td>Priceless612</td>\n",
       "      <td>http://steamcommunity.com/id/Priceless612</td>\n",
       "      <td>NaN</td>\n",
       "      <td>NaN</td>\n",
       "      <td>NaN</td>\n",
       "      <td>NaN</td>\n",
       "      <td>NaN</td>\n",
       "      <td>NaN</td>\n",
       "      <td>NaN</td>\n",
       "      <td>NaN</td>\n",
       "    </tr>\n",
       "    <tr>\n",
       "      <th>28452</th>\n",
       "      <td>diabolical666</td>\n",
       "      <td>http://steamcommunity.com/id/diabolical666</td>\n",
       "      <td>NaN</td>\n",
       "      <td>NaN</td>\n",
       "      <td>NaN</td>\n",
       "      <td>NaN</td>\n",
       "      <td>NaN</td>\n",
       "      <td>NaN</td>\n",
       "      <td>NaN</td>\n",
       "      <td>NaN</td>\n",
       "    </tr>\n",
       "    <tr>\n",
       "      <th>28975</th>\n",
       "      <td>DrScottnik</td>\n",
       "      <td>http://steamcommunity.com/id/DrScottnik</td>\n",
       "      <td>NaN</td>\n",
       "      <td>NaN</td>\n",
       "      <td>NaN</td>\n",
       "      <td>NaN</td>\n",
       "      <td>NaN</td>\n",
       "      <td>NaN</td>\n",
       "      <td>NaN</td>\n",
       "      <td>NaN</td>\n",
       "    </tr>\n",
       "    <tr>\n",
       "      <th>31955</th>\n",
       "      <td>76561198110176420</td>\n",
       "      <td>http://steamcommunity.com/profiles/76561198110...</td>\n",
       "      <td>NaN</td>\n",
       "      <td>NaN</td>\n",
       "      <td>NaN</td>\n",
       "      <td>NaN</td>\n",
       "      <td>NaN</td>\n",
       "      <td>NaN</td>\n",
       "      <td>NaN</td>\n",
       "      <td>NaN</td>\n",
       "    </tr>\n",
       "    <tr>\n",
       "      <th>32819</th>\n",
       "      <td>jojoPL1987</td>\n",
       "      <td>http://steamcommunity.com/id/jojoPL1987</td>\n",
       "      <td>NaN</td>\n",
       "      <td>NaN</td>\n",
       "      <td>NaN</td>\n",
       "      <td>NaN</td>\n",
       "      <td>NaN</td>\n",
       "      <td>NaN</td>\n",
       "      <td>NaN</td>\n",
       "      <td>NaN</td>\n",
       "    </tr>\n",
       "    <tr>\n",
       "      <th>33785</th>\n",
       "      <td>Kylee_Kylie</td>\n",
       "      <td>http://steamcommunity.com/id/Kylee_Kylie</td>\n",
       "      <td>NaN</td>\n",
       "      <td>NaN</td>\n",
       "      <td>NaN</td>\n",
       "      <td>NaN</td>\n",
       "      <td>NaN</td>\n",
       "      <td>NaN</td>\n",
       "      <td>NaN</td>\n",
       "      <td>NaN</td>\n",
       "    </tr>\n",
       "    <tr>\n",
       "      <th>39279</th>\n",
       "      <td>_samie</td>\n",
       "      <td>http://steamcommunity.com/id/_samie</td>\n",
       "      <td>NaN</td>\n",
       "      <td>NaN</td>\n",
       "      <td>NaN</td>\n",
       "      <td>NaN</td>\n",
       "      <td>NaN</td>\n",
       "      <td>NaN</td>\n",
       "      <td>NaN</td>\n",
       "      <td>NaN</td>\n",
       "    </tr>\n",
       "    <tr>\n",
       "      <th>39357</th>\n",
       "      <td>FifthExclamation</td>\n",
       "      <td>http://steamcommunity.com/id/FifthExclamation</td>\n",
       "      <td>NaN</td>\n",
       "      <td>NaN</td>\n",
       "      <td>NaN</td>\n",
       "      <td>NaN</td>\n",
       "      <td>NaN</td>\n",
       "      <td>NaN</td>\n",
       "      <td>NaN</td>\n",
       "      <td>NaN</td>\n",
       "    </tr>\n",
       "    <tr>\n",
       "      <th>39420</th>\n",
       "      <td>sbenji</td>\n",
       "      <td>http://steamcommunity.com/id/sbenji</td>\n",
       "      <td>NaN</td>\n",
       "      <td>NaN</td>\n",
       "      <td>NaN</td>\n",
       "      <td>NaN</td>\n",
       "      <td>NaN</td>\n",
       "      <td>NaN</td>\n",
       "      <td>NaN</td>\n",
       "      <td>NaN</td>\n",
       "    </tr>\n",
       "    <tr>\n",
       "      <th>40661</th>\n",
       "      <td>SpatialWheel14</td>\n",
       "      <td>http://steamcommunity.com/id/SpatialWheel14</td>\n",
       "      <td>NaN</td>\n",
       "      <td>NaN</td>\n",
       "      <td>NaN</td>\n",
       "      <td>NaN</td>\n",
       "      <td>NaN</td>\n",
       "      <td>NaN</td>\n",
       "      <td>NaN</td>\n",
       "      <td>NaN</td>\n",
       "    </tr>\n",
       "    <tr>\n",
       "      <th>41777</th>\n",
       "      <td>76561198065238937</td>\n",
       "      <td>http://steamcommunity.com/profiles/76561198065...</td>\n",
       "      <td>NaN</td>\n",
       "      <td>NaN</td>\n",
       "      <td>NaN</td>\n",
       "      <td>NaN</td>\n",
       "      <td>NaN</td>\n",
       "      <td>NaN</td>\n",
       "      <td>NaN</td>\n",
       "      <td>NaN</td>\n",
       "    </tr>\n",
       "    <tr>\n",
       "      <th>44384</th>\n",
       "      <td>76561198071075080</td>\n",
       "      <td>http://steamcommunity.com/profiles/76561198071...</td>\n",
       "      <td>NaN</td>\n",
       "      <td>NaN</td>\n",
       "      <td>NaN</td>\n",
       "      <td>NaN</td>\n",
       "      <td>NaN</td>\n",
       "      <td>NaN</td>\n",
       "      <td>NaN</td>\n",
       "      <td>NaN</td>\n",
       "    </tr>\n",
       "    <tr>\n",
       "      <th>50718</th>\n",
       "      <td>76561198063489150</td>\n",
       "      <td>http://steamcommunity.com/profiles/76561198063...</td>\n",
       "      <td>NaN</td>\n",
       "      <td>NaN</td>\n",
       "      <td>NaN</td>\n",
       "      <td>NaN</td>\n",
       "      <td>NaN</td>\n",
       "      <td>NaN</td>\n",
       "      <td>NaN</td>\n",
       "      <td>NaN</td>\n",
       "    </tr>\n",
       "    <tr>\n",
       "      <th>53323</th>\n",
       "      <td>thecommunistbear</td>\n",
       "      <td>http://steamcommunity.com/id/thecommunistbear</td>\n",
       "      <td>NaN</td>\n",
       "      <td>NaN</td>\n",
       "      <td>NaN</td>\n",
       "      <td>NaN</td>\n",
       "      <td>NaN</td>\n",
       "      <td>NaN</td>\n",
       "      <td>NaN</td>\n",
       "      <td>NaN</td>\n",
       "    </tr>\n",
       "    <tr>\n",
       "      <th>55425</th>\n",
       "      <td>76561198085883839</td>\n",
       "      <td>http://steamcommunity.com/profiles/76561198085...</td>\n",
       "      <td>NaN</td>\n",
       "      <td>NaN</td>\n",
       "      <td>NaN</td>\n",
       "      <td>NaN</td>\n",
       "      <td>NaN</td>\n",
       "      <td>NaN</td>\n",
       "      <td>NaN</td>\n",
       "      <td>NaN</td>\n",
       "    </tr>\n",
       "    <tr>\n",
       "      <th>57578</th>\n",
       "      <td>76561198100396147</td>\n",
       "      <td>http://steamcommunity.com/profiles/76561198100...</td>\n",
       "      <td>NaN</td>\n",
       "      <td>NaN</td>\n",
       "      <td>NaN</td>\n",
       "      <td>NaN</td>\n",
       "      <td>NaN</td>\n",
       "      <td>NaN</td>\n",
       "      <td>NaN</td>\n",
       "      <td>NaN</td>\n",
       "    </tr>\n",
       "    <tr>\n",
       "      <th>57766</th>\n",
       "      <td>76561198102423654</td>\n",
       "      <td>http://steamcommunity.com/profiles/76561198102...</td>\n",
       "      <td>NaN</td>\n",
       "      <td>NaN</td>\n",
       "      <td>NaN</td>\n",
       "      <td>NaN</td>\n",
       "      <td>NaN</td>\n",
       "      <td>NaN</td>\n",
       "      <td>NaN</td>\n",
       "      <td>NaN</td>\n",
       "    </tr>\n",
       "  </tbody>\n",
       "</table>\n",
       "</div>"
      ],
      "text/plain": [
       "                 user_id                                           user_url  \\\n",
       "137                gdxsd                 http://steamcommunity.com/id/gdxsd   \n",
       "177    76561198094224872  http://steamcommunity.com/profiles/76561198094...   \n",
       "2559   76561198021575394  http://steamcommunity.com/profiles/76561198021...   \n",
       "10080            cmuir37               http://steamcommunity.com/id/cmuir37   \n",
       "13767          Jaysteeny             http://steamcommunity.com/id/Jaysteeny   \n",
       "15493             ML8989                http://steamcommunity.com/id/ML8989   \n",
       "19184  76561198079215291  http://steamcommunity.com/profiles/76561198079...   \n",
       "20223  76561198079342142  http://steamcommunity.com/profiles/76561198079...   \n",
       "25056  76561198061996985  http://steamcommunity.com/profiles/76561198061...   \n",
       "26257  76561198108286351  http://steamcommunity.com/profiles/76561198108...   \n",
       "26674     CallTripleZero        http://steamcommunity.com/id/CallTripleZero   \n",
       "28444       Priceless612          http://steamcommunity.com/id/Priceless612   \n",
       "28452      diabolical666         http://steamcommunity.com/id/diabolical666   \n",
       "28975         DrScottnik            http://steamcommunity.com/id/DrScottnik   \n",
       "31955  76561198110176420  http://steamcommunity.com/profiles/76561198110...   \n",
       "32819         jojoPL1987            http://steamcommunity.com/id/jojoPL1987   \n",
       "33785        Kylee_Kylie           http://steamcommunity.com/id/Kylee_Kylie   \n",
       "39279             _samie                http://steamcommunity.com/id/_samie   \n",
       "39357   FifthExclamation      http://steamcommunity.com/id/FifthExclamation   \n",
       "39420             sbenji                http://steamcommunity.com/id/sbenji   \n",
       "40661     SpatialWheel14        http://steamcommunity.com/id/SpatialWheel14   \n",
       "41777  76561198065238937  http://steamcommunity.com/profiles/76561198065...   \n",
       "44384  76561198071075080  http://steamcommunity.com/profiles/76561198071...   \n",
       "50718  76561198063489150  http://steamcommunity.com/profiles/76561198063...   \n",
       "53323   thecommunistbear      http://steamcommunity.com/id/thecommunistbear   \n",
       "55425  76561198085883839  http://steamcommunity.com/profiles/76561198085...   \n",
       "57578  76561198100396147  http://steamcommunity.com/profiles/76561198100...   \n",
       "57766  76561198102423654  http://steamcommunity.com/profiles/76561198102...   \n",
       "\n",
       "      reviews funny posted last_edited item_id helpful recommend review  \n",
       "137       NaN   NaN    NaN         NaN     NaN     NaN       NaN    NaN  \n",
       "177       NaN   NaN    NaN         NaN     NaN     NaN       NaN    NaN  \n",
       "2559      NaN   NaN    NaN         NaN     NaN     NaN       NaN    NaN  \n",
       "10080     NaN   NaN    NaN         NaN     NaN     NaN       NaN    NaN  \n",
       "13767     NaN   NaN    NaN         NaN     NaN     NaN       NaN    NaN  \n",
       "15493     NaN   NaN    NaN         NaN     NaN     NaN       NaN    NaN  \n",
       "19184     NaN   NaN    NaN         NaN     NaN     NaN       NaN    NaN  \n",
       "20223     NaN   NaN    NaN         NaN     NaN     NaN       NaN    NaN  \n",
       "25056     NaN   NaN    NaN         NaN     NaN     NaN       NaN    NaN  \n",
       "26257     NaN   NaN    NaN         NaN     NaN     NaN       NaN    NaN  \n",
       "26674     NaN   NaN    NaN         NaN     NaN     NaN       NaN    NaN  \n",
       "28444     NaN   NaN    NaN         NaN     NaN     NaN       NaN    NaN  \n",
       "28452     NaN   NaN    NaN         NaN     NaN     NaN       NaN    NaN  \n",
       "28975     NaN   NaN    NaN         NaN     NaN     NaN       NaN    NaN  \n",
       "31955     NaN   NaN    NaN         NaN     NaN     NaN       NaN    NaN  \n",
       "32819     NaN   NaN    NaN         NaN     NaN     NaN       NaN    NaN  \n",
       "33785     NaN   NaN    NaN         NaN     NaN     NaN       NaN    NaN  \n",
       "39279     NaN   NaN    NaN         NaN     NaN     NaN       NaN    NaN  \n",
       "39357     NaN   NaN    NaN         NaN     NaN     NaN       NaN    NaN  \n",
       "39420     NaN   NaN    NaN         NaN     NaN     NaN       NaN    NaN  \n",
       "40661     NaN   NaN    NaN         NaN     NaN     NaN       NaN    NaN  \n",
       "41777     NaN   NaN    NaN         NaN     NaN     NaN       NaN    NaN  \n",
       "44384     NaN   NaN    NaN         NaN     NaN     NaN       NaN    NaN  \n",
       "50718     NaN   NaN    NaN         NaN     NaN     NaN       NaN    NaN  \n",
       "53323     NaN   NaN    NaN         NaN     NaN     NaN       NaN    NaN  \n",
       "55425     NaN   NaN    NaN         NaN     NaN     NaN       NaN    NaN  \n",
       "57578     NaN   NaN    NaN         NaN     NaN     NaN       NaN    NaN  \n",
       "57766     NaN   NaN    NaN         NaN     NaN     NaN       NaN    NaN  "
      ]
     },
     "execution_count": 81,
     "metadata": {},
     "output_type": "execute_result"
    }
   ],
   "source": [
    "# Visualizar los valores Nulos\n",
    "df_nulos = df_reviews[df_reviews.isnull().any(axis=1)] # Se crea un nuevo DatFrame donde se filtra si hay algun valor nulo en la fila a partir del DataFrame orginal\n",
    "df_nulos"
   ]
  },
  {
   "cell_type": "markdown",
   "metadata": {},
   "source": [
    "En base al DataFrame anterior se puede afirmar que todos los Nulos corresponden estas filas donde no esta la información relevante para mis objetivos con las consignas que se me asignaron por lo cual se procedera a ser eliminados"
   ]
  },
  {
   "cell_type": "code",
   "execution_count": 82,
   "metadata": {},
   "outputs": [
    {
     "data": {
      "text/plain": [
       "user_id        0\n",
       "user_url       0\n",
       "reviews        0\n",
       "funny          0\n",
       "posted         0\n",
       "last_edited    0\n",
       "item_id        0\n",
       "helpful        0\n",
       "recommend      0\n",
       "review         0\n",
       "dtype: int64"
      ]
     },
     "execution_count": 82,
     "metadata": {},
     "output_type": "execute_result"
    }
   ],
   "source": [
    "# Elimino las filas con valores nulos del DataFrame con el método 'dropna()'\n",
    "df_reviews.dropna(inplace=True)\n",
    "# Conteo de Nulos nuevamente para verificar\n",
    "nuevos_nulos = df_reviews.isna().sum()\n",
    "nuevos_nulos"
   ]
  },
  {
   "cell_type": "markdown",
   "metadata": {},
   "source": [
    "De esta manera se han eliminado los valores Nulos del DataFrame hasta este punto de la transformación"
   ]
  },
  {
   "cell_type": "markdown",
   "metadata": {},
   "source": [
    "#### Se procede a evaluar el contenido de los campos y determinar su relevancia dentro de los obejtivos"
   ]
  },
  {
   "cell_type": "code",
   "execution_count": 83,
   "metadata": {},
   "outputs": [
    {
     "name": "stdout",
     "output_type": "stream",
     "text": [
      "<class 'pandas.core.frame.DataFrame'>\n",
      "Index: 59305 entries, 0 to 59332\n",
      "Data columns (total 10 columns):\n",
      " #   Column       Non-Null Count  Dtype \n",
      "---  ------       --------------  ----- \n",
      " 0   user_id      59305 non-null  object\n",
      " 1   user_url     59305 non-null  object\n",
      " 2   reviews      59305 non-null  object\n",
      " 3   funny        59305 non-null  object\n",
      " 4   posted       59305 non-null  object\n",
      " 5   last_edited  59305 non-null  object\n",
      " 6   item_id      59305 non-null  object\n",
      " 7   helpful      59305 non-null  object\n",
      " 8   recommend    59305 non-null  object\n",
      " 9   review       59305 non-null  object\n",
      "dtypes: object(10)\n",
      "memory usage: 5.0+ MB\n"
     ]
    }
   ],
   "source": [
    "df_reviews.info()"
   ]
  },
  {
   "cell_type": "code",
   "execution_count": 84,
   "metadata": {},
   "outputs": [
    {
     "data": {
      "text/plain": [
       "array(['', '3 people found this review funny',\n",
       "       '1 person found this review funny',\n",
       "       '2 people found this review funny',\n",
       "       '5 people found this review funny',\n",
       "       '17 people found this review funny',\n",
       "       '524 people found this review funny',\n",
       "       '4 people found this review funny',\n",
       "       '12 people found this review funny',\n",
       "       '6 people found this review funny',\n",
       "       '7 people found this review funny',\n",
       "       '103 people found this review funny',\n",
       "       '16 people found this review funny',\n",
       "       '34 people found this review funny',\n",
       "       '9 people found this review funny',\n",
       "       '45 people found this review funny',\n",
       "       '11 people found this review funny',\n",
       "       '97 people found this review funny',\n",
       "       '207 people found this review funny',\n",
       "       '718 people found this review funny',\n",
       "       '23 people found this review funny',\n",
       "       '100 people found this review funny',\n",
       "       '8 people found this review funny',\n",
       "       '19 people found this review funny',\n",
       "       '32 people found this review funny',\n",
       "       '118 people found this review funny',\n",
       "       '10 people found this review funny',\n",
       "       '44 people found this review funny',\n",
       "       '20 people found this review funny',\n",
       "       '36 people found this review funny',\n",
       "       '15 people found this review funny',\n",
       "       '131 people found this review funny',\n",
       "       '279 people found this review funny',\n",
       "       '122 people found this review funny',\n",
       "       '269 people found this review funny',\n",
       "       '296 people found this review funny',\n",
       "       '46 people found this review funny',\n",
       "       '42 people found this review funny',\n",
       "       '80 people found this review funny',\n",
       "       '28 people found this review funny',\n",
       "       '417 people found this review funny',\n",
       "       '92 people found this review funny',\n",
       "       '261 people found this review funny',\n",
       "       '54 people found this review funny',\n",
       "       '13 people found this review funny',\n",
       "       '14 people found this review funny',\n",
       "       '133 people found this review funny',\n",
       "       '115 people found this review funny',\n",
       "       '72 people found this review funny',\n",
       "       '260 people found this review funny',\n",
       "       '405 people found this review funny',\n",
       "       '47 people found this review funny',\n",
       "       '1,130 people found this review funny',\n",
       "       '856 people found this review funny',\n",
       "       '256 people found this review funny',\n",
       "       '48 people found this review funny',\n",
       "       '71 people found this review funny',\n",
       "       '30 people found this review funny',\n",
       "       '89 people found this review funny',\n",
       "       '75 people found this review funny',\n",
       "       '518 people found this review funny',\n",
       "       '719 people found this review funny',\n",
       "       '82 people found this review funny',\n",
       "       '49 people found this review funny',\n",
       "       '167 people found this review funny',\n",
       "       '77 people found this review funny',\n",
       "       '60 people found this review funny',\n",
       "       '26 people found this review funny',\n",
       "       '675 people found this review funny',\n",
       "       '22 people found this review funny',\n",
       "       '99 people found this review funny',\n",
       "       '120 people found this review funny',\n",
       "       '211 people found this review funny',\n",
       "       '27 people found this review funny',\n",
       "       '21 people found this review funny',\n",
       "       '228 people found this review funny',\n",
       "       '25 people found this review funny',\n",
       "       '18 people found this review funny',\n",
       "       '76 people found this review funny',\n",
       "       '56 people found this review funny',\n",
       "       '85 people found this review funny',\n",
       "       '40 people found this review funny',\n",
       "       '203 people found this review funny',\n",
       "       '90 people found this review funny',\n",
       "       '480 people found this review funny',\n",
       "       '39 people found this review funny',\n",
       "       '759 people found this review funny',\n",
       "       '53 people found this review funny',\n",
       "       '38 people found this review funny',\n",
       "       '52 people found this review funny',\n",
       "       '70 people found this review funny',\n",
       "       '429 people found this review funny',\n",
       "       '69 people found this review funny',\n",
       "       '24 people found this review funny',\n",
       "       '41 people found this review funny',\n",
       "       '194 people found this review funny',\n",
       "       '124 people found this review funny',\n",
       "       '450 people found this review funny',\n",
       "       '607 people found this review funny',\n",
       "       '152 people found this review funny',\n",
       "       '946 people found this review funny',\n",
       "       '50 people found this review funny',\n",
       "       '142 people found this review funny',\n",
       "       '181 people found this review funny',\n",
       "       '171 people found this review funny',\n",
       "       '105 people found this review funny',\n",
       "       '267 people found this review funny',\n",
       "       '58 people found this review funny',\n",
       "       '139 people found this review funny',\n",
       "       '161 people found this review funny',\n",
       "       '1,284 people found this review funny',\n",
       "       '127 people found this review funny',\n",
       "       '155 people found this review funny',\n",
       "       '191 people found this review funny',\n",
       "       '51 people found this review funny',\n",
       "       '461 people found this review funny',\n",
       "       '94 people found this review funny',\n",
       "       '841 people found this review funny',\n",
       "       '2,598 people found this review funny',\n",
       "       '129 people found this review funny',\n",
       "       '66 people found this review funny',\n",
       "       '95 people found this review funny',\n",
       "       '57 people found this review funny',\n",
       "       '180 people found this review funny',\n",
       "       '502 people found this review funny',\n",
       "       '215 people found this review funny',\n",
       "       '830 people found this review funny',\n",
       "       '327 people found this review funny',\n",
       "       '185 people found this review funny',\n",
       "       '255 people found this review funny',\n",
       "       '469 people found this review funny',\n",
       "       '1,002 people found this review funny',\n",
       "       '65 people found this review funny',\n",
       "       '111 people found this review funny',\n",
       "       '198 people found this review funny',\n",
       "       '31 people found this review funny',\n",
       "       '214 people found this review funny',\n",
       "       '116 people found this review funny',\n",
       "       '534 people found this review funny',\n",
       "       '33 people found this review funny',\n",
       "       '354 people found this review funny',\n",
       "       '128 people found this review funny',\n",
       "       '396 people found this review funny',\n",
       "       '59 people found this review funny',\n",
       "       '67 people found this review funny',\n",
       "       '162 people found this review funny',\n",
       "       '37 people found this review funny',\n",
       "       '78 people found this review funny',\n",
       "       '284 people found this review funny',\n",
       "       '1,954 people found this review funny',\n",
       "       '276 people found this review funny',\n",
       "       '35 people found this review funny',\n",
       "       '29 people found this review funny',\n",
       "       '651 people found this review funny',\n",
       "       '83 people found this review funny',\n",
       "       '104 people found this review funny',\n",
       "       '1,100 people found this review funny',\n",
       "       '150 people found this review funny',\n",
       "       '126 people found this review funny',\n",
       "       '956 people found this review funny',\n",
       "       '264 people found this review funny',\n",
       "       '486 people found this review funny',\n",
       "       '246 people found this review funny',\n",
       "       '43 people found this review funny',\n",
       "       '326 people found this review funny',\n",
       "       '210 people found this review funny',\n",
       "       '144 people found this review funny',\n",
       "       '425 people found this review funny',\n",
       "       '68 people found this review funny',\n",
       "       '491 people found this review funny',\n",
       "       '186 people found this review funny',\n",
       "       '88 people found this review funny',\n",
       "       '388 people found this review funny',\n",
       "       '196 people found this review funny',\n",
       "       '135 people found this review funny',\n",
       "       '151 people found this review funny',\n",
       "       '2,447 people found this review funny',\n",
       "       '178 people found this review funny',\n",
       "       '876 people found this review funny',\n",
       "       '852 people found this review funny',\n",
       "       '233 people found this review funny',\n",
       "       '680 people found this review funny',\n",
       "       '172 people found this review funny',\n",
       "       '182 people found this review funny',\n",
       "       '86 people found this review funny',\n",
       "       '825 people found this review funny'], dtype=object)"
      ]
     },
     "execution_count": 84,
     "metadata": {},
     "output_type": "execute_result"
    }
   ],
   "source": [
    "# Se crea una variable que contiene los valores unicos del campo 'funny'\n",
    "valores_funny = df_reviews['funny'].unique() \n",
    "valores_funny"
   ]
  },
  {
   "cell_type": "code",
   "execution_count": 85,
   "metadata": {},
   "outputs": [
    {
     "data": {
      "text/plain": [
       "8151"
      ]
     },
     "execution_count": 85,
     "metadata": {},
     "output_type": "execute_result"
    }
   ],
   "source": [
    "# Se crea otra variable para contar cuantos valores hay que no sean strings vacios (\"\")\n",
    "cant_funny = df_reviews[df_reviews['funny'] != ''].count()['funny']\n",
    "cant_funny"
   ]
  },
  {
   "cell_type": "code",
   "execution_count": 86,
   "metadata": {},
   "outputs": [
    {
     "name": "stdout",
     "output_type": "stream",
     "text": [
      "La cantidad de valores que no son strings vacios en el campo \"funny\" representan un 13.74%\n"
     ]
    }
   ],
   "source": [
    "# Se hace una operación matematica para determinar que porcentaje representa los valores de funny completos dentro del conjunto del DataFrame\n",
    "total_filas_df = 59305\n",
    "print(f'La cantidad de valores que no son strings vacios en el campo \"funny\" representan un {round((cant_funny/total_filas_df)*100, 2)}%')"
   ]
  },
  {
   "cell_type": "markdown",
   "metadata": {},
   "source": [
    "Después del proceso anterior se puede determinar que los valores que se podrían considerar útiles del campo \"funny\" apenas representan un 13.74% dentro de todo el DataFrame por lo cual este campo en su conjunto se considerará presindible"
   ]
  },
  {
   "cell_type": "code",
   "execution_count": 87,
   "metadata": {},
   "outputs": [
    {
     "data": {
      "text/plain": [
       "array(['', 'Last edited December 5, 2015.',\n",
       "       'Last edited November 25, 2013.', ...,\n",
       "       'Last edited April 17, 2014.', 'Last edited May 10, 2014.',\n",
       "       'Last edited August 15, 2014.'], dtype=object)"
      ]
     },
     "execution_count": 87,
     "metadata": {},
     "output_type": "execute_result"
    }
   ],
   "source": [
    "# Se crea una variable que contiene los valores unicos del campo 'last_edited'\n",
    "valores_last_edited = df_reviews['last_edited'].unique() \n",
    "valores_last_edited"
   ]
  },
  {
   "cell_type": "code",
   "execution_count": 88,
   "metadata": {},
   "outputs": [
    {
     "data": {
      "text/plain": [
       "6140"
      ]
     },
     "execution_count": 88,
     "metadata": {},
     "output_type": "execute_result"
    }
   ],
   "source": [
    "# Se crea otra variable para contar cuantos valores hay que no sean strings vacios (\"\")\n",
    "cant_last_edited = df_reviews[df_reviews['last_edited'] != ''].count()['last_edited']\n",
    "cant_last_edited"
   ]
  },
  {
   "cell_type": "code",
   "execution_count": 89,
   "metadata": {},
   "outputs": [
    {
     "name": "stdout",
     "output_type": "stream",
     "text": [
      "La cantidad de valores que no son strings vacios en el campo \"last_edited\" representan un 10.35%\n"
     ]
    }
   ],
   "source": [
    "# Se hace una operación matematica para determinar que porcentaje representa los valores de \"last_edited\" completos dentro del conjunto del DataFrame\n",
    "print(f'La cantidad de valores que no son strings vacios en el campo \"last_edited\" representan un {round((cant_last_edited/total_filas_df)*100, 2)}%')"
   ]
  },
  {
   "cell_type": "markdown",
   "metadata": {},
   "source": [
    "Después del proceso anterior se puede determinar que los valores que se podrían considerar útiles del campo \"last_edited\" apenas representan un 10.35% dentro de todo el DataFrame por lo cual este campo en su conjunto se considerará presindible"
   ]
  },
  {
   "cell_type": "code",
   "execution_count": 90,
   "metadata": {},
   "outputs": [
    {
     "data": {
      "text/plain": [
       "array(['No ratings yet',\n",
       "       '15 of 20 people (75%) found this review helpful',\n",
       "       '0 of 1 people (0%) found this review helpful', ...,\n",
       "       '21 of 34 people (62%) found this review helpful',\n",
       "       '64 of 73 people (88%) found this review helpful',\n",
       "       '24 of 34 people (71%) found this review helpful'], dtype=object)"
      ]
     },
     "execution_count": 90,
     "metadata": {},
     "output_type": "execute_result"
    }
   ],
   "source": [
    "# Se crea una variable que contiene los valores unicos del campo 'helpful'\n",
    "valores_helpful = df_reviews['helpful'].unique() \n",
    "valores_helpful"
   ]
  },
  {
   "cell_type": "code",
   "execution_count": 91,
   "metadata": {},
   "outputs": [
    {
     "data": {
      "text/plain": [
       "29137"
      ]
     },
     "execution_count": 91,
     "metadata": {},
     "output_type": "execute_result"
    }
   ],
   "source": [
    "# Se crea otra variable para contar cuantos valores hay que no sean \"No ratings yet\"\n",
    "cant_helpful = df_reviews[df_reviews['helpful'] != 'No ratings yet'].count()['helpful']\n",
    "cant_helpful"
   ]
  },
  {
   "cell_type": "code",
   "execution_count": 92,
   "metadata": {},
   "outputs": [
    {
     "name": "stdout",
     "output_type": "stream",
     "text": [
      "La cantidad de valores que no son \"No ratings yet\" vacios en el campo \"helpful\" representan un 49.13%\n"
     ]
    }
   ],
   "source": [
    "# Se hace una operación matematica para determinar que porcentaje representa los valores de \"helpful\" completos dentro del conjunto del DataFrame\n",
    "print(f'La cantidad de valores que no son \"No ratings yet\" vacios en el campo \"helpful\" representan un {round((cant_helpful/total_filas_df)*100, 2)}%')"
   ]
  },
  {
   "cell_type": "markdown",
   "metadata": {},
   "source": [
    "Ahora que se posee mas información sobre el campo \"helpful\" se puede determinar que es presindible no solo por que su información relevante represente un poco menos del 50%, sino también por que esta información 'útil' seria dificil de cuantificar y llevar a escala además en los requerimientos se indica que el campo mas relevante para el objetivo es \"review\" por lo cual este campo tambien se presindé."
   ]
  },
  {
   "cell_type": "code",
   "execution_count": 93,
   "metadata": {},
   "outputs": [
    {
     "data": {
      "text/plain": [
       "array([True, False], dtype=object)"
      ]
     },
     "execution_count": 93,
     "metadata": {},
     "output_type": "execute_result"
    }
   ],
   "source": [
    "# Se crea una variable que contiene los valores unicos del campo 'recommend'\n",
    "valores_recommend = df_reviews['recommend'].unique() \n",
    "valores_recommend"
   ]
  },
  {
   "cell_type": "markdown",
   "metadata": {},
   "source": [
    "Con el proceso anterior se cerciora que el campo \"recommend\" contiene información relevante en todas las filas del DataFrame"
   ]
  },
  {
   "cell_type": "markdown",
   "metadata": {},
   "source": [
    "#### Fechas"
   ]
  },
  {
   "cell_type": "code",
   "execution_count": 94,
   "metadata": {},
   "outputs": [
    {
     "data": {
      "text/html": [
       "<div>\n",
       "<style scoped>\n",
       "    .dataframe tbody tr th:only-of-type {\n",
       "        vertical-align: middle;\n",
       "    }\n",
       "\n",
       "    .dataframe tbody tr th {\n",
       "        vertical-align: top;\n",
       "    }\n",
       "\n",
       "    .dataframe thead th {\n",
       "        text-align: right;\n",
       "    }\n",
       "</style>\n",
       "<table border=\"1\" class=\"dataframe\">\n",
       "  <thead>\n",
       "    <tr style=\"text-align: right;\">\n",
       "      <th></th>\n",
       "      <th>user_id</th>\n",
       "      <th>user_url</th>\n",
       "      <th>reviews</th>\n",
       "      <th>funny</th>\n",
       "      <th>posted</th>\n",
       "      <th>last_edited</th>\n",
       "      <th>item_id</th>\n",
       "      <th>helpful</th>\n",
       "      <th>recommend</th>\n",
       "      <th>review</th>\n",
       "    </tr>\n",
       "  </thead>\n",
       "  <tbody>\n",
       "    <tr>\n",
       "      <th>0</th>\n",
       "      <td>76561197970982479</td>\n",
       "      <td>http://steamcommunity.com/profiles/76561197970...</td>\n",
       "      <td>{'funny': '', 'posted': 'Posted November 5, 20...</td>\n",
       "      <td></td>\n",
       "      <td>November 5, 2011.</td>\n",
       "      <td></td>\n",
       "      <td>1250</td>\n",
       "      <td>No ratings yet</td>\n",
       "      <td>True</td>\n",
       "      <td>Simple yet with great replayability. In my opi...</td>\n",
       "    </tr>\n",
       "    <tr>\n",
       "      <th>1</th>\n",
       "      <td>76561197970982479</td>\n",
       "      <td>http://steamcommunity.com/profiles/76561197970...</td>\n",
       "      <td>{'funny': '', 'posted': 'Posted July 15, 2011....</td>\n",
       "      <td></td>\n",
       "      <td>July 15, 2011.</td>\n",
       "      <td></td>\n",
       "      <td>22200</td>\n",
       "      <td>No ratings yet</td>\n",
       "      <td>True</td>\n",
       "      <td>It's unique and worth a playthrough.</td>\n",
       "    </tr>\n",
       "  </tbody>\n",
       "</table>\n",
       "</div>"
      ],
      "text/plain": [
       "             user_id                                           user_url  \\\n",
       "0  76561197970982479  http://steamcommunity.com/profiles/76561197970...   \n",
       "1  76561197970982479  http://steamcommunity.com/profiles/76561197970...   \n",
       "\n",
       "                                             reviews funny  \\\n",
       "0  {'funny': '', 'posted': 'Posted November 5, 20...         \n",
       "1  {'funny': '', 'posted': 'Posted July 15, 2011....         \n",
       "\n",
       "               posted last_edited item_id         helpful recommend  \\\n",
       "0   November 5, 2011.                1250  No ratings yet      True   \n",
       "1      July 15, 2011.               22200  No ratings yet      True   \n",
       "\n",
       "                                              review  \n",
       "0  Simple yet with great replayability. In my opi...  \n",
       "1               It's unique and worth a playthrough.  "
      ]
     },
     "execution_count": 94,
     "metadata": {},
     "output_type": "execute_result"
    }
   ],
   "source": [
    "# Se elimina la cadena 'Posted' de todos las filas del campo \"posted\"\n",
    "df_reviews['posted'] = df_reviews['posted'].str.replace('Posted', '')\n",
    "df_reviews.head(2)"
   ]
  },
  {
   "cell_type": "code",
   "execution_count": 95,
   "metadata": {},
   "outputs": [
    {
     "data": {
      "text/html": [
       "<div>\n",
       "<style scoped>\n",
       "    .dataframe tbody tr th:only-of-type {\n",
       "        vertical-align: middle;\n",
       "    }\n",
       "\n",
       "    .dataframe tbody tr th {\n",
       "        vertical-align: top;\n",
       "    }\n",
       "\n",
       "    .dataframe thead th {\n",
       "        text-align: right;\n",
       "    }\n",
       "</style>\n",
       "<table border=\"1\" class=\"dataframe\">\n",
       "  <thead>\n",
       "    <tr style=\"text-align: right;\">\n",
       "      <th></th>\n",
       "      <th>user_id</th>\n",
       "      <th>user_url</th>\n",
       "      <th>reviews</th>\n",
       "      <th>funny</th>\n",
       "      <th>posted</th>\n",
       "      <th>last_edited</th>\n",
       "      <th>item_id</th>\n",
       "      <th>helpful</th>\n",
       "      <th>recommend</th>\n",
       "      <th>review</th>\n",
       "      <th>Date</th>\n",
       "    </tr>\n",
       "  </thead>\n",
       "  <tbody>\n",
       "    <tr>\n",
       "      <th>0</th>\n",
       "      <td>76561197970982479</td>\n",
       "      <td>http://steamcommunity.com/profiles/76561197970...</td>\n",
       "      <td>{'funny': '', 'posted': 'Posted November 5, 20...</td>\n",
       "      <td></td>\n",
       "      <td>November 5, 2011.</td>\n",
       "      <td></td>\n",
       "      <td>1250</td>\n",
       "      <td>No ratings yet</td>\n",
       "      <td>True</td>\n",
       "      <td>Simple yet with great replayability. In my opi...</td>\n",
       "      <td>2011-11-05</td>\n",
       "    </tr>\n",
       "    <tr>\n",
       "      <th>1</th>\n",
       "      <td>76561197970982479</td>\n",
       "      <td>http://steamcommunity.com/profiles/76561197970...</td>\n",
       "      <td>{'funny': '', 'posted': 'Posted July 15, 2011....</td>\n",
       "      <td></td>\n",
       "      <td>July 15, 2011.</td>\n",
       "      <td></td>\n",
       "      <td>22200</td>\n",
       "      <td>No ratings yet</td>\n",
       "      <td>True</td>\n",
       "      <td>It's unique and worth a playthrough.</td>\n",
       "      <td>2011-07-15</td>\n",
       "    </tr>\n",
       "  </tbody>\n",
       "</table>\n",
       "</div>"
      ],
      "text/plain": [
       "             user_id                                           user_url  \\\n",
       "0  76561197970982479  http://steamcommunity.com/profiles/76561197970...   \n",
       "1  76561197970982479  http://steamcommunity.com/profiles/76561197970...   \n",
       "\n",
       "                                             reviews funny  \\\n",
       "0  {'funny': '', 'posted': 'Posted November 5, 20...         \n",
       "1  {'funny': '', 'posted': 'Posted July 15, 2011....         \n",
       "\n",
       "               posted last_edited item_id         helpful recommend  \\\n",
       "0   November 5, 2011.                1250  No ratings yet      True   \n",
       "1      July 15, 2011.               22200  No ratings yet      True   \n",
       "\n",
       "                                              review       Date  \n",
       "0  Simple yet with great replayability. In my opi... 2011-11-05  \n",
       "1               It's unique and worth a playthrough. 2011-07-15  "
      ]
     },
     "execution_count": 95,
     "metadata": {},
     "output_type": "execute_result"
    }
   ],
   "source": [
    "# Se crea un nuevo campo llamado \"Date\" donde se almacenara el contenido de \"posted\" convertido a formato datetime\n",
    "df_reviews['Date'] = pd.to_datetime(df_reviews['posted'], dayfirst=True, errors='coerce') # Con estos atributos se logra primero que se reconozca adecuadamente el formato de la fecha en el campo \"posted\" y segundo que lo que no se reconozca como datetime se convierta en una NaT \"Not a Time\"\n",
    "df_reviews.head(2)"
   ]
  },
  {
   "cell_type": "code",
   "execution_count": 96,
   "metadata": {},
   "outputs": [
    {
     "data": {
      "text/plain": [
       "10119"
      ]
     },
     "execution_count": 96,
     "metadata": {},
     "output_type": "execute_result"
    }
   ],
   "source": [
    "# Se crea una variable para contabilizar la cantidad NaT's que hay en el nuevo campo \"Date\" del DataFrame\n",
    "cant_Not_Date = df_reviews['Date'].isna().sum()\n",
    "cant_Not_Date"
   ]
  },
  {
   "cell_type": "code",
   "execution_count": 97,
   "metadata": {},
   "outputs": [
    {
     "data": {
      "text/html": [
       "<div>\n",
       "<style scoped>\n",
       "    .dataframe tbody tr th:only-of-type {\n",
       "        vertical-align: middle;\n",
       "    }\n",
       "\n",
       "    .dataframe tbody tr th {\n",
       "        vertical-align: top;\n",
       "    }\n",
       "\n",
       "    .dataframe thead th {\n",
       "        text-align: right;\n",
       "    }\n",
       "</style>\n",
       "<table border=\"1\" class=\"dataframe\">\n",
       "  <thead>\n",
       "    <tr style=\"text-align: right;\">\n",
       "      <th></th>\n",
       "      <th>user_id</th>\n",
       "      <th>user_url</th>\n",
       "      <th>reviews</th>\n",
       "      <th>funny</th>\n",
       "      <th>posted</th>\n",
       "      <th>last_edited</th>\n",
       "      <th>item_id</th>\n",
       "      <th>helpful</th>\n",
       "      <th>recommend</th>\n",
       "      <th>review</th>\n",
       "      <th>Date</th>\n",
       "      <th>Year</th>\n",
       "    </tr>\n",
       "  </thead>\n",
       "  <tbody>\n",
       "    <tr>\n",
       "      <th>0</th>\n",
       "      <td>76561197970982479</td>\n",
       "      <td>http://steamcommunity.com/profiles/76561197970...</td>\n",
       "      <td>{'funny': '', 'posted': 'Posted November 5, 20...</td>\n",
       "      <td></td>\n",
       "      <td>November 5, 2011.</td>\n",
       "      <td></td>\n",
       "      <td>1250</td>\n",
       "      <td>No ratings yet</td>\n",
       "      <td>True</td>\n",
       "      <td>Simple yet with great replayability. In my opi...</td>\n",
       "      <td>2011-11-05</td>\n",
       "      <td>2011.0</td>\n",
       "    </tr>\n",
       "    <tr>\n",
       "      <th>1</th>\n",
       "      <td>76561197970982479</td>\n",
       "      <td>http://steamcommunity.com/profiles/76561197970...</td>\n",
       "      <td>{'funny': '', 'posted': 'Posted July 15, 2011....</td>\n",
       "      <td></td>\n",
       "      <td>July 15, 2011.</td>\n",
       "      <td></td>\n",
       "      <td>22200</td>\n",
       "      <td>No ratings yet</td>\n",
       "      <td>True</td>\n",
       "      <td>It's unique and worth a playthrough.</td>\n",
       "      <td>2011-07-15</td>\n",
       "      <td>2011.0</td>\n",
       "    </tr>\n",
       "  </tbody>\n",
       "</table>\n",
       "</div>"
      ],
      "text/plain": [
       "             user_id                                           user_url  \\\n",
       "0  76561197970982479  http://steamcommunity.com/profiles/76561197970...   \n",
       "1  76561197970982479  http://steamcommunity.com/profiles/76561197970...   \n",
       "\n",
       "                                             reviews funny  \\\n",
       "0  {'funny': '', 'posted': 'Posted November 5, 20...         \n",
       "1  {'funny': '', 'posted': 'Posted July 15, 2011....         \n",
       "\n",
       "               posted last_edited item_id         helpful recommend  \\\n",
       "0   November 5, 2011.                1250  No ratings yet      True   \n",
       "1      July 15, 2011.               22200  No ratings yet      True   \n",
       "\n",
       "                                              review       Date    Year  \n",
       "0  Simple yet with great replayability. In my opi... 2011-11-05  2011.0  \n",
       "1               It's unique and worth a playthrough. 2011-07-15  2011.0  "
      ]
     },
     "execution_count": 97,
     "metadata": {},
     "output_type": "execute_result"
    }
   ],
   "source": [
    "# Se crea un nuevo campor llamado \"Year\" donde se almacenara solamente el año de la review\n",
    "df_reviews['Year'] = pd.to_datetime(df_reviews['Date']).dt.year\n",
    "df_reviews.head(2)"
   ]
  },
  {
   "cell_type": "markdown",
   "metadata": {},
   "source": [
    "Debido a que se cuenta con valores NaT en el campo \"Date\" el output del campo \"Year\" esta en formato float por lo cual se van a tranformar a formato \"int\""
   ]
  },
  {
   "cell_type": "code",
   "execution_count": 98,
   "metadata": {},
   "outputs": [
    {
     "data": {
      "text/plain": [
       "Year\n",
       "2014.0    22111\n",
       "2015.0    18470\n",
       "2013.0     6792\n",
       "2012.0     1215\n",
       "2011.0      532\n",
       "2010.0       66\n",
       "Name: count, dtype: int64"
      ]
     },
     "execution_count": 98,
     "metadata": {},
     "output_type": "execute_result"
    }
   ],
   "source": [
    "# Se cuenta la cantidad de frecuencia de valores unicos que posee el campo \"Year\"\n",
    "fecuencia_valores_Year = df_reviews['Year'].value_counts()\n",
    "fecuencia_valores_Year"
   ]
  },
  {
   "cell_type": "code",
   "execution_count": 99,
   "metadata": {},
   "outputs": [
    {
     "data": {
      "text/plain": [
       "10119"
      ]
     },
     "execution_count": 99,
     "metadata": {},
     "output_type": "execute_result"
    }
   ],
   "source": [
    "# Se crea una variable para contabilizar la cantidad NaT's que hay en el nuevo campo \"Year\" del DataFrame\n",
    "cant_Not_Year = df_reviews['Year'].isna().sum()\n",
    "cant_Not_Year"
   ]
  },
  {
   "cell_type": "markdown",
   "metadata": {},
   "source": [
    "Con las tranformaciones anteriores se puede establecer que la cantidad de filas donde faltan unicamente el año en el campo \"posted\" son 10119 y es por esta razón que hay nulos al momento de transformalos a formatos de fecha"
   ]
  },
  {
   "cell_type": "code",
   "execution_count": 100,
   "metadata": {},
   "outputs": [
    {
     "data": {
      "text/plain": [
       "0"
      ]
     },
     "execution_count": 100,
     "metadata": {},
     "output_type": "execute_result"
    }
   ],
   "source": [
    "# Se reemplaza los valores NaT del campo \"Year\" por el año 2016\n",
    "df_reviews['Year'].fillna(2016, inplace=True)\n",
    "cant_Not_Year = df_reviews['Year'].isna().sum() # Se vuelve a contar los valores Nulos del campo\n",
    "cant_Not_Year"
   ]
  },
  {
   "cell_type": "code",
   "execution_count": 101,
   "metadata": {},
   "outputs": [
    {
     "data": {
      "text/plain": [
       "Year\n",
       "2014.0    22111\n",
       "2015.0    18470\n",
       "2016.0    10119\n",
       "2013.0     6792\n",
       "2012.0     1215\n",
       "2011.0      532\n",
       "2010.0       66\n",
       "Name: count, dtype: int64"
      ]
     },
     "execution_count": 101,
     "metadata": {},
     "output_type": "execute_result"
    }
   ],
   "source": [
    "# Se cuenta la cantidad de frecuencia de valores unicos que posee el campo \"Year\" nuevamente\n",
    "fecuencia_valores_Year = df_reviews['Year'].value_counts()\n",
    "fecuencia_valores_Year"
   ]
  },
  {
   "cell_type": "markdown",
   "metadata": {},
   "source": [
    "Esta decisión se justifica en un análisis externo de sobre Steam en la cual se encuentra que las reviews que no llevan el año en la fecha de posteo es por que fueron realizadas en el año en curso de esta manera como el último año que se tenía registro en el campo \"posted\" era el \"2015\" se asume que el año en curso es el \"2016\" y este pasa a reemplazar los valores Nulos que se tenian en estos campos de fechas"
   ]
  },
  {
   "cell_type": "code",
   "execution_count": 102,
   "metadata": {},
   "outputs": [
    {
     "data": {
      "text/html": [
       "<div>\n",
       "<style scoped>\n",
       "    .dataframe tbody tr th:only-of-type {\n",
       "        vertical-align: middle;\n",
       "    }\n",
       "\n",
       "    .dataframe tbody tr th {\n",
       "        vertical-align: top;\n",
       "    }\n",
       "\n",
       "    .dataframe thead th {\n",
       "        text-align: right;\n",
       "    }\n",
       "</style>\n",
       "<table border=\"1\" class=\"dataframe\">\n",
       "  <thead>\n",
       "    <tr style=\"text-align: right;\">\n",
       "      <th></th>\n",
       "      <th>user_id</th>\n",
       "      <th>user_url</th>\n",
       "      <th>reviews</th>\n",
       "      <th>funny</th>\n",
       "      <th>posted</th>\n",
       "      <th>last_edited</th>\n",
       "      <th>item_id</th>\n",
       "      <th>helpful</th>\n",
       "      <th>recommend</th>\n",
       "      <th>review</th>\n",
       "      <th>Date</th>\n",
       "      <th>Year</th>\n",
       "    </tr>\n",
       "  </thead>\n",
       "  <tbody>\n",
       "    <tr>\n",
       "      <th>0</th>\n",
       "      <td>76561197970982479</td>\n",
       "      <td>http://steamcommunity.com/profiles/76561197970...</td>\n",
       "      <td>{'funny': '', 'posted': 'Posted November 5, 20...</td>\n",
       "      <td></td>\n",
       "      <td>November 5, 2011.</td>\n",
       "      <td></td>\n",
       "      <td>1250</td>\n",
       "      <td>No ratings yet</td>\n",
       "      <td>True</td>\n",
       "      <td>Simple yet with great replayability. In my opi...</td>\n",
       "      <td>2011-11-05</td>\n",
       "      <td>2011</td>\n",
       "    </tr>\n",
       "    <tr>\n",
       "      <th>1</th>\n",
       "      <td>76561197970982479</td>\n",
       "      <td>http://steamcommunity.com/profiles/76561197970...</td>\n",
       "      <td>{'funny': '', 'posted': 'Posted July 15, 2011....</td>\n",
       "      <td></td>\n",
       "      <td>July 15, 2011.</td>\n",
       "      <td></td>\n",
       "      <td>22200</td>\n",
       "      <td>No ratings yet</td>\n",
       "      <td>True</td>\n",
       "      <td>It's unique and worth a playthrough.</td>\n",
       "      <td>2011-07-15</td>\n",
       "      <td>2011</td>\n",
       "    </tr>\n",
       "  </tbody>\n",
       "</table>\n",
       "</div>"
      ],
      "text/plain": [
       "             user_id                                           user_url  \\\n",
       "0  76561197970982479  http://steamcommunity.com/profiles/76561197970...   \n",
       "1  76561197970982479  http://steamcommunity.com/profiles/76561197970...   \n",
       "\n",
       "                                             reviews funny  \\\n",
       "0  {'funny': '', 'posted': 'Posted November 5, 20...         \n",
       "1  {'funny': '', 'posted': 'Posted July 15, 2011....         \n",
       "\n",
       "               posted last_edited item_id         helpful recommend  \\\n",
       "0   November 5, 2011.                1250  No ratings yet      True   \n",
       "1      July 15, 2011.               22200  No ratings yet      True   \n",
       "\n",
       "                                              review       Date  Year  \n",
       "0  Simple yet with great replayability. In my opi... 2011-11-05  2011  \n",
       "1               It's unique and worth a playthrough. 2011-07-15  2011  "
      ]
     },
     "execution_count": 102,
     "metadata": {},
     "output_type": "execute_result"
    }
   ],
   "source": [
    "# Se transforma los datos del campo \"Year\" de tipo float a tipo int\n",
    "df_reviews['Year'] = df_reviews['Year'].astype(int)\n",
    "df_reviews.head(2)"
   ]
  },
  {
   "cell_type": "code",
   "execution_count": 103,
   "metadata": {},
   "outputs": [
    {
     "data": {
      "text/html": [
       "<div>\n",
       "<style scoped>\n",
       "    .dataframe tbody tr th:only-of-type {\n",
       "        vertical-align: middle;\n",
       "    }\n",
       "\n",
       "    .dataframe tbody tr th {\n",
       "        vertical-align: top;\n",
       "    }\n",
       "\n",
       "    .dataframe thead th {\n",
       "        text-align: right;\n",
       "    }\n",
       "</style>\n",
       "<table border=\"1\" class=\"dataframe\">\n",
       "  <thead>\n",
       "    <tr style=\"text-align: right;\">\n",
       "      <th></th>\n",
       "      <th>user_id</th>\n",
       "      <th>user_url</th>\n",
       "      <th>reviews</th>\n",
       "      <th>funny</th>\n",
       "      <th>posted</th>\n",
       "      <th>last_edited</th>\n",
       "      <th>item_id</th>\n",
       "      <th>helpful</th>\n",
       "      <th>recommend</th>\n",
       "      <th>review</th>\n",
       "      <th>Date</th>\n",
       "      <th>Year</th>\n",
       "    </tr>\n",
       "  </thead>\n",
       "  <tbody>\n",
       "    <tr>\n",
       "      <th>0</th>\n",
       "      <td>76561197970982479</td>\n",
       "      <td>http://steamcommunity.com/profiles/76561197970...</td>\n",
       "      <td>{'funny': '', 'posted': 'Posted November 5, 20...</td>\n",
       "      <td></td>\n",
       "      <td>November 5, 2011</td>\n",
       "      <td></td>\n",
       "      <td>1250</td>\n",
       "      <td>No ratings yet</td>\n",
       "      <td>True</td>\n",
       "      <td>Simple yet with great replayability. In my opi...</td>\n",
       "      <td>2011-11-05</td>\n",
       "      <td>2011</td>\n",
       "    </tr>\n",
       "    <tr>\n",
       "      <th>1</th>\n",
       "      <td>76561197970982479</td>\n",
       "      <td>http://steamcommunity.com/profiles/76561197970...</td>\n",
       "      <td>{'funny': '', 'posted': 'Posted July 15, 2011....</td>\n",
       "      <td></td>\n",
       "      <td>July 15, 2011</td>\n",
       "      <td></td>\n",
       "      <td>22200</td>\n",
       "      <td>No ratings yet</td>\n",
       "      <td>True</td>\n",
       "      <td>It's unique and worth a playthrough.</td>\n",
       "      <td>2011-07-15</td>\n",
       "      <td>2011</td>\n",
       "    </tr>\n",
       "  </tbody>\n",
       "</table>\n",
       "</div>"
      ],
      "text/plain": [
       "             user_id                                           user_url  \\\n",
       "0  76561197970982479  http://steamcommunity.com/profiles/76561197970...   \n",
       "1  76561197970982479  http://steamcommunity.com/profiles/76561197970...   \n",
       "\n",
       "                                             reviews funny             posted  \\\n",
       "0  {'funny': '', 'posted': 'Posted November 5, 20...         November 5, 2011   \n",
       "1  {'funny': '', 'posted': 'Posted July 15, 2011....            July 15, 2011   \n",
       "\n",
       "  last_edited item_id         helpful recommend  \\\n",
       "0                1250  No ratings yet      True   \n",
       "1               22200  No ratings yet      True   \n",
       "\n",
       "                                              review       Date  Year  \n",
       "0  Simple yet with great replayability. In my opi... 2011-11-05  2011  \n",
       "1               It's unique and worth a playthrough. 2011-07-15  2011  "
      ]
     },
     "execution_count": 103,
     "metadata": {},
     "output_type": "execute_result"
    }
   ],
   "source": [
    "# Se elimina el punto '.' de todos las filas del campo \"posted\"\n",
    "df_reviews['posted'] = df_reviews['posted'].str.replace('.', '')\n",
    "df_reviews.head(2)"
   ]
  },
  {
   "cell_type": "markdown",
   "metadata": {},
   "source": [
    "Se procede a modificar el campo \"posted\" para poder añadir el año \"2016\" donde no lo tiene y de esta manera poder completar todos los valores del campo \"Date\""
   ]
  },
  {
   "cell_type": "code",
   "execution_count": 104,
   "metadata": {},
   "outputs": [
    {
     "name": "stderr",
     "output_type": "stream",
     "text": [
      "C:\\Users\\DavidssonPC\\AppData\\Local\\Temp\\ipykernel_7448\\182169166.py:2: UserWarning: This pattern is interpreted as a regular expression, and has match groups. To actually get the groups, use str.extract.\n",
      "  df_reviews.loc[~df_reviews['posted'].str.contains(patron_4_digitos, regex=True), 'posted'] += ', 2016' # Se crea una máscara booleana que es True para las filas donde no hay un patrón de 4 números consecutivos al final\n"
     ]
    }
   ],
   "source": [
    "patron_4_digitos = r'(\\d{4})$' # Se crea una variable para identificar los valores donde no haya un patrón de cuatro dígitos consecutivos\n",
    "df_reviews.loc[~df_reviews['posted'].str.contains(patron_4_digitos, regex=True), 'posted'] += ', 2016' # Se crea una máscara booleana que es True para las filas donde no hay un patrón de 4 números consecutivos al final"
   ]
  },
  {
   "cell_type": "markdown",
   "metadata": {},
   "source": [
    "El siguiente paso es hacer nuevamente el campo \"Date\" pero esta vez  se completaran todos los campos así no quedando valores Nulos"
   ]
  },
  {
   "cell_type": "code",
   "execution_count": 105,
   "metadata": {},
   "outputs": [],
   "source": [
    "# Se crea elimina el anterior campo \"Date\" y se transforma nuevamente\n",
    "df_reviews = df_reviews.drop(columns='Date')\n",
    "df_reviews['Date'] = pd.to_datetime(df_reviews['posted'], dayfirst=True, errors='coerce') # Con estos atributos se logra primero que se reconozca adecuadamente el formato de la fecha en el campo \"posted\" y segundo que lo que no se reconozca como datetime se convierta en una NaT \"Not a Time\""
   ]
  },
  {
   "cell_type": "code",
   "execution_count": 106,
   "metadata": {},
   "outputs": [
    {
     "data": {
      "text/plain": [
       "0"
      ]
     },
     "execution_count": 106,
     "metadata": {},
     "output_type": "execute_result"
    }
   ],
   "source": [
    "# Se nuevamente la variable para contabilizar la cantidad NaT's que hay en el nuevo campo \"Date\" del DataFrame\n",
    "cant_Not_Date = df_reviews['Date'].isna().sum()\n",
    "cant_Not_Date"
   ]
  },
  {
   "cell_type": "markdown",
   "metadata": {},
   "source": [
    "Esta vez ya no hay valores Nulos en los campos de fechas"
   ]
  },
  {
   "cell_type": "markdown",
   "metadata": {},
   "source": [
    "#### Eliminar campos no relevantes"
   ]
  },
  {
   "cell_type": "code",
   "execution_count": 107,
   "metadata": {},
   "outputs": [],
   "source": [
    "# Se crea una lista con el nombre de los campos que se van a eliminar del DataFrame\n",
    "campos_out = ['user_url','reviews','funny','posted','last_edited','helpful']"
   ]
  },
  {
   "cell_type": "code",
   "execution_count": 108,
   "metadata": {},
   "outputs": [
    {
     "data": {
      "text/html": [
       "<div>\n",
       "<style scoped>\n",
       "    .dataframe tbody tr th:only-of-type {\n",
       "        vertical-align: middle;\n",
       "    }\n",
       "\n",
       "    .dataframe tbody tr th {\n",
       "        vertical-align: top;\n",
       "    }\n",
       "\n",
       "    .dataframe thead th {\n",
       "        text-align: right;\n",
       "    }\n",
       "</style>\n",
       "<table border=\"1\" class=\"dataframe\">\n",
       "  <thead>\n",
       "    <tr style=\"text-align: right;\">\n",
       "      <th></th>\n",
       "      <th>user_id</th>\n",
       "      <th>item_id</th>\n",
       "      <th>recommend</th>\n",
       "      <th>review</th>\n",
       "      <th>Year</th>\n",
       "      <th>Date</th>\n",
       "    </tr>\n",
       "  </thead>\n",
       "  <tbody>\n",
       "    <tr>\n",
       "      <th>0</th>\n",
       "      <td>76561197970982479</td>\n",
       "      <td>1250</td>\n",
       "      <td>True</td>\n",
       "      <td>Simple yet with great replayability. In my opi...</td>\n",
       "      <td>2011</td>\n",
       "      <td>2011-11-05</td>\n",
       "    </tr>\n",
       "    <tr>\n",
       "      <th>1</th>\n",
       "      <td>76561197970982479</td>\n",
       "      <td>22200</td>\n",
       "      <td>True</td>\n",
       "      <td>It's unique and worth a playthrough.</td>\n",
       "      <td>2011</td>\n",
       "      <td>2011-07-15</td>\n",
       "    </tr>\n",
       "  </tbody>\n",
       "</table>\n",
       "</div>"
      ],
      "text/plain": [
       "             user_id item_id recommend  \\\n",
       "0  76561197970982479    1250      True   \n",
       "1  76561197970982479   22200      True   \n",
       "\n",
       "                                              review  Year       Date  \n",
       "0  Simple yet with great replayability. In my opi...  2011 2011-11-05  \n",
       "1               It's unique and worth a playthrough.  2011 2011-07-15  "
      ]
     },
     "execution_count": 108,
     "metadata": {},
     "output_type": "execute_result"
    }
   ],
   "source": [
    "df_reviews = df_reviews.drop(columns=campos_out)\n",
    "df_reviews.head(2)"
   ]
  },
  {
   "cell_type": "markdown",
   "metadata": {},
   "source": [
    "En este punto que ya se tienen los campos relevantes se procede a normalizar los nombre de estos"
   ]
  },
  {
   "cell_type": "code",
   "execution_count": 109,
   "metadata": {},
   "outputs": [
    {
     "data": {
      "text/html": [
       "<div>\n",
       "<style scoped>\n",
       "    .dataframe tbody tr th:only-of-type {\n",
       "        vertical-align: middle;\n",
       "    }\n",
       "\n",
       "    .dataframe tbody tr th {\n",
       "        vertical-align: top;\n",
       "    }\n",
       "\n",
       "    .dataframe thead th {\n",
       "        text-align: right;\n",
       "    }\n",
       "</style>\n",
       "<table border=\"1\" class=\"dataframe\">\n",
       "  <thead>\n",
       "    <tr style=\"text-align: right;\">\n",
       "      <th></th>\n",
       "      <th>User_Id</th>\n",
       "      <th>Item_Id</th>\n",
       "      <th>Recommend</th>\n",
       "      <th>Review</th>\n",
       "      <th>Year</th>\n",
       "      <th>Date</th>\n",
       "    </tr>\n",
       "  </thead>\n",
       "  <tbody>\n",
       "    <tr>\n",
       "      <th>0</th>\n",
       "      <td>76561197970982479</td>\n",
       "      <td>1250</td>\n",
       "      <td>True</td>\n",
       "      <td>Simple yet with great replayability. In my opi...</td>\n",
       "      <td>2011</td>\n",
       "      <td>2011-11-05</td>\n",
       "    </tr>\n",
       "    <tr>\n",
       "      <th>1</th>\n",
       "      <td>76561197970982479</td>\n",
       "      <td>22200</td>\n",
       "      <td>True</td>\n",
       "      <td>It's unique and worth a playthrough.</td>\n",
       "      <td>2011</td>\n",
       "      <td>2011-07-15</td>\n",
       "    </tr>\n",
       "  </tbody>\n",
       "</table>\n",
       "</div>"
      ],
      "text/plain": [
       "             User_Id Item_Id Recommend  \\\n",
       "0  76561197970982479    1250      True   \n",
       "1  76561197970982479   22200      True   \n",
       "\n",
       "                                              Review  Year       Date  \n",
       "0  Simple yet with great replayability. In my opi...  2011 2011-11-05  \n",
       "1               It's unique and worth a playthrough.  2011 2011-07-15  "
      ]
     },
     "execution_count": 109,
     "metadata": {},
     "output_type": "execute_result"
    }
   ],
   "source": [
    "df_reviews = df_reviews.rename(columns={'user_id': 'User_Id'})\n",
    "df_reviews = df_reviews.rename(columns={'item_id': 'Item_Id'})\n",
    "df_reviews = df_reviews.rename(columns={'recommend': 'Recommend'})\n",
    "df_reviews = df_reviews.rename(columns={'review': 'Review'})\n",
    "df_reviews.head(2)"
   ]
  },
  {
   "cell_type": "markdown",
   "metadata": {},
   "source": [
    "#### Se crea la columna 'sentiment_analysis' aplicando análisis de sentimiento con NLP"
   ]
  },
  {
   "cell_type": "markdown",
   "metadata": {},
   "source": [
    "Se importa la libreria nltk y se descarga el lexicon 'vader_lexicon' necesario para realizar el análisis de sentimientos"
   ]
  },
  {
   "cell_type": "code",
   "execution_count": 110,
   "metadata": {},
   "outputs": [
    {
     "name": "stderr",
     "output_type": "stream",
     "text": [
      "[nltk_data] Downloading package vader_lexicon to\n",
      "[nltk_data]     C:\\Users\\DavidssonPC\\AppData\\Roaming\\nltk_data...\n",
      "[nltk_data]   Package vader_lexicon is already up-to-date!\n"
     ]
    }
   ],
   "source": [
    "import nltk\n",
    "nltk.download('vader_lexicon')\n",
    "from nltk.sentiment.vader import SentimentIntensityAnalyzer"
   ]
  },
  {
   "cell_type": "markdown",
   "metadata": {},
   "source": [
    "Se crea la función que analizara los valores de la columna \"Review\" para darles un valor númerico según el análisis de sentimientos"
   ]
  },
  {
   "cell_type": "code",
   "execution_count": 111,
   "metadata": {},
   "outputs": [],
   "source": [
    "# Se inicializa el analizador de sentimientos \n",
    "AS = SentimentIntensityAnalyzer()\n",
    "\n",
    "# '0' si es malo \n",
    "# '1' si es neutral \n",
    "# '2' si es positivo\n",
    "\n",
    "# Funcion para asignar valores de acuerdo a la escala\n",
    "def puntaje_sentimiento(texto): # La variable de entrada de mi función seran los valores en formato str de la columna \"Review\"\n",
    "    if pd.isnull(texto) or texto == '': # Evalua si el valor es un Nulo o un string vacío\n",
    "        return 1 # Si es así retorna 1 que es un valor neutral\n",
    "    elif isinstance(texto, str): # Verifica que el \"texto\" se una instancia del tipo str\n",
    "        sentimiento = AS.polarity_scores(texto) # Se utiliza el analizador de sentimientos 'AS' para obtener un diccionario de puntajes de polarida y la función polarity_scores devuelve un diccionario que contiene puntajes para la polaridad positiva, negativa, neutra y un puntaje compuesto que resume la polaridad general del texto\n",
    "        puntaje_compuesto = sentimiento['compound'] # Se extrae el puntaje compuesto del diccionario de sentimientos\n",
    "        if puntaje_compuesto >= -0.05:\n",
    "            return 2 # es positivo\n",
    "        elif puntaje_compuesto <= -0.05:\n",
    "            return 0 # es malo\n",
    "        else:\n",
    "            return 1 # es neutral\n",
    "    else:\n",
    "        return 1 # Si no cumple ninguna condición es neutral"
   ]
  },
  {
   "cell_type": "code",
   "execution_count": 112,
   "metadata": {},
   "outputs": [
    {
     "data": {
      "text/html": [
       "<div>\n",
       "<style scoped>\n",
       "    .dataframe tbody tr th:only-of-type {\n",
       "        vertical-align: middle;\n",
       "    }\n",
       "\n",
       "    .dataframe tbody tr th {\n",
       "        vertical-align: top;\n",
       "    }\n",
       "\n",
       "    .dataframe thead th {\n",
       "        text-align: right;\n",
       "    }\n",
       "</style>\n",
       "<table border=\"1\" class=\"dataframe\">\n",
       "  <thead>\n",
       "    <tr style=\"text-align: right;\">\n",
       "      <th></th>\n",
       "      <th>User_Id</th>\n",
       "      <th>Item_Id</th>\n",
       "      <th>Recommend</th>\n",
       "      <th>Review</th>\n",
       "      <th>Year</th>\n",
       "      <th>Date</th>\n",
       "      <th>Sentiment_Analysis</th>\n",
       "    </tr>\n",
       "  </thead>\n",
       "  <tbody>\n",
       "    <tr>\n",
       "      <th>0</th>\n",
       "      <td>76561197970982479</td>\n",
       "      <td>1250</td>\n",
       "      <td>True</td>\n",
       "      <td>Simple yet with great replayability. In my opi...</td>\n",
       "      <td>2011</td>\n",
       "      <td>2011-11-05</td>\n",
       "      <td>2</td>\n",
       "    </tr>\n",
       "    <tr>\n",
       "      <th>1</th>\n",
       "      <td>76561197970982479</td>\n",
       "      <td>22200</td>\n",
       "      <td>True</td>\n",
       "      <td>It's unique and worth a playthrough.</td>\n",
       "      <td>2011</td>\n",
       "      <td>2011-07-15</td>\n",
       "      <td>2</td>\n",
       "    </tr>\n",
       "  </tbody>\n",
       "</table>\n",
       "</div>"
      ],
      "text/plain": [
       "             User_Id Item_Id Recommend  \\\n",
       "0  76561197970982479    1250      True   \n",
       "1  76561197970982479   22200      True   \n",
       "\n",
       "                                              Review  Year       Date  \\\n",
       "0  Simple yet with great replayability. In my opi...  2011 2011-11-05   \n",
       "1               It's unique and worth a playthrough.  2011 2011-07-15   \n",
       "\n",
       "   Sentiment_Analysis  \n",
       "0                   2  \n",
       "1                   2  "
      ]
     },
     "execution_count": 112,
     "metadata": {},
     "output_type": "execute_result"
    }
   ],
   "source": [
    "# Se convierte la columna 'Review' a formato str\n",
    "df_reviews['Review'] = df_reviews['Review'].astype(str)\n",
    "\n",
    "# Se aplica la función puntaje_sentimiento a la columna 'Review' creando una nueva columna llamada 'Sentiment_Analysis' que contendra los puntajes de este análisis\n",
    "df_reviews['Sentiment_Analysis'] = df_reviews['Review'].apply(puntaje_sentimiento)\n",
    "df_reviews.head(2)\n",
    "\n",
    "# Tardo 20.7 seg"
   ]
  },
  {
   "cell_type": "markdown",
   "metadata": {},
   "source": [
    "Para este punto ya no es necesaria la columna \"Review\" y tal como se pide en las consignas esta ya cumplió su función y fue reemplazada por \"Sentiment_Analysis\" por lo caul va a ser eliminada"
   ]
  },
  {
   "cell_type": "code",
   "execution_count": 113,
   "metadata": {},
   "outputs": [
    {
     "data": {
      "text/html": [
       "<div>\n",
       "<style scoped>\n",
       "    .dataframe tbody tr th:only-of-type {\n",
       "        vertical-align: middle;\n",
       "    }\n",
       "\n",
       "    .dataframe tbody tr th {\n",
       "        vertical-align: top;\n",
       "    }\n",
       "\n",
       "    .dataframe thead th {\n",
       "        text-align: right;\n",
       "    }\n",
       "</style>\n",
       "<table border=\"1\" class=\"dataframe\">\n",
       "  <thead>\n",
       "    <tr style=\"text-align: right;\">\n",
       "      <th></th>\n",
       "      <th>User_Id</th>\n",
       "      <th>Item_Id</th>\n",
       "      <th>Recommend</th>\n",
       "      <th>Year</th>\n",
       "      <th>Date</th>\n",
       "      <th>Sentiment_Analysis</th>\n",
       "    </tr>\n",
       "  </thead>\n",
       "  <tbody>\n",
       "    <tr>\n",
       "      <th>0</th>\n",
       "      <td>76561197970982479</td>\n",
       "      <td>1250</td>\n",
       "      <td>True</td>\n",
       "      <td>2011</td>\n",
       "      <td>2011-11-05</td>\n",
       "      <td>2</td>\n",
       "    </tr>\n",
       "    <tr>\n",
       "      <th>1</th>\n",
       "      <td>76561197970982479</td>\n",
       "      <td>22200</td>\n",
       "      <td>True</td>\n",
       "      <td>2011</td>\n",
       "      <td>2011-07-15</td>\n",
       "      <td>2</td>\n",
       "    </tr>\n",
       "  </tbody>\n",
       "</table>\n",
       "</div>"
      ],
      "text/plain": [
       "             User_Id Item_Id Recommend  Year       Date  Sentiment_Analysis\n",
       "0  76561197970982479    1250      True  2011 2011-11-05                   2\n",
       "1  76561197970982479   22200      True  2011 2011-07-15                   2"
      ]
     },
     "execution_count": 113,
     "metadata": {},
     "output_type": "execute_result"
    }
   ],
   "source": [
    "df_reviews = df_reviews.drop(columns=['Review']) # Se elimina el campo 'Review'\n",
    "df_reviews.head(2)"
   ]
  },
  {
   "cell_type": "code",
   "execution_count": 114,
   "metadata": {},
   "outputs": [
    {
     "data": {
      "text/html": [
       "<div>\n",
       "<style scoped>\n",
       "    .dataframe tbody tr th:only-of-type {\n",
       "        vertical-align: middle;\n",
       "    }\n",
       "\n",
       "    .dataframe tbody tr th {\n",
       "        vertical-align: top;\n",
       "    }\n",
       "\n",
       "    .dataframe thead th {\n",
       "        text-align: right;\n",
       "    }\n",
       "</style>\n",
       "<table border=\"1\" class=\"dataframe\">\n",
       "  <thead>\n",
       "    <tr style=\"text-align: right;\">\n",
       "      <th></th>\n",
       "      <th>User_Id</th>\n",
       "      <th>Item_Id</th>\n",
       "      <th>Recommend</th>\n",
       "      <th>Year</th>\n",
       "      <th>Date</th>\n",
       "      <th>Sentiment_Analysis</th>\n",
       "    </tr>\n",
       "  </thead>\n",
       "  <tbody>\n",
       "    <tr>\n",
       "      <th>0</th>\n",
       "      <td>76561197970982479</td>\n",
       "      <td>1250</td>\n",
       "      <td>True</td>\n",
       "      <td>2011</td>\n",
       "      <td>2011-11-05</td>\n",
       "      <td>2</td>\n",
       "    </tr>\n",
       "    <tr>\n",
       "      <th>1</th>\n",
       "      <td>76561197970982479</td>\n",
       "      <td>22200</td>\n",
       "      <td>True</td>\n",
       "      <td>2011</td>\n",
       "      <td>2011-07-15</td>\n",
       "      <td>2</td>\n",
       "    </tr>\n",
       "    <tr>\n",
       "      <th>2</th>\n",
       "      <td>76561197970982479</td>\n",
       "      <td>43110</td>\n",
       "      <td>True</td>\n",
       "      <td>2011</td>\n",
       "      <td>2011-04-21</td>\n",
       "      <td>2</td>\n",
       "    </tr>\n",
       "    <tr>\n",
       "      <th>3</th>\n",
       "      <td>js41637</td>\n",
       "      <td>251610</td>\n",
       "      <td>True</td>\n",
       "      <td>2014</td>\n",
       "      <td>2014-06-24</td>\n",
       "      <td>2</td>\n",
       "    </tr>\n",
       "    <tr>\n",
       "      <th>4</th>\n",
       "      <td>js41637</td>\n",
       "      <td>227300</td>\n",
       "      <td>True</td>\n",
       "      <td>2013</td>\n",
       "      <td>2013-09-08</td>\n",
       "      <td>2</td>\n",
       "    </tr>\n",
       "    <tr>\n",
       "      <th>...</th>\n",
       "      <td>...</td>\n",
       "      <td>...</td>\n",
       "      <td>...</td>\n",
       "      <td>...</td>\n",
       "      <td>...</td>\n",
       "      <td>...</td>\n",
       "    </tr>\n",
       "    <tr>\n",
       "      <th>59328</th>\n",
       "      <td>76561198312638244</td>\n",
       "      <td>70</td>\n",
       "      <td>True</td>\n",
       "      <td>2016</td>\n",
       "      <td>2016-07-10</td>\n",
       "      <td>2</td>\n",
       "    </tr>\n",
       "    <tr>\n",
       "      <th>59329</th>\n",
       "      <td>76561198312638244</td>\n",
       "      <td>362890</td>\n",
       "      <td>True</td>\n",
       "      <td>2016</td>\n",
       "      <td>2016-07-08</td>\n",
       "      <td>2</td>\n",
       "    </tr>\n",
       "    <tr>\n",
       "      <th>59330</th>\n",
       "      <td>LydiaMorley</td>\n",
       "      <td>273110</td>\n",
       "      <td>True</td>\n",
       "      <td>2016</td>\n",
       "      <td>2016-07-03</td>\n",
       "      <td>2</td>\n",
       "    </tr>\n",
       "    <tr>\n",
       "      <th>59331</th>\n",
       "      <td>LydiaMorley</td>\n",
       "      <td>730</td>\n",
       "      <td>True</td>\n",
       "      <td>2016</td>\n",
       "      <td>2016-07-20</td>\n",
       "      <td>2</td>\n",
       "    </tr>\n",
       "    <tr>\n",
       "      <th>59332</th>\n",
       "      <td>LydiaMorley</td>\n",
       "      <td>440</td>\n",
       "      <td>True</td>\n",
       "      <td>2016</td>\n",
       "      <td>2016-07-02</td>\n",
       "      <td>2</td>\n",
       "    </tr>\n",
       "  </tbody>\n",
       "</table>\n",
       "<p>59305 rows × 6 columns</p>\n",
       "</div>"
      ],
      "text/plain": [
       "                 User_Id Item_Id Recommend  Year       Date  \\\n",
       "0      76561197970982479    1250      True  2011 2011-11-05   \n",
       "1      76561197970982479   22200      True  2011 2011-07-15   \n",
       "2      76561197970982479   43110      True  2011 2011-04-21   \n",
       "3                js41637  251610      True  2014 2014-06-24   \n",
       "4                js41637  227300      True  2013 2013-09-08   \n",
       "...                  ...     ...       ...   ...        ...   \n",
       "59328  76561198312638244      70      True  2016 2016-07-10   \n",
       "59329  76561198312638244  362890      True  2016 2016-07-08   \n",
       "59330        LydiaMorley  273110      True  2016 2016-07-03   \n",
       "59331        LydiaMorley     730      True  2016 2016-07-20   \n",
       "59332        LydiaMorley     440      True  2016 2016-07-02   \n",
       "\n",
       "       Sentiment_Analysis  \n",
       "0                       2  \n",
       "1                       2  \n",
       "2                       2  \n",
       "3                       2  \n",
       "4                       2  \n",
       "...                   ...  \n",
       "59328                   2  \n",
       "59329                   2  \n",
       "59330                   2  \n",
       "59331                   2  \n",
       "59332                   2  \n",
       "\n",
       "[59305 rows x 6 columns]"
      ]
     },
     "execution_count": 114,
     "metadata": {},
     "output_type": "execute_result"
    }
   ],
   "source": [
    "df_reviews"
   ]
  },
  {
   "cell_type": "markdown",
   "metadata": {},
   "source": [
    "### Se guarda el DataFrame en formatos mas ligeros"
   ]
  },
  {
   "cell_type": "code",
   "execution_count": 115,
   "metadata": {},
   "outputs": [],
   "source": [
    "df_reviews.to_csv('user_reviews.csv', index=False) # Se guarda el DataFrame en formato CSV"
   ]
  },
  {
   "cell_type": "code",
   "execution_count": 116,
   "metadata": {},
   "outputs": [
    {
     "data": {
      "text/html": [
       "<div>\n",
       "<style scoped>\n",
       "    .dataframe tbody tr th:only-of-type {\n",
       "        vertical-align: middle;\n",
       "    }\n",
       "\n",
       "    .dataframe tbody tr th {\n",
       "        vertical-align: top;\n",
       "    }\n",
       "\n",
       "    .dataframe thead th {\n",
       "        text-align: right;\n",
       "    }\n",
       "</style>\n",
       "<table border=\"1\" class=\"dataframe\">\n",
       "  <thead>\n",
       "    <tr style=\"text-align: right;\">\n",
       "      <th></th>\n",
       "      <th>User_Id</th>\n",
       "      <th>Item_Id</th>\n",
       "      <th>Recommend</th>\n",
       "      <th>Year</th>\n",
       "      <th>Date</th>\n",
       "      <th>Sentiment_Analysis</th>\n",
       "    </tr>\n",
       "  </thead>\n",
       "  <tbody>\n",
       "    <tr>\n",
       "      <th>0</th>\n",
       "      <td>76561197970982479</td>\n",
       "      <td>1250</td>\n",
       "      <td>True</td>\n",
       "      <td>2011</td>\n",
       "      <td>2011-11-05</td>\n",
       "      <td>2</td>\n",
       "    </tr>\n",
       "    <tr>\n",
       "      <th>1</th>\n",
       "      <td>76561197970982479</td>\n",
       "      <td>22200</td>\n",
       "      <td>True</td>\n",
       "      <td>2011</td>\n",
       "      <td>2011-07-15</td>\n",
       "      <td>2</td>\n",
       "    </tr>\n",
       "    <tr>\n",
       "      <th>2</th>\n",
       "      <td>76561197970982479</td>\n",
       "      <td>43110</td>\n",
       "      <td>True</td>\n",
       "      <td>2011</td>\n",
       "      <td>2011-04-21</td>\n",
       "      <td>2</td>\n",
       "    </tr>\n",
       "    <tr>\n",
       "      <th>3</th>\n",
       "      <td>js41637</td>\n",
       "      <td>251610</td>\n",
       "      <td>True</td>\n",
       "      <td>2014</td>\n",
       "      <td>2014-06-24</td>\n",
       "      <td>2</td>\n",
       "    </tr>\n",
       "    <tr>\n",
       "      <th>4</th>\n",
       "      <td>js41637</td>\n",
       "      <td>227300</td>\n",
       "      <td>True</td>\n",
       "      <td>2013</td>\n",
       "      <td>2013-09-08</td>\n",
       "      <td>2</td>\n",
       "    </tr>\n",
       "    <tr>\n",
       "      <th>...</th>\n",
       "      <td>...</td>\n",
       "      <td>...</td>\n",
       "      <td>...</td>\n",
       "      <td>...</td>\n",
       "      <td>...</td>\n",
       "      <td>...</td>\n",
       "    </tr>\n",
       "    <tr>\n",
       "      <th>59300</th>\n",
       "      <td>76561198312638244</td>\n",
       "      <td>70</td>\n",
       "      <td>True</td>\n",
       "      <td>2016</td>\n",
       "      <td>2016-07-10</td>\n",
       "      <td>2</td>\n",
       "    </tr>\n",
       "    <tr>\n",
       "      <th>59301</th>\n",
       "      <td>76561198312638244</td>\n",
       "      <td>362890</td>\n",
       "      <td>True</td>\n",
       "      <td>2016</td>\n",
       "      <td>2016-07-08</td>\n",
       "      <td>2</td>\n",
       "    </tr>\n",
       "    <tr>\n",
       "      <th>59302</th>\n",
       "      <td>LydiaMorley</td>\n",
       "      <td>273110</td>\n",
       "      <td>True</td>\n",
       "      <td>2016</td>\n",
       "      <td>2016-07-03</td>\n",
       "      <td>2</td>\n",
       "    </tr>\n",
       "    <tr>\n",
       "      <th>59303</th>\n",
       "      <td>LydiaMorley</td>\n",
       "      <td>730</td>\n",
       "      <td>True</td>\n",
       "      <td>2016</td>\n",
       "      <td>2016-07-20</td>\n",
       "      <td>2</td>\n",
       "    </tr>\n",
       "    <tr>\n",
       "      <th>59304</th>\n",
       "      <td>LydiaMorley</td>\n",
       "      <td>440</td>\n",
       "      <td>True</td>\n",
       "      <td>2016</td>\n",
       "      <td>2016-07-02</td>\n",
       "      <td>2</td>\n",
       "    </tr>\n",
       "  </tbody>\n",
       "</table>\n",
       "<p>59305 rows × 6 columns</p>\n",
       "</div>"
      ],
      "text/plain": [
       "                 User_Id  Item_Id  Recommend  Year        Date  \\\n",
       "0      76561197970982479     1250       True  2011  2011-11-05   \n",
       "1      76561197970982479    22200       True  2011  2011-07-15   \n",
       "2      76561197970982479    43110       True  2011  2011-04-21   \n",
       "3                js41637   251610       True  2014  2014-06-24   \n",
       "4                js41637   227300       True  2013  2013-09-08   \n",
       "...                  ...      ...        ...   ...         ...   \n",
       "59300  76561198312638244       70       True  2016  2016-07-10   \n",
       "59301  76561198312638244   362890       True  2016  2016-07-08   \n",
       "59302        LydiaMorley   273110       True  2016  2016-07-03   \n",
       "59303        LydiaMorley      730       True  2016  2016-07-20   \n",
       "59304        LydiaMorley      440       True  2016  2016-07-02   \n",
       "\n",
       "       Sentiment_Analysis  \n",
       "0                       2  \n",
       "1                       2  \n",
       "2                       2  \n",
       "3                       2  \n",
       "4                       2  \n",
       "...                   ...  \n",
       "59300                   2  \n",
       "59301                   2  \n",
       "59302                   2  \n",
       "59303                   2  \n",
       "59304                   2  \n",
       "\n",
       "[59305 rows x 6 columns]"
      ]
     },
     "execution_count": 116,
     "metadata": {},
     "output_type": "execute_result"
    }
   ],
   "source": [
    "# Se convierte el archivo CSV a parquet bajo la compresión \"gzip\"\n",
    "ruta_csv_reviews = 'E:\\\\AAADATOS\\\\Henry\\\\AA_Data_Science\\\\MATERIAL_PI\\\\PI_ML_OPS_STEAM_DSFT17\\\\user_reviews.csv' # Se crea una variable con la ruta del archivo CSV\n",
    "df_reviews_temp = pd.read_csv(ruta_csv_reviews) # Se lee ese CSV en un nuevo DataFrame temporal para segurar como estan los datos\n",
    "df_reviews_temp"
   ]
  },
  {
   "cell_type": "markdown",
   "metadata": {},
   "source": [
    "Se guarada el DataFrame temporal en formato comprimido gzip"
   ]
  },
  {
   "cell_type": "code",
   "execution_count": 117,
   "metadata": {},
   "outputs": [],
   "source": [
    "df_reviews_temp.to_csv('user_reviews.gzip', compression='gzip', index=False)"
   ]
  },
  {
   "cell_type": "code",
   "execution_count": 118,
   "metadata": {},
   "outputs": [
    {
     "data": {
      "text/html": [
       "<div>\n",
       "<style scoped>\n",
       "    .dataframe tbody tr th:only-of-type {\n",
       "        vertical-align: middle;\n",
       "    }\n",
       "\n",
       "    .dataframe tbody tr th {\n",
       "        vertical-align: top;\n",
       "    }\n",
       "\n",
       "    .dataframe thead th {\n",
       "        text-align: right;\n",
       "    }\n",
       "</style>\n",
       "<table border=\"1\" class=\"dataframe\">\n",
       "  <thead>\n",
       "    <tr style=\"text-align: right;\">\n",
       "      <th></th>\n",
       "      <th>User_Id</th>\n",
       "      <th>Item_Id</th>\n",
       "      <th>Recommend</th>\n",
       "      <th>Year</th>\n",
       "      <th>Date</th>\n",
       "      <th>Sentiment_Analysis</th>\n",
       "    </tr>\n",
       "  </thead>\n",
       "  <tbody>\n",
       "    <tr>\n",
       "      <th>0</th>\n",
       "      <td>76561197970982479</td>\n",
       "      <td>1250</td>\n",
       "      <td>True</td>\n",
       "      <td>2011</td>\n",
       "      <td>2011-11-05</td>\n",
       "      <td>2</td>\n",
       "    </tr>\n",
       "    <tr>\n",
       "      <th>1</th>\n",
       "      <td>76561197970982479</td>\n",
       "      <td>22200</td>\n",
       "      <td>True</td>\n",
       "      <td>2011</td>\n",
       "      <td>2011-07-15</td>\n",
       "      <td>2</td>\n",
       "    </tr>\n",
       "    <tr>\n",
       "      <th>2</th>\n",
       "      <td>76561197970982479</td>\n",
       "      <td>43110</td>\n",
       "      <td>True</td>\n",
       "      <td>2011</td>\n",
       "      <td>2011-04-21</td>\n",
       "      <td>2</td>\n",
       "    </tr>\n",
       "    <tr>\n",
       "      <th>3</th>\n",
       "      <td>js41637</td>\n",
       "      <td>251610</td>\n",
       "      <td>True</td>\n",
       "      <td>2014</td>\n",
       "      <td>2014-06-24</td>\n",
       "      <td>2</td>\n",
       "    </tr>\n",
       "    <tr>\n",
       "      <th>4</th>\n",
       "      <td>js41637</td>\n",
       "      <td>227300</td>\n",
       "      <td>True</td>\n",
       "      <td>2013</td>\n",
       "      <td>2013-09-08</td>\n",
       "      <td>2</td>\n",
       "    </tr>\n",
       "    <tr>\n",
       "      <th>...</th>\n",
       "      <td>...</td>\n",
       "      <td>...</td>\n",
       "      <td>...</td>\n",
       "      <td>...</td>\n",
       "      <td>...</td>\n",
       "      <td>...</td>\n",
       "    </tr>\n",
       "    <tr>\n",
       "      <th>59300</th>\n",
       "      <td>76561198312638244</td>\n",
       "      <td>70</td>\n",
       "      <td>True</td>\n",
       "      <td>2016</td>\n",
       "      <td>2016-07-10</td>\n",
       "      <td>2</td>\n",
       "    </tr>\n",
       "    <tr>\n",
       "      <th>59301</th>\n",
       "      <td>76561198312638244</td>\n",
       "      <td>362890</td>\n",
       "      <td>True</td>\n",
       "      <td>2016</td>\n",
       "      <td>2016-07-08</td>\n",
       "      <td>2</td>\n",
       "    </tr>\n",
       "    <tr>\n",
       "      <th>59302</th>\n",
       "      <td>LydiaMorley</td>\n",
       "      <td>273110</td>\n",
       "      <td>True</td>\n",
       "      <td>2016</td>\n",
       "      <td>2016-07-03</td>\n",
       "      <td>2</td>\n",
       "    </tr>\n",
       "    <tr>\n",
       "      <th>59303</th>\n",
       "      <td>LydiaMorley</td>\n",
       "      <td>730</td>\n",
       "      <td>True</td>\n",
       "      <td>2016</td>\n",
       "      <td>2016-07-20</td>\n",
       "      <td>2</td>\n",
       "    </tr>\n",
       "    <tr>\n",
       "      <th>59304</th>\n",
       "      <td>LydiaMorley</td>\n",
       "      <td>440</td>\n",
       "      <td>True</td>\n",
       "      <td>2016</td>\n",
       "      <td>2016-07-02</td>\n",
       "      <td>2</td>\n",
       "    </tr>\n",
       "  </tbody>\n",
       "</table>\n",
       "<p>59305 rows × 6 columns</p>\n",
       "</div>"
      ],
      "text/plain": [
       "                 User_Id  Item_Id  Recommend  Year        Date  \\\n",
       "0      76561197970982479     1250       True  2011  2011-11-05   \n",
       "1      76561197970982479    22200       True  2011  2011-07-15   \n",
       "2      76561197970982479    43110       True  2011  2011-04-21   \n",
       "3                js41637   251610       True  2014  2014-06-24   \n",
       "4                js41637   227300       True  2013  2013-09-08   \n",
       "...                  ...      ...        ...   ...         ...   \n",
       "59300  76561198312638244       70       True  2016  2016-07-10   \n",
       "59301  76561198312638244   362890       True  2016  2016-07-08   \n",
       "59302        LydiaMorley   273110       True  2016  2016-07-03   \n",
       "59303        LydiaMorley      730       True  2016  2016-07-20   \n",
       "59304        LydiaMorley      440       True  2016  2016-07-02   \n",
       "\n",
       "       Sentiment_Analysis  \n",
       "0                       2  \n",
       "1                       2  \n",
       "2                       2  \n",
       "3                       2  \n",
       "4                       2  \n",
       "...                   ...  \n",
       "59300                   2  \n",
       "59301                   2  \n",
       "59302                   2  \n",
       "59303                   2  \n",
       "59304                   2  \n",
       "\n",
       "[59305 rows x 6 columns]"
      ]
     },
     "execution_count": 118,
     "metadata": {},
     "output_type": "execute_result"
    }
   ],
   "source": [
    "# Se verifica que el archivo gzip comprimido pueda ser leido de manera efectiva y que no hayan problemas en los datos que este arroja\n",
    "df_reviews_parquet = pd.read_csv('user_reviews.gzip', compression='gzip')\n",
    "df_reviews_parquet"
   ]
  },
  {
   "cell_type": "code",
   "execution_count": 119,
   "metadata": {},
   "outputs": [
    {
     "name": "stdout",
     "output_type": "stream",
     "text": [
      "<class 'pandas.core.frame.DataFrame'>\n",
      "RangeIndex: 59305 entries, 0 to 59304\n",
      "Data columns (total 6 columns):\n",
      " #   Column              Non-Null Count  Dtype \n",
      "---  ------              --------------  ----- \n",
      " 0   User_Id             59305 non-null  object\n",
      " 1   Item_Id             59305 non-null  int64 \n",
      " 2   Recommend           59305 non-null  bool  \n",
      " 3   Year                59305 non-null  int64 \n",
      " 4   Date                59305 non-null  object\n",
      " 5   Sentiment_Analysis  59305 non-null  int64 \n",
      "dtypes: bool(1), int64(3), object(2)\n",
      "memory usage: 2.3+ MB\n"
     ]
    }
   ],
   "source": [
    "df_reviews_parquet.info()"
   ]
  },
  {
   "cell_type": "markdown",
   "metadata": {},
   "source": [
    "## Data Set australian_users_items.json"
   ]
  },
  {
   "cell_type": "code",
   "execution_count": 3,
   "metadata": {},
   "outputs": [],
   "source": [
    "# Se inicializa una lista vacia donde alamcenare los datso del archivo .JSON\n",
    "filas = []\n",
    "# Se abre el archivo .JSON con el modulo 'with'\n",
    "with open('E:\\\\AAADATOS\\\\Henry\\\\AA_Data_Science\\\\MATERIAL_PI\\\\DATA_PI MLOps - STEAM\\\\Data_sets\\\\australian_users_items.json', 'r', encoding='utf-8') as archivo:\n",
    "    for line in archivo.readlines():\n",
    "        filas.append(ast.literal_eval(line))"
   ]
  },
  {
   "cell_type": "code",
   "execution_count": 4,
   "metadata": {},
   "outputs": [
    {
     "data": {
      "text/html": [
       "<div>\n",
       "<style scoped>\n",
       "    .dataframe tbody tr th:only-of-type {\n",
       "        vertical-align: middle;\n",
       "    }\n",
       "\n",
       "    .dataframe tbody tr th {\n",
       "        vertical-align: top;\n",
       "    }\n",
       "\n",
       "    .dataframe thead th {\n",
       "        text-align: right;\n",
       "    }\n",
       "</style>\n",
       "<table border=\"1\" class=\"dataframe\">\n",
       "  <thead>\n",
       "    <tr style=\"text-align: right;\">\n",
       "      <th></th>\n",
       "      <th>user_id</th>\n",
       "      <th>items_count</th>\n",
       "      <th>steam_id</th>\n",
       "      <th>user_url</th>\n",
       "      <th>items</th>\n",
       "    </tr>\n",
       "  </thead>\n",
       "  <tbody>\n",
       "    <tr>\n",
       "      <th>0</th>\n",
       "      <td>76561197970982479</td>\n",
       "      <td>277</td>\n",
       "      <td>76561197970982479</td>\n",
       "      <td>http://steamcommunity.com/profiles/76561197970...</td>\n",
       "      <td>[{'item_id': '10', 'item_name': 'Counter-Strik...</td>\n",
       "    </tr>\n",
       "    <tr>\n",
       "      <th>1</th>\n",
       "      <td>js41637</td>\n",
       "      <td>888</td>\n",
       "      <td>76561198035864385</td>\n",
       "      <td>http://steamcommunity.com/id/js41637</td>\n",
       "      <td>[{'item_id': '10', 'item_name': 'Counter-Strik...</td>\n",
       "    </tr>\n",
       "    <tr>\n",
       "      <th>2</th>\n",
       "      <td>evcentric</td>\n",
       "      <td>137</td>\n",
       "      <td>76561198007712555</td>\n",
       "      <td>http://steamcommunity.com/id/evcentric</td>\n",
       "      <td>[{'item_id': '1200', 'item_name': 'Red Orchest...</td>\n",
       "    </tr>\n",
       "    <tr>\n",
       "      <th>3</th>\n",
       "      <td>Riot-Punch</td>\n",
       "      <td>328</td>\n",
       "      <td>76561197963445855</td>\n",
       "      <td>http://steamcommunity.com/id/Riot-Punch</td>\n",
       "      <td>[{'item_id': '10', 'item_name': 'Counter-Strik...</td>\n",
       "    </tr>\n",
       "    <tr>\n",
       "      <th>4</th>\n",
       "      <td>doctr</td>\n",
       "      <td>541</td>\n",
       "      <td>76561198002099482</td>\n",
       "      <td>http://steamcommunity.com/id/doctr</td>\n",
       "      <td>[{'item_id': '300', 'item_name': 'Day of Defea...</td>\n",
       "    </tr>\n",
       "    <tr>\n",
       "      <th>...</th>\n",
       "      <td>...</td>\n",
       "      <td>...</td>\n",
       "      <td>...</td>\n",
       "      <td>...</td>\n",
       "      <td>...</td>\n",
       "    </tr>\n",
       "    <tr>\n",
       "      <th>88305</th>\n",
       "      <td>76561198323066619</td>\n",
       "      <td>22</td>\n",
       "      <td>76561198323066619</td>\n",
       "      <td>http://steamcommunity.com/profiles/76561198323...</td>\n",
       "      <td>[{'item_id': '413850', 'item_name': 'CS:GO Pla...</td>\n",
       "    </tr>\n",
       "    <tr>\n",
       "      <th>88306</th>\n",
       "      <td>76561198326700687</td>\n",
       "      <td>177</td>\n",
       "      <td>76561198326700687</td>\n",
       "      <td>http://steamcommunity.com/profiles/76561198326...</td>\n",
       "      <td>[{'item_id': '11020', 'item_name': 'TrackMania...</td>\n",
       "    </tr>\n",
       "    <tr>\n",
       "      <th>88307</th>\n",
       "      <td>XxLaughingJackClown77xX</td>\n",
       "      <td>0</td>\n",
       "      <td>76561198328759259</td>\n",
       "      <td>http://steamcommunity.com/id/XxLaughingJackClo...</td>\n",
       "      <td>[]</td>\n",
       "    </tr>\n",
       "    <tr>\n",
       "      <th>88308</th>\n",
       "      <td>76561198329548331</td>\n",
       "      <td>7</td>\n",
       "      <td>76561198329548331</td>\n",
       "      <td>http://steamcommunity.com/profiles/76561198329...</td>\n",
       "      <td>[{'item_id': '304930', 'item_name': 'Unturned'...</td>\n",
       "    </tr>\n",
       "    <tr>\n",
       "      <th>88309</th>\n",
       "      <td>edward_tremethick</td>\n",
       "      <td>0</td>\n",
       "      <td>76561198331598578</td>\n",
       "      <td>http://steamcommunity.com/id/edward_tremethick</td>\n",
       "      <td>[]</td>\n",
       "    </tr>\n",
       "  </tbody>\n",
       "</table>\n",
       "<p>88310 rows × 5 columns</p>\n",
       "</div>"
      ],
      "text/plain": [
       "                       user_id  items_count           steam_id  \\\n",
       "0            76561197970982479          277  76561197970982479   \n",
       "1                      js41637          888  76561198035864385   \n",
       "2                    evcentric          137  76561198007712555   \n",
       "3                   Riot-Punch          328  76561197963445855   \n",
       "4                        doctr          541  76561198002099482   \n",
       "...                        ...          ...                ...   \n",
       "88305        76561198323066619           22  76561198323066619   \n",
       "88306        76561198326700687          177  76561198326700687   \n",
       "88307  XxLaughingJackClown77xX            0  76561198328759259   \n",
       "88308        76561198329548331            7  76561198329548331   \n",
       "88309        edward_tremethick            0  76561198331598578   \n",
       "\n",
       "                                                user_url  \\\n",
       "0      http://steamcommunity.com/profiles/76561197970...   \n",
       "1                   http://steamcommunity.com/id/js41637   \n",
       "2                 http://steamcommunity.com/id/evcentric   \n",
       "3                http://steamcommunity.com/id/Riot-Punch   \n",
       "4                     http://steamcommunity.com/id/doctr   \n",
       "...                                                  ...   \n",
       "88305  http://steamcommunity.com/profiles/76561198323...   \n",
       "88306  http://steamcommunity.com/profiles/76561198326...   \n",
       "88307  http://steamcommunity.com/id/XxLaughingJackClo...   \n",
       "88308  http://steamcommunity.com/profiles/76561198329...   \n",
       "88309     http://steamcommunity.com/id/edward_tremethick   \n",
       "\n",
       "                                                   items  \n",
       "0      [{'item_id': '10', 'item_name': 'Counter-Strik...  \n",
       "1      [{'item_id': '10', 'item_name': 'Counter-Strik...  \n",
       "2      [{'item_id': '1200', 'item_name': 'Red Orchest...  \n",
       "3      [{'item_id': '10', 'item_name': 'Counter-Strik...  \n",
       "4      [{'item_id': '300', 'item_name': 'Day of Defea...  \n",
       "...                                                  ...  \n",
       "88305  [{'item_id': '413850', 'item_name': 'CS:GO Pla...  \n",
       "88306  [{'item_id': '11020', 'item_name': 'TrackMania...  \n",
       "88307                                                 []  \n",
       "88308  [{'item_id': '304930', 'item_name': 'Unturned'...  \n",
       "88309                                                 []  \n",
       "\n",
       "[88310 rows x 5 columns]"
      ]
     },
     "execution_count": 4,
     "metadata": {},
     "output_type": "execute_result"
    }
   ],
   "source": [
    "# Se inicializa el DataFrame a partir de la lista donde se extrajo el archivo .JSON\n",
    "df_items = pd.DataFrame(filas)\n",
    "df_items"
   ]
  },
  {
   "cell_type": "markdown",
   "metadata": {},
   "source": [
    "Se evidencia que la columna \"items\" contiene listas como dato así que se tiene que proceder a expandirla"
   ]
  },
  {
   "cell_type": "code",
   "execution_count": 5,
   "metadata": {},
   "outputs": [
    {
     "data": {
      "text/html": [
       "<div>\n",
       "<style scoped>\n",
       "    .dataframe tbody tr th:only-of-type {\n",
       "        vertical-align: middle;\n",
       "    }\n",
       "\n",
       "    .dataframe tbody tr th {\n",
       "        vertical-align: top;\n",
       "    }\n",
       "\n",
       "    .dataframe thead th {\n",
       "        text-align: right;\n",
       "    }\n",
       "</style>\n",
       "<table border=\"1\" class=\"dataframe\">\n",
       "  <thead>\n",
       "    <tr style=\"text-align: right;\">\n",
       "      <th></th>\n",
       "      <th>user_id</th>\n",
       "      <th>items_count</th>\n",
       "      <th>steam_id</th>\n",
       "      <th>user_url</th>\n",
       "      <th>items</th>\n",
       "      <th>item_id</th>\n",
       "      <th>item_name</th>\n",
       "      <th>playtime_forever</th>\n",
       "      <th>playtime_2weeks</th>\n",
       "    </tr>\n",
       "  </thead>\n",
       "  <tbody>\n",
       "    <tr>\n",
       "      <th>0</th>\n",
       "      <td>76561197970982479</td>\n",
       "      <td>277</td>\n",
       "      <td>76561197970982479</td>\n",
       "      <td>http://steamcommunity.com/profiles/76561197970...</td>\n",
       "      <td>{'item_id': '10', 'item_name': 'Counter-Strike...</td>\n",
       "      <td>10</td>\n",
       "      <td>Counter-Strike</td>\n",
       "      <td>6.0</td>\n",
       "      <td>0.0</td>\n",
       "    </tr>\n",
       "    <tr>\n",
       "      <th>1</th>\n",
       "      <td>76561197970982479</td>\n",
       "      <td>277</td>\n",
       "      <td>76561197970982479</td>\n",
       "      <td>http://steamcommunity.com/profiles/76561197970...</td>\n",
       "      <td>{'item_id': '20', 'item_name': 'Team Fortress ...</td>\n",
       "      <td>20</td>\n",
       "      <td>Team Fortress Classic</td>\n",
       "      <td>0.0</td>\n",
       "      <td>0.0</td>\n",
       "    </tr>\n",
       "  </tbody>\n",
       "</table>\n",
       "</div>"
      ],
      "text/plain": [
       "             user_id  items_count           steam_id  \\\n",
       "0  76561197970982479          277  76561197970982479   \n",
       "1  76561197970982479          277  76561197970982479   \n",
       "\n",
       "                                            user_url  \\\n",
       "0  http://steamcommunity.com/profiles/76561197970...   \n",
       "1  http://steamcommunity.com/profiles/76561197970...   \n",
       "\n",
       "                                               items item_id  \\\n",
       "0  {'item_id': '10', 'item_name': 'Counter-Strike...      10   \n",
       "1  {'item_id': '20', 'item_name': 'Team Fortress ...      20   \n",
       "\n",
       "               item_name  playtime_forever  playtime_2weeks  \n",
       "0         Counter-Strike               6.0              0.0  \n",
       "1  Team Fortress Classic               0.0              0.0  "
      ]
     },
     "execution_count": 5,
     "metadata": {},
     "output_type": "execute_result"
    }
   ],
   "source": [
    "df_items = df_items.explode('items').reset_index() # Se redefine el DatFrame con una descomposición del campo para desanidarla y se reinicia el conteo del índice\n",
    "df_items = df_items.drop(columns='index') # Se elimina el campo 'index'\n",
    "df_items = pd.concat([df_items, pd.json_normalize(df_items['items'])], axis=1) # Se normalizan los datos JSON de la columna 'reviews' aplanando los datos, convirtiendolos en un formato tabular y concatenando de manera horizontal el DatFrame original con el del contendio de 'reviews' \n",
    "df_items.head(2)"
   ]
  },
  {
   "cell_type": "markdown",
   "metadata": {},
   "source": [
    "### Se empieza a analizar y transformar los datos del DataFrame"
   ]
  },
  {
   "cell_type": "code",
   "execution_count": 6,
   "metadata": {},
   "outputs": [
    {
     "name": "stdout",
     "output_type": "stream",
     "text": [
      "<class 'pandas.core.frame.DataFrame'>\n",
      "RangeIndex: 5170015 entries, 0 to 5170014\n",
      "Data columns (total 9 columns):\n",
      " #   Column            Dtype  \n",
      "---  ------            -----  \n",
      " 0   user_id           object \n",
      " 1   items_count       int64  \n",
      " 2   steam_id          object \n",
      " 3   user_url          object \n",
      " 4   items             object \n",
      " 5   item_id           object \n",
      " 6   item_name         object \n",
      " 7   playtime_forever  float64\n",
      " 8   playtime_2weeks   float64\n",
      "dtypes: float64(2), int64(1), object(6)\n",
      "memory usage: 355.0+ MB\n"
     ]
    }
   ],
   "source": [
    "# Se verifica la información de los datos que contiene el DataFrame\n",
    "df_items.info()"
   ]
  },
  {
   "cell_type": "markdown",
   "metadata": {},
   "source": [
    "NULOS"
   ]
  },
  {
   "cell_type": "code",
   "execution_count": 7,
   "metadata": {},
   "outputs": [
    {
     "data": {
      "text/plain": [
       "user_id                 0\n",
       "items_count             0\n",
       "steam_id                0\n",
       "user_url                0\n",
       "items               16806\n",
       "item_id             16806\n",
       "item_name           16806\n",
       "playtime_forever    16806\n",
       "playtime_2weeks     16806\n",
       "dtype: int64"
      ]
     },
     "execution_count": 7,
     "metadata": {},
     "output_type": "execute_result"
    }
   ],
   "source": [
    "# Conteo de Nulos\n",
    "nulos = df_items.isna().sum()\n",
    "nulos"
   ]
  },
  {
   "cell_type": "code",
   "execution_count": 8,
   "metadata": {},
   "outputs": [
    {
     "name": "stdout",
     "output_type": "stream",
     "text": [
      "La cantidad de valores nulos en el total del DataFrame es de 0.33%\n"
     ]
    }
   ],
   "source": [
    "# Se hace una operación matemática para determinar que poorcentaje de todo el DataSet representan esos valores Nulos\n",
    "total_filas_df = 5170015\n",
    "cant_nulos = 16806\n",
    "print(f'La cantidad de valores nulos en el total del DataFrame es de {round(((cant_nulos/total_filas_df)*100), 2)}%')"
   ]
  },
  {
   "cell_type": "markdown",
   "metadata": {},
   "source": [
    "Gracias a la operación anterior se determina que la cantidad de datos Nulos en el conjunto total del DataFrame representa una cantidad muy infima de los datos por lo cual se decide a ser eliminados"
   ]
  },
  {
   "cell_type": "code",
   "execution_count": 9,
   "metadata": {},
   "outputs": [],
   "source": [
    "# Se eliminan los valores Nulos\n",
    "df_items = df_items.dropna()"
   ]
  },
  {
   "cell_type": "code",
   "execution_count": 10,
   "metadata": {},
   "outputs": [
    {
     "data": {
      "text/plain": [
       "user_id             0\n",
       "items_count         0\n",
       "steam_id            0\n",
       "user_url            0\n",
       "items               0\n",
       "item_id             0\n",
       "item_name           0\n",
       "playtime_forever    0\n",
       "playtime_2weeks     0\n",
       "dtype: int64"
      ]
     },
     "execution_count": 10,
     "metadata": {},
     "output_type": "execute_result"
    }
   ],
   "source": [
    "# Nuevamente se ha un conteo de Nulos\n",
    "nulos = df_items.isna().sum()\n",
    "nulos"
   ]
  },
  {
   "cell_type": "code",
   "execution_count": 11,
   "metadata": {},
   "outputs": [
    {
     "name": "stdout",
     "output_type": "stream",
     "text": [
      "<class 'pandas.core.frame.DataFrame'>\n",
      "Index: 5153209 entries, 0 to 5170013\n",
      "Data columns (total 9 columns):\n",
      " #   Column            Dtype  \n",
      "---  ------            -----  \n",
      " 0   user_id           object \n",
      " 1   items_count       int64  \n",
      " 2   steam_id          object \n",
      " 3   user_url          object \n",
      " 4   items             object \n",
      " 5   item_id           object \n",
      " 6   item_name         object \n",
      " 7   playtime_forever  float64\n",
      " 8   playtime_2weeks   float64\n",
      "dtypes: float64(2), int64(1), object(6)\n",
      "memory usage: 393.2+ MB\n"
     ]
    }
   ],
   "source": [
    "# Se verifica nuevamente la información del DataFrame\n",
    "df_items.info()"
   ]
  },
  {
   "cell_type": "markdown",
   "metadata": {},
   "source": [
    "#### Eliminar campos no relevantes"
   ]
  },
  {
   "cell_type": "code",
   "execution_count": 12,
   "metadata": {},
   "outputs": [],
   "source": [
    "# Se procede a eliminar campos no relevantes hasta este punto\n",
    "df_items.drop(['user_url','items','playtime_2weeks'], axis=1, inplace=True)"
   ]
  },
  {
   "cell_type": "markdown",
   "metadata": {},
   "source": [
    "Se considera el campo \"playtime_2weeks\" irrelevante ya que en las funciones que se especifican en la consigna solo piden las horas"
   ]
  },
  {
   "cell_type": "code",
   "execution_count": 13,
   "metadata": {},
   "outputs": [
    {
     "data": {
      "text/plain": [
       "(5153209, 6)"
      ]
     },
     "execution_count": 13,
     "metadata": {},
     "output_type": "execute_result"
    }
   ],
   "source": [
    "df_items.shape # Se visualiza las dimensiones del DataFrame"
   ]
  },
  {
   "cell_type": "markdown",
   "metadata": {},
   "source": [
    "Debido al tamaño del DataFrame se considera eliminar las filas cuya hora sea igual a 0 ya que esto significa que el juego no se jugó por lo cual no sería considerado para valorar cada juego lo cual también necesario para las consignas osea las horas igual a 0 convierte las filas en irrelevantes"
   ]
  },
  {
   "cell_type": "code",
   "execution_count": 15,
   "metadata": {},
   "outputs": [
    {
     "data": {
      "text/plain": [
       "(3285246, 6)"
      ]
     },
     "execution_count": 15,
     "metadata": {},
     "output_type": "execute_result"
    }
   ],
   "source": [
    "df_items = df_items[df_items['playtime_forever'] != 0.0] # Con este código reasigno el DatFrame sin las filas cuyos valores en 'playtime_forever' sea igual a 0.0 horas\n",
    "df_items.shape"
   ]
  },
  {
   "cell_type": "code",
   "execution_count": 18,
   "metadata": {},
   "outputs": [
    {
     "name": "stdout",
     "output_type": "stream",
     "text": [
      "El tamaño del DataFrame se redujo en un 36.25%\n"
     ]
    }
   ],
   "source": [
    "# Se hace una operación para determinar en que porcentaje se redujo el tamaño del DataFrame\n",
    "print(f'El tamaño del DataFrame se redujo en un {100 - (round(((3285246/5153209)*100), 2))}%')"
   ]
  },
  {
   "cell_type": "markdown",
   "metadata": {},
   "source": [
    "#### Transformación de datos"
   ]
  },
  {
   "cell_type": "markdown",
   "metadata": {},
   "source": [
    "Se procede a cambiar el tipo de dato del campo \"item_id\" por tipo int"
   ]
  },
  {
   "cell_type": "code",
   "execution_count": 20,
   "metadata": {},
   "outputs": [
    {
     "data": {
      "text/plain": [
       "array(['10', '30', '300', ..., '367090', '448540', '485270'], dtype=object)"
      ]
     },
     "execution_count": 20,
     "metadata": {},
     "output_type": "execute_result"
    }
   ],
   "source": [
    "# Se crea una variable que contiene los valores unicos del campo 'item_id' para evalular que solo contenga numeros\n",
    "valores_item_id = df_items['item_id'].unique() \n",
    "valores_item_id"
   ]
  },
  {
   "cell_type": "code",
   "execution_count": 21,
   "metadata": {},
   "outputs": [
    {
     "name": "stderr",
     "output_type": "stream",
     "text": [
      "C:\\Users\\DavidssonPC\\AppData\\Local\\Temp\\ipykernel_7400\\1433158164.py:2: SettingWithCopyWarning: \n",
      "A value is trying to be set on a copy of a slice from a DataFrame.\n",
      "Try using .loc[row_indexer,col_indexer] = value instead\n",
      "\n",
      "See the caveats in the documentation: https://pandas.pydata.org/pandas-docs/stable/user_guide/indexing.html#returning-a-view-versus-a-copy\n",
      "  df_items['item_id'] = df_items['item_id'].astype(int)\n"
     ]
    }
   ],
   "source": [
    "# Ahora que se sabe que solo contiene valores númericos se procede a realizar el cambio de tipo de dato\n",
    "df_items['item_id'] = df_items['item_id'].astype(int)"
   ]
  },
  {
   "cell_type": "code",
   "execution_count": 22,
   "metadata": {},
   "outputs": [
    {
     "name": "stdout",
     "output_type": "stream",
     "text": [
      "<class 'pandas.core.frame.DataFrame'>\n",
      "Index: 3285246 entries, 0 to 5170013\n",
      "Data columns (total 6 columns):\n",
      " #   Column            Dtype  \n",
      "---  ------            -----  \n",
      " 0   user_id           object \n",
      " 1   items_count       int64  \n",
      " 2   steam_id          object \n",
      " 3   item_id           int32  \n",
      " 4   item_name         object \n",
      " 5   playtime_forever  float64\n",
      "dtypes: float64(1), int32(1), int64(1), object(3)\n",
      "memory usage: 162.9+ MB\n"
     ]
    }
   ],
   "source": [
    "df_items.info() # Se verifica que haya cambiado el tipo de dato del campo 'item_id'"
   ]
  },
  {
   "cell_type": "code",
   "execution_count": 23,
   "metadata": {},
   "outputs": [
    {
     "name": "stdout",
     "output_type": "stream",
     "text": [
      "<class 'pandas.core.frame.DataFrame'>\n",
      "Index: 3285246 entries, 0 to 5170013\n",
      "Data columns (total 6 columns):\n",
      " #   Column            Dtype \n",
      "---  ------            ----- \n",
      " 0   user_id           object\n",
      " 1   items_count       int64 \n",
      " 2   steam_id          object\n",
      " 3   item_id           int32 \n",
      " 4   item_name         object\n",
      " 5   playtime_forever  int32 \n",
      "dtypes: int32(2), int64(1), object(3)\n",
      "memory usage: 150.4+ MB\n"
     ]
    },
    {
     "name": "stderr",
     "output_type": "stream",
     "text": [
      "C:\\Users\\DavidssonPC\\AppData\\Local\\Temp\\ipykernel_7400\\1644264538.py:2: SettingWithCopyWarning: \n",
      "A value is trying to be set on a copy of a slice from a DataFrame.\n",
      "Try using .loc[row_indexer,col_indexer] = value instead\n",
      "\n",
      "See the caveats in the documentation: https://pandas.pydata.org/pandas-docs/stable/user_guide/indexing.html#returning-a-view-versus-a-copy\n",
      "  df_items['playtime_forever'] = df_items['playtime_forever'].astype(int)\n"
     ]
    }
   ],
   "source": [
    "# Se procede a cambiar el tipo de dato del campo 'playtime_forever' a dato de tipo int ya que será necesario para un proceso futuro\n",
    "df_items['playtime_forever'] = df_items['playtime_forever'].astype(int)\n",
    "df_items.info() # Se evalúa que efectivamente se hayan cambiado los tipos de datos"
   ]
  },
  {
   "cell_type": "code",
   "execution_count": 24,
   "metadata": {},
   "outputs": [
    {
     "data": {
      "text/html": [
       "<div>\n",
       "<style scoped>\n",
       "    .dataframe tbody tr th:only-of-type {\n",
       "        vertical-align: middle;\n",
       "    }\n",
       "\n",
       "    .dataframe tbody tr th {\n",
       "        vertical-align: top;\n",
       "    }\n",
       "\n",
       "    .dataframe thead th {\n",
       "        text-align: right;\n",
       "    }\n",
       "</style>\n",
       "<table border=\"1\" class=\"dataframe\">\n",
       "  <thead>\n",
       "    <tr style=\"text-align: right;\">\n",
       "      <th></th>\n",
       "      <th>user_id</th>\n",
       "      <th>items_count</th>\n",
       "      <th>steam_id</th>\n",
       "      <th>item_id</th>\n",
       "      <th>item_name</th>\n",
       "      <th>playtime_forever</th>\n",
       "    </tr>\n",
       "  </thead>\n",
       "  <tbody>\n",
       "    <tr>\n",
       "      <th>0</th>\n",
       "      <td>76561197970982479</td>\n",
       "      <td>277</td>\n",
       "      <td>76561197970982479</td>\n",
       "      <td>10</td>\n",
       "      <td>Counter-Strike</td>\n",
       "      <td>6</td>\n",
       "    </tr>\n",
       "    <tr>\n",
       "      <th>2</th>\n",
       "      <td>76561197970982479</td>\n",
       "      <td>277</td>\n",
       "      <td>76561197970982479</td>\n",
       "      <td>30</td>\n",
       "      <td>Day of Defeat</td>\n",
       "      <td>7</td>\n",
       "    </tr>\n",
       "  </tbody>\n",
       "</table>\n",
       "</div>"
      ],
      "text/plain": [
       "             user_id  items_count           steam_id  item_id       item_name  \\\n",
       "0  76561197970982479          277  76561197970982479       10  Counter-Strike   \n",
       "2  76561197970982479          277  76561197970982479       30   Day of Defeat   \n",
       "\n",
       "   playtime_forever  \n",
       "0                 6  \n",
       "2                 7  "
      ]
     },
     "execution_count": 24,
     "metadata": {},
     "output_type": "execute_result"
    }
   ],
   "source": [
    "df_items.head(2)"
   ]
  },
  {
   "cell_type": "markdown",
   "metadata": {},
   "source": [
    "En este punto que ya se tienen los campos relevantes se procede a normalizar los nombre de estos"
   ]
  },
  {
   "cell_type": "code",
   "execution_count": 25,
   "metadata": {},
   "outputs": [
    {
     "data": {
      "text/html": [
       "<div>\n",
       "<style scoped>\n",
       "    .dataframe tbody tr th:only-of-type {\n",
       "        vertical-align: middle;\n",
       "    }\n",
       "\n",
       "    .dataframe tbody tr th {\n",
       "        vertical-align: top;\n",
       "    }\n",
       "\n",
       "    .dataframe thead th {\n",
       "        text-align: right;\n",
       "    }\n",
       "</style>\n",
       "<table border=\"1\" class=\"dataframe\">\n",
       "  <thead>\n",
       "    <tr style=\"text-align: right;\">\n",
       "      <th></th>\n",
       "      <th>User_Id</th>\n",
       "      <th>Items_Count</th>\n",
       "      <th>Steam_Id</th>\n",
       "      <th>Item_Id</th>\n",
       "      <th>Item_Name</th>\n",
       "      <th>Playtime_Forever_Hours</th>\n",
       "    </tr>\n",
       "  </thead>\n",
       "  <tbody>\n",
       "    <tr>\n",
       "      <th>0</th>\n",
       "      <td>76561197970982479</td>\n",
       "      <td>277</td>\n",
       "      <td>76561197970982479</td>\n",
       "      <td>10</td>\n",
       "      <td>Counter-Strike</td>\n",
       "      <td>6</td>\n",
       "    </tr>\n",
       "    <tr>\n",
       "      <th>2</th>\n",
       "      <td>76561197970982479</td>\n",
       "      <td>277</td>\n",
       "      <td>76561197970982479</td>\n",
       "      <td>30</td>\n",
       "      <td>Day of Defeat</td>\n",
       "      <td>7</td>\n",
       "    </tr>\n",
       "  </tbody>\n",
       "</table>\n",
       "</div>"
      ],
      "text/plain": [
       "             User_Id  Items_Count           Steam_Id  Item_Id       Item_Name  \\\n",
       "0  76561197970982479          277  76561197970982479       10  Counter-Strike   \n",
       "2  76561197970982479          277  76561197970982479       30   Day of Defeat   \n",
       "\n",
       "   Playtime_Forever_Hours  \n",
       "0                       6  \n",
       "2                       7  "
      ]
     },
     "execution_count": 25,
     "metadata": {},
     "output_type": "execute_result"
    }
   ],
   "source": [
    "df_items = df_items.rename(columns={'user_id': 'User_Id'})\n",
    "df_items = df_items.rename(columns={'items_count': 'Items_Count'})\n",
    "df_items = df_items.rename(columns={'steam_id': 'Steam_Id'})\n",
    "df_items = df_items.rename(columns={'item_id': 'Item_Id'})\n",
    "df_items = df_items.rename(columns={'item_name': 'Item_Name'})\n",
    "df_items = df_items.rename(columns={'playtime_forever': 'Playtime_Forever_Hours'})\n",
    "df_items.head(2)"
   ]
  },
  {
   "cell_type": "markdown",
   "metadata": {},
   "source": [
    "### Se guarda el DataFrame en formatos mas ligeros"
   ]
  },
  {
   "cell_type": "code",
   "execution_count": 26,
   "metadata": {},
   "outputs": [],
   "source": [
    "df_items.to_csv('user_items.csv', index=False) # Se guarda el DataFrame en formato CSV)"
   ]
  },
  {
   "cell_type": "code",
   "execution_count": 28,
   "metadata": {},
   "outputs": [
    {
     "data": {
      "text/html": [
       "<div>\n",
       "<style scoped>\n",
       "    .dataframe tbody tr th:only-of-type {\n",
       "        vertical-align: middle;\n",
       "    }\n",
       "\n",
       "    .dataframe tbody tr th {\n",
       "        vertical-align: top;\n",
       "    }\n",
       "\n",
       "    .dataframe thead th {\n",
       "        text-align: right;\n",
       "    }\n",
       "</style>\n",
       "<table border=\"1\" class=\"dataframe\">\n",
       "  <thead>\n",
       "    <tr style=\"text-align: right;\">\n",
       "      <th></th>\n",
       "      <th>User_Id</th>\n",
       "      <th>Items_Count</th>\n",
       "      <th>Steam_Id</th>\n",
       "      <th>Item_Id</th>\n",
       "      <th>Item_Name</th>\n",
       "      <th>Playtime_Forever_Hours</th>\n",
       "    </tr>\n",
       "  </thead>\n",
       "  <tbody>\n",
       "    <tr>\n",
       "      <th>0</th>\n",
       "      <td>76561197970982479</td>\n",
       "      <td>277</td>\n",
       "      <td>76561197970982479</td>\n",
       "      <td>10</td>\n",
       "      <td>Counter-Strike</td>\n",
       "      <td>6</td>\n",
       "    </tr>\n",
       "    <tr>\n",
       "      <th>1</th>\n",
       "      <td>76561197970982479</td>\n",
       "      <td>277</td>\n",
       "      <td>76561197970982479</td>\n",
       "      <td>30</td>\n",
       "      <td>Day of Defeat</td>\n",
       "      <td>7</td>\n",
       "    </tr>\n",
       "    <tr>\n",
       "      <th>2</th>\n",
       "      <td>76561197970982479</td>\n",
       "      <td>277</td>\n",
       "      <td>76561197970982479</td>\n",
       "      <td>300</td>\n",
       "      <td>Day of Defeat: Source</td>\n",
       "      <td>4733</td>\n",
       "    </tr>\n",
       "    <tr>\n",
       "      <th>3</th>\n",
       "      <td>76561197970982479</td>\n",
       "      <td>277</td>\n",
       "      <td>76561197970982479</td>\n",
       "      <td>240</td>\n",
       "      <td>Counter-Strike: Source</td>\n",
       "      <td>1853</td>\n",
       "    </tr>\n",
       "    <tr>\n",
       "      <th>4</th>\n",
       "      <td>76561197970982479</td>\n",
       "      <td>277</td>\n",
       "      <td>76561197970982479</td>\n",
       "      <td>3830</td>\n",
       "      <td>Psychonauts</td>\n",
       "      <td>333</td>\n",
       "    </tr>\n",
       "    <tr>\n",
       "      <th>...</th>\n",
       "      <td>...</td>\n",
       "      <td>...</td>\n",
       "      <td>...</td>\n",
       "      <td>...</td>\n",
       "      <td>...</td>\n",
       "      <td>...</td>\n",
       "    </tr>\n",
       "    <tr>\n",
       "      <th>3285241</th>\n",
       "      <td>76561198329548331</td>\n",
       "      <td>7</td>\n",
       "      <td>76561198329548331</td>\n",
       "      <td>304930</td>\n",
       "      <td>Unturned</td>\n",
       "      <td>677</td>\n",
       "    </tr>\n",
       "    <tr>\n",
       "      <th>3285242</th>\n",
       "      <td>76561198329548331</td>\n",
       "      <td>7</td>\n",
       "      <td>76561198329548331</td>\n",
       "      <td>227940</td>\n",
       "      <td>Heroes &amp; Generals</td>\n",
       "      <td>43</td>\n",
       "    </tr>\n",
       "    <tr>\n",
       "      <th>3285243</th>\n",
       "      <td>76561198329548331</td>\n",
       "      <td>7</td>\n",
       "      <td>76561198329548331</td>\n",
       "      <td>388490</td>\n",
       "      <td>One Way To Die: Steam Edition</td>\n",
       "      <td>3</td>\n",
       "    </tr>\n",
       "    <tr>\n",
       "      <th>3285244</th>\n",
       "      <td>76561198329548331</td>\n",
       "      <td>7</td>\n",
       "      <td>76561198329548331</td>\n",
       "      <td>521570</td>\n",
       "      <td>You Have 10 Seconds 2</td>\n",
       "      <td>4</td>\n",
       "    </tr>\n",
       "    <tr>\n",
       "      <th>3285245</th>\n",
       "      <td>76561198329548331</td>\n",
       "      <td>7</td>\n",
       "      <td>76561198329548331</td>\n",
       "      <td>519140</td>\n",
       "      <td>Minds Eyes</td>\n",
       "      <td>3</td>\n",
       "    </tr>\n",
       "  </tbody>\n",
       "</table>\n",
       "<p>3285246 rows × 6 columns</p>\n",
       "</div>"
      ],
      "text/plain": [
       "                   User_Id  Items_Count           Steam_Id  Item_Id  \\\n",
       "0        76561197970982479          277  76561197970982479       10   \n",
       "1        76561197970982479          277  76561197970982479       30   \n",
       "2        76561197970982479          277  76561197970982479      300   \n",
       "3        76561197970982479          277  76561197970982479      240   \n",
       "4        76561197970982479          277  76561197970982479     3830   \n",
       "...                    ...          ...                ...      ...   \n",
       "3285241  76561198329548331            7  76561198329548331   304930   \n",
       "3285242  76561198329548331            7  76561198329548331   227940   \n",
       "3285243  76561198329548331            7  76561198329548331   388490   \n",
       "3285244  76561198329548331            7  76561198329548331   521570   \n",
       "3285245  76561198329548331            7  76561198329548331   519140   \n",
       "\n",
       "                             Item_Name  Playtime_Forever_Hours  \n",
       "0                       Counter-Strike                       6  \n",
       "1                        Day of Defeat                       7  \n",
       "2                Day of Defeat: Source                    4733  \n",
       "3               Counter-Strike: Source                    1853  \n",
       "4                          Psychonauts                     333  \n",
       "...                                ...                     ...  \n",
       "3285241                       Unturned                     677  \n",
       "3285242              Heroes & Generals                      43  \n",
       "3285243  One Way To Die: Steam Edition                       3  \n",
       "3285244          You Have 10 Seconds 2                       4  \n",
       "3285245                     Minds Eyes                       3  \n",
       "\n",
       "[3285246 rows x 6 columns]"
      ]
     },
     "execution_count": 28,
     "metadata": {},
     "output_type": "execute_result"
    }
   ],
   "source": [
    "# Se convierte el archivo CSV a parquet bajo la compresión \"gzip\"\n",
    "ruta_csv_items = 'E:\\\\AAADATOS\\\\Henry\\\\AA_Data_Science\\\\MATERIAL_PI\\\\PI_ML_OPS_STEAM_DSFT17\\\\user_items.csv' # Se crea una variable con la ruta del archivo CSV\n",
    "df_items_temp = pd.read_csv(ruta_csv_items) # Se lee ese CSV en un nuevo DataFrame temporal para segurar como estan los datos\n",
    "df_items_temp"
   ]
  },
  {
   "cell_type": "markdown",
   "metadata": {},
   "source": [
    "Se guarada el DataFrame temporal en formato comprimido gzip"
   ]
  },
  {
   "cell_type": "code",
   "execution_count": 29,
   "metadata": {},
   "outputs": [],
   "source": [
    "df_items_temp.to_csv('user_items.gzip', compression='gzip', index=False)"
   ]
  },
  {
   "cell_type": "code",
   "execution_count": 30,
   "metadata": {},
   "outputs": [
    {
     "data": {
      "text/html": [
       "<div>\n",
       "<style scoped>\n",
       "    .dataframe tbody tr th:only-of-type {\n",
       "        vertical-align: middle;\n",
       "    }\n",
       "\n",
       "    .dataframe tbody tr th {\n",
       "        vertical-align: top;\n",
       "    }\n",
       "\n",
       "    .dataframe thead th {\n",
       "        text-align: right;\n",
       "    }\n",
       "</style>\n",
       "<table border=\"1\" class=\"dataframe\">\n",
       "  <thead>\n",
       "    <tr style=\"text-align: right;\">\n",
       "      <th></th>\n",
       "      <th>User_Id</th>\n",
       "      <th>Items_Count</th>\n",
       "      <th>Steam_Id</th>\n",
       "      <th>Item_Id</th>\n",
       "      <th>Item_Name</th>\n",
       "      <th>Playtime_Forever_Hours</th>\n",
       "    </tr>\n",
       "  </thead>\n",
       "  <tbody>\n",
       "    <tr>\n",
       "      <th>0</th>\n",
       "      <td>76561197970982479</td>\n",
       "      <td>277</td>\n",
       "      <td>76561197970982479</td>\n",
       "      <td>10</td>\n",
       "      <td>Counter-Strike</td>\n",
       "      <td>6</td>\n",
       "    </tr>\n",
       "    <tr>\n",
       "      <th>1</th>\n",
       "      <td>76561197970982479</td>\n",
       "      <td>277</td>\n",
       "      <td>76561197970982479</td>\n",
       "      <td>30</td>\n",
       "      <td>Day of Defeat</td>\n",
       "      <td>7</td>\n",
       "    </tr>\n",
       "    <tr>\n",
       "      <th>2</th>\n",
       "      <td>76561197970982479</td>\n",
       "      <td>277</td>\n",
       "      <td>76561197970982479</td>\n",
       "      <td>300</td>\n",
       "      <td>Day of Defeat: Source</td>\n",
       "      <td>4733</td>\n",
       "    </tr>\n",
       "    <tr>\n",
       "      <th>3</th>\n",
       "      <td>76561197970982479</td>\n",
       "      <td>277</td>\n",
       "      <td>76561197970982479</td>\n",
       "      <td>240</td>\n",
       "      <td>Counter-Strike: Source</td>\n",
       "      <td>1853</td>\n",
       "    </tr>\n",
       "    <tr>\n",
       "      <th>4</th>\n",
       "      <td>76561197970982479</td>\n",
       "      <td>277</td>\n",
       "      <td>76561197970982479</td>\n",
       "      <td>3830</td>\n",
       "      <td>Psychonauts</td>\n",
       "      <td>333</td>\n",
       "    </tr>\n",
       "    <tr>\n",
       "      <th>...</th>\n",
       "      <td>...</td>\n",
       "      <td>...</td>\n",
       "      <td>...</td>\n",
       "      <td>...</td>\n",
       "      <td>...</td>\n",
       "      <td>...</td>\n",
       "    </tr>\n",
       "    <tr>\n",
       "      <th>3285241</th>\n",
       "      <td>76561198329548331</td>\n",
       "      <td>7</td>\n",
       "      <td>76561198329548331</td>\n",
       "      <td>304930</td>\n",
       "      <td>Unturned</td>\n",
       "      <td>677</td>\n",
       "    </tr>\n",
       "    <tr>\n",
       "      <th>3285242</th>\n",
       "      <td>76561198329548331</td>\n",
       "      <td>7</td>\n",
       "      <td>76561198329548331</td>\n",
       "      <td>227940</td>\n",
       "      <td>Heroes &amp; Generals</td>\n",
       "      <td>43</td>\n",
       "    </tr>\n",
       "    <tr>\n",
       "      <th>3285243</th>\n",
       "      <td>76561198329548331</td>\n",
       "      <td>7</td>\n",
       "      <td>76561198329548331</td>\n",
       "      <td>388490</td>\n",
       "      <td>One Way To Die: Steam Edition</td>\n",
       "      <td>3</td>\n",
       "    </tr>\n",
       "    <tr>\n",
       "      <th>3285244</th>\n",
       "      <td>76561198329548331</td>\n",
       "      <td>7</td>\n",
       "      <td>76561198329548331</td>\n",
       "      <td>521570</td>\n",
       "      <td>You Have 10 Seconds 2</td>\n",
       "      <td>4</td>\n",
       "    </tr>\n",
       "    <tr>\n",
       "      <th>3285245</th>\n",
       "      <td>76561198329548331</td>\n",
       "      <td>7</td>\n",
       "      <td>76561198329548331</td>\n",
       "      <td>519140</td>\n",
       "      <td>Minds Eyes</td>\n",
       "      <td>3</td>\n",
       "    </tr>\n",
       "  </tbody>\n",
       "</table>\n",
       "<p>3285246 rows × 6 columns</p>\n",
       "</div>"
      ],
      "text/plain": [
       "                   User_Id  Items_Count           Steam_Id  Item_Id  \\\n",
       "0        76561197970982479          277  76561197970982479       10   \n",
       "1        76561197970982479          277  76561197970982479       30   \n",
       "2        76561197970982479          277  76561197970982479      300   \n",
       "3        76561197970982479          277  76561197970982479      240   \n",
       "4        76561197970982479          277  76561197970982479     3830   \n",
       "...                    ...          ...                ...      ...   \n",
       "3285241  76561198329548331            7  76561198329548331   304930   \n",
       "3285242  76561198329548331            7  76561198329548331   227940   \n",
       "3285243  76561198329548331            7  76561198329548331   388490   \n",
       "3285244  76561198329548331            7  76561198329548331   521570   \n",
       "3285245  76561198329548331            7  76561198329548331   519140   \n",
       "\n",
       "                             Item_Name  Playtime_Forever_Hours  \n",
       "0                       Counter-Strike                       6  \n",
       "1                        Day of Defeat                       7  \n",
       "2                Day of Defeat: Source                    4733  \n",
       "3               Counter-Strike: Source                    1853  \n",
       "4                          Psychonauts                     333  \n",
       "...                                ...                     ...  \n",
       "3285241                       Unturned                     677  \n",
       "3285242              Heroes & Generals                      43  \n",
       "3285243  One Way To Die: Steam Edition                       3  \n",
       "3285244          You Have 10 Seconds 2                       4  \n",
       "3285245                     Minds Eyes                       3  \n",
       "\n",
       "[3285246 rows x 6 columns]"
      ]
     },
     "execution_count": 30,
     "metadata": {},
     "output_type": "execute_result"
    }
   ],
   "source": [
    "# Se verifica que el archivo gzip comprimido pueda ser leido de manera efectiva y que no hayan problemas en los datos que este arroja\n",
    "df_items_parquet = pd.read_csv('user_items.gzip', compression='gzip')\n",
    "df_items_parquet"
   ]
  },
  {
   "cell_type": "code",
   "execution_count": 31,
   "metadata": {},
   "outputs": [
    {
     "name": "stdout",
     "output_type": "stream",
     "text": [
      "<class 'pandas.core.frame.DataFrame'>\n",
      "RangeIndex: 3285246 entries, 0 to 3285245\n",
      "Data columns (total 6 columns):\n",
      " #   Column                  Dtype \n",
      "---  ------                  ----- \n",
      " 0   User_Id                 object\n",
      " 1   Items_Count             int64 \n",
      " 2   Steam_Id                int64 \n",
      " 3   Item_Id                 int64 \n",
      " 4   Item_Name               object\n",
      " 5   Playtime_Forever_Hours  int64 \n",
      "dtypes: int64(4), object(2)\n",
      "memory usage: 150.4+ MB\n"
     ]
    }
   ],
   "source": [
    "df_items_parquet.info()"
   ]
  },
  {
   "cell_type": "markdown",
   "metadata": {},
   "source": [
    "## Data Set output_steam_games.json"
   ]
  },
  {
   "cell_type": "code",
   "execution_count": 163,
   "metadata": {},
   "outputs": [],
   "source": [
    "# Se inicializa una lista vacia donde alamcenare los datso del archivo .JSON\n",
    "filas = []\n",
    "# Se abre el archivo .JSON con el modulo 'with'\n",
    "with open('E:\\\\AAADATOS\\\\Henry\\\\AA_Data_Science\\\\MATERIAL_PI\\\\DATA_PI MLOps - STEAM\\\\Data_sets\\\\output_steam_games.json', 'r', encoding='utf-8') as archivo:\n",
    "    for line in archivo.readlines():\n",
    "        filas.append(json.loads(line))"
   ]
  },
  {
   "cell_type": "code",
   "execution_count": 164,
   "metadata": {},
   "outputs": [
    {
     "data": {
      "text/html": [
       "<div>\n",
       "<style scoped>\n",
       "    .dataframe tbody tr th:only-of-type {\n",
       "        vertical-align: middle;\n",
       "    }\n",
       "\n",
       "    .dataframe tbody tr th {\n",
       "        vertical-align: top;\n",
       "    }\n",
       "\n",
       "    .dataframe thead th {\n",
       "        text-align: right;\n",
       "    }\n",
       "</style>\n",
       "<table border=\"1\" class=\"dataframe\">\n",
       "  <thead>\n",
       "    <tr style=\"text-align: right;\">\n",
       "      <th></th>\n",
       "      <th>publisher</th>\n",
       "      <th>genres</th>\n",
       "      <th>app_name</th>\n",
       "      <th>title</th>\n",
       "      <th>url</th>\n",
       "      <th>release_date</th>\n",
       "      <th>tags</th>\n",
       "      <th>reviews_url</th>\n",
       "      <th>specs</th>\n",
       "      <th>price</th>\n",
       "      <th>early_access</th>\n",
       "      <th>id</th>\n",
       "      <th>developer</th>\n",
       "    </tr>\n",
       "  </thead>\n",
       "  <tbody>\n",
       "    <tr>\n",
       "      <th>0</th>\n",
       "      <td>NaN</td>\n",
       "      <td>NaN</td>\n",
       "      <td>NaN</td>\n",
       "      <td>NaN</td>\n",
       "      <td>NaN</td>\n",
       "      <td>NaN</td>\n",
       "      <td>NaN</td>\n",
       "      <td>NaN</td>\n",
       "      <td>NaN</td>\n",
       "      <td>NaN</td>\n",
       "      <td>NaN</td>\n",
       "      <td>NaN</td>\n",
       "      <td>NaN</td>\n",
       "    </tr>\n",
       "    <tr>\n",
       "      <th>1</th>\n",
       "      <td>NaN</td>\n",
       "      <td>NaN</td>\n",
       "      <td>NaN</td>\n",
       "      <td>NaN</td>\n",
       "      <td>NaN</td>\n",
       "      <td>NaN</td>\n",
       "      <td>NaN</td>\n",
       "      <td>NaN</td>\n",
       "      <td>NaN</td>\n",
       "      <td>NaN</td>\n",
       "      <td>NaN</td>\n",
       "      <td>NaN</td>\n",
       "      <td>NaN</td>\n",
       "    </tr>\n",
       "    <tr>\n",
       "      <th>2</th>\n",
       "      <td>NaN</td>\n",
       "      <td>NaN</td>\n",
       "      <td>NaN</td>\n",
       "      <td>NaN</td>\n",
       "      <td>NaN</td>\n",
       "      <td>NaN</td>\n",
       "      <td>NaN</td>\n",
       "      <td>NaN</td>\n",
       "      <td>NaN</td>\n",
       "      <td>NaN</td>\n",
       "      <td>NaN</td>\n",
       "      <td>NaN</td>\n",
       "      <td>NaN</td>\n",
       "    </tr>\n",
       "    <tr>\n",
       "      <th>3</th>\n",
       "      <td>NaN</td>\n",
       "      <td>NaN</td>\n",
       "      <td>NaN</td>\n",
       "      <td>NaN</td>\n",
       "      <td>NaN</td>\n",
       "      <td>NaN</td>\n",
       "      <td>NaN</td>\n",
       "      <td>NaN</td>\n",
       "      <td>NaN</td>\n",
       "      <td>NaN</td>\n",
       "      <td>NaN</td>\n",
       "      <td>NaN</td>\n",
       "      <td>NaN</td>\n",
       "    </tr>\n",
       "    <tr>\n",
       "      <th>4</th>\n",
       "      <td>NaN</td>\n",
       "      <td>NaN</td>\n",
       "      <td>NaN</td>\n",
       "      <td>NaN</td>\n",
       "      <td>NaN</td>\n",
       "      <td>NaN</td>\n",
       "      <td>NaN</td>\n",
       "      <td>NaN</td>\n",
       "      <td>NaN</td>\n",
       "      <td>NaN</td>\n",
       "      <td>NaN</td>\n",
       "      <td>NaN</td>\n",
       "      <td>NaN</td>\n",
       "    </tr>\n",
       "    <tr>\n",
       "      <th>...</th>\n",
       "      <td>...</td>\n",
       "      <td>...</td>\n",
       "      <td>...</td>\n",
       "      <td>...</td>\n",
       "      <td>...</td>\n",
       "      <td>...</td>\n",
       "      <td>...</td>\n",
       "      <td>...</td>\n",
       "      <td>...</td>\n",
       "      <td>...</td>\n",
       "      <td>...</td>\n",
       "      <td>...</td>\n",
       "      <td>...</td>\n",
       "    </tr>\n",
       "    <tr>\n",
       "      <th>120440</th>\n",
       "      <td>Ghost_RUS Games</td>\n",
       "      <td>[Casual, Indie, Simulation, Strategy]</td>\n",
       "      <td>Colony On Mars</td>\n",
       "      <td>Colony On Mars</td>\n",
       "      <td>http://store.steampowered.com/app/773640/Colon...</td>\n",
       "      <td>2018-01-04</td>\n",
       "      <td>[Strategy, Indie, Casual, Simulation]</td>\n",
       "      <td>http://steamcommunity.com/app/773640/reviews/?...</td>\n",
       "      <td>[Single-player, Steam Achievements]</td>\n",
       "      <td>1.99</td>\n",
       "      <td>False</td>\n",
       "      <td>773640</td>\n",
       "      <td>Nikita \"Ghost_RUS\"</td>\n",
       "    </tr>\n",
       "    <tr>\n",
       "      <th>120441</th>\n",
       "      <td>Sacada</td>\n",
       "      <td>[Casual, Indie, Strategy]</td>\n",
       "      <td>LOGistICAL: South Africa</td>\n",
       "      <td>LOGistICAL: South Africa</td>\n",
       "      <td>http://store.steampowered.com/app/733530/LOGis...</td>\n",
       "      <td>2018-01-04</td>\n",
       "      <td>[Strategy, Indie, Casual]</td>\n",
       "      <td>http://steamcommunity.com/app/733530/reviews/?...</td>\n",
       "      <td>[Single-player, Steam Achievements, Steam Clou...</td>\n",
       "      <td>4.99</td>\n",
       "      <td>False</td>\n",
       "      <td>733530</td>\n",
       "      <td>Sacada</td>\n",
       "    </tr>\n",
       "    <tr>\n",
       "      <th>120442</th>\n",
       "      <td>Laush Studio</td>\n",
       "      <td>[Indie, Racing, Simulation]</td>\n",
       "      <td>Russian Roads</td>\n",
       "      <td>Russian Roads</td>\n",
       "      <td>http://store.steampowered.com/app/610660/Russi...</td>\n",
       "      <td>2018-01-04</td>\n",
       "      <td>[Indie, Simulation, Racing]</td>\n",
       "      <td>http://steamcommunity.com/app/610660/reviews/?...</td>\n",
       "      <td>[Single-player, Steam Achievements, Steam Trad...</td>\n",
       "      <td>1.99</td>\n",
       "      <td>False</td>\n",
       "      <td>610660</td>\n",
       "      <td>Laush Dmitriy Sergeevich</td>\n",
       "    </tr>\n",
       "    <tr>\n",
       "      <th>120443</th>\n",
       "      <td>SIXNAILS</td>\n",
       "      <td>[Casual, Indie]</td>\n",
       "      <td>EXIT 2 - Directions</td>\n",
       "      <td>EXIT 2 - Directions</td>\n",
       "      <td>http://store.steampowered.com/app/658870/EXIT_...</td>\n",
       "      <td>2017-09-02</td>\n",
       "      <td>[Indie, Casual, Puzzle, Singleplayer, Atmosphe...</td>\n",
       "      <td>http://steamcommunity.com/app/658870/reviews/?...</td>\n",
       "      <td>[Single-player, Steam Achievements, Steam Cloud]</td>\n",
       "      <td>4.99</td>\n",
       "      <td>False</td>\n",
       "      <td>658870</td>\n",
       "      <td>xropi,stev3ns</td>\n",
       "    </tr>\n",
       "    <tr>\n",
       "      <th>120444</th>\n",
       "      <td>NaN</td>\n",
       "      <td>NaN</td>\n",
       "      <td>Maze Run VR</td>\n",
       "      <td>NaN</td>\n",
       "      <td>http://store.steampowered.com/app/681550/Maze_...</td>\n",
       "      <td>NaN</td>\n",
       "      <td>[Early Access, Adventure, Indie, Action, Simul...</td>\n",
       "      <td>http://steamcommunity.com/app/681550/reviews/?...</td>\n",
       "      <td>[Single-player, Stats, Steam Leaderboards, HTC...</td>\n",
       "      <td>4.99</td>\n",
       "      <td>True</td>\n",
       "      <td>681550</td>\n",
       "      <td>NaN</td>\n",
       "    </tr>\n",
       "  </tbody>\n",
       "</table>\n",
       "<p>120445 rows × 13 columns</p>\n",
       "</div>"
      ],
      "text/plain": [
       "              publisher                                 genres  \\\n",
       "0                   NaN                                    NaN   \n",
       "1                   NaN                                    NaN   \n",
       "2                   NaN                                    NaN   \n",
       "3                   NaN                                    NaN   \n",
       "4                   NaN                                    NaN   \n",
       "...                 ...                                    ...   \n",
       "120440  Ghost_RUS Games  [Casual, Indie, Simulation, Strategy]   \n",
       "120441           Sacada              [Casual, Indie, Strategy]   \n",
       "120442     Laush Studio            [Indie, Racing, Simulation]   \n",
       "120443         SIXNAILS                        [Casual, Indie]   \n",
       "120444              NaN                                    NaN   \n",
       "\n",
       "                        app_name                     title  \\\n",
       "0                            NaN                       NaN   \n",
       "1                            NaN                       NaN   \n",
       "2                            NaN                       NaN   \n",
       "3                            NaN                       NaN   \n",
       "4                            NaN                       NaN   \n",
       "...                          ...                       ...   \n",
       "120440            Colony On Mars            Colony On Mars   \n",
       "120441  LOGistICAL: South Africa  LOGistICAL: South Africa   \n",
       "120442             Russian Roads             Russian Roads   \n",
       "120443       EXIT 2 - Directions       EXIT 2 - Directions   \n",
       "120444               Maze Run VR                       NaN   \n",
       "\n",
       "                                                      url release_date  \\\n",
       "0                                                     NaN          NaN   \n",
       "1                                                     NaN          NaN   \n",
       "2                                                     NaN          NaN   \n",
       "3                                                     NaN          NaN   \n",
       "4                                                     NaN          NaN   \n",
       "...                                                   ...          ...   \n",
       "120440  http://store.steampowered.com/app/773640/Colon...   2018-01-04   \n",
       "120441  http://store.steampowered.com/app/733530/LOGis...   2018-01-04   \n",
       "120442  http://store.steampowered.com/app/610660/Russi...   2018-01-04   \n",
       "120443  http://store.steampowered.com/app/658870/EXIT_...   2017-09-02   \n",
       "120444  http://store.steampowered.com/app/681550/Maze_...          NaN   \n",
       "\n",
       "                                                     tags  \\\n",
       "0                                                     NaN   \n",
       "1                                                     NaN   \n",
       "2                                                     NaN   \n",
       "3                                                     NaN   \n",
       "4                                                     NaN   \n",
       "...                                                   ...   \n",
       "120440              [Strategy, Indie, Casual, Simulation]   \n",
       "120441                          [Strategy, Indie, Casual]   \n",
       "120442                        [Indie, Simulation, Racing]   \n",
       "120443  [Indie, Casual, Puzzle, Singleplayer, Atmosphe...   \n",
       "120444  [Early Access, Adventure, Indie, Action, Simul...   \n",
       "\n",
       "                                              reviews_url  \\\n",
       "0                                                     NaN   \n",
       "1                                                     NaN   \n",
       "2                                                     NaN   \n",
       "3                                                     NaN   \n",
       "4                                                     NaN   \n",
       "...                                                   ...   \n",
       "120440  http://steamcommunity.com/app/773640/reviews/?...   \n",
       "120441  http://steamcommunity.com/app/733530/reviews/?...   \n",
       "120442  http://steamcommunity.com/app/610660/reviews/?...   \n",
       "120443  http://steamcommunity.com/app/658870/reviews/?...   \n",
       "120444  http://steamcommunity.com/app/681550/reviews/?...   \n",
       "\n",
       "                                                    specs price early_access  \\\n",
       "0                                                     NaN   NaN          NaN   \n",
       "1                                                     NaN   NaN          NaN   \n",
       "2                                                     NaN   NaN          NaN   \n",
       "3                                                     NaN   NaN          NaN   \n",
       "4                                                     NaN   NaN          NaN   \n",
       "...                                                   ...   ...          ...   \n",
       "120440                [Single-player, Steam Achievements]  1.99        False   \n",
       "120441  [Single-player, Steam Achievements, Steam Clou...  4.99        False   \n",
       "120442  [Single-player, Steam Achievements, Steam Trad...  1.99        False   \n",
       "120443   [Single-player, Steam Achievements, Steam Cloud]  4.99        False   \n",
       "120444  [Single-player, Stats, Steam Leaderboards, HTC...  4.99         True   \n",
       "\n",
       "            id                 developer  \n",
       "0          NaN                       NaN  \n",
       "1          NaN                       NaN  \n",
       "2          NaN                       NaN  \n",
       "3          NaN                       NaN  \n",
       "4          NaN                       NaN  \n",
       "...        ...                       ...  \n",
       "120440  773640        Nikita \"Ghost_RUS\"  \n",
       "120441  733530                    Sacada  \n",
       "120442  610660  Laush Dmitriy Sergeevich  \n",
       "120443  658870             xropi,stev3ns  \n",
       "120444  681550                       NaN  \n",
       "\n",
       "[120445 rows x 13 columns]"
      ]
     },
     "execution_count": 164,
     "metadata": {},
     "output_type": "execute_result"
    }
   ],
   "source": [
    "# Se inicializa el DataFrame a partir de la lista donde se extrajo el archivo .JSON\n",
    "df_games = pd.DataFrame(filas)\n",
    "df_games"
   ]
  },
  {
   "cell_type": "markdown",
   "metadata": {},
   "source": [
    "### Se empieza a analizar y transformar los datos del DataFrame"
   ]
  },
  {
   "cell_type": "code",
   "execution_count": 165,
   "metadata": {},
   "outputs": [
    {
     "name": "stdout",
     "output_type": "stream",
     "text": [
      "<class 'pandas.core.frame.DataFrame'>\n",
      "RangeIndex: 120445 entries, 0 to 120444\n",
      "Data columns (total 13 columns):\n",
      " #   Column        Non-Null Count  Dtype \n",
      "---  ------        --------------  ----- \n",
      " 0   publisher     24083 non-null  object\n",
      " 1   genres        28852 non-null  object\n",
      " 2   app_name      32133 non-null  object\n",
      " 3   title         30085 non-null  object\n",
      " 4   url           32135 non-null  object\n",
      " 5   release_date  30068 non-null  object\n",
      " 6   tags          31972 non-null  object\n",
      " 7   reviews_url   32133 non-null  object\n",
      " 8   specs         31465 non-null  object\n",
      " 9   price         30758 non-null  object\n",
      " 10  early_access  32135 non-null  object\n",
      " 11  id            32133 non-null  object\n",
      " 12  developer     28836 non-null  object\n",
      "dtypes: object(13)\n",
      "memory usage: 11.9+ MB\n"
     ]
    }
   ],
   "source": [
    "# Se verifica la información de los datos que contiene el DataFrame\n",
    "df_games.info()"
   ]
  },
  {
   "cell_type": "markdown",
   "metadata": {},
   "source": [
    "#### Eliminar campos no relevantes"
   ]
  },
  {
   "cell_type": "code",
   "execution_count": 166,
   "metadata": {},
   "outputs": [],
   "source": [
    "# Se crea una lista con el nombre de los campos que se van a eliminar del DataFrame\n",
    "campos_eliminar = ['app_name','url','reviews_url','specs','price','early_access']"
   ]
  },
  {
   "cell_type": "code",
   "execution_count": 167,
   "metadata": {},
   "outputs": [
    {
     "data": {
      "text/html": [
       "<div>\n",
       "<style scoped>\n",
       "    .dataframe tbody tr th:only-of-type {\n",
       "        vertical-align: middle;\n",
       "    }\n",
       "\n",
       "    .dataframe tbody tr th {\n",
       "        vertical-align: top;\n",
       "    }\n",
       "\n",
       "    .dataframe thead th {\n",
       "        text-align: right;\n",
       "    }\n",
       "</style>\n",
       "<table border=\"1\" class=\"dataframe\">\n",
       "  <thead>\n",
       "    <tr style=\"text-align: right;\">\n",
       "      <th></th>\n",
       "      <th>publisher</th>\n",
       "      <th>genres</th>\n",
       "      <th>title</th>\n",
       "      <th>release_date</th>\n",
       "      <th>tags</th>\n",
       "      <th>id</th>\n",
       "      <th>developer</th>\n",
       "    </tr>\n",
       "  </thead>\n",
       "  <tbody>\n",
       "    <tr>\n",
       "      <th>0</th>\n",
       "      <td>NaN</td>\n",
       "      <td>NaN</td>\n",
       "      <td>NaN</td>\n",
       "      <td>NaN</td>\n",
       "      <td>NaN</td>\n",
       "      <td>NaN</td>\n",
       "      <td>NaN</td>\n",
       "    </tr>\n",
       "    <tr>\n",
       "      <th>1</th>\n",
       "      <td>NaN</td>\n",
       "      <td>NaN</td>\n",
       "      <td>NaN</td>\n",
       "      <td>NaN</td>\n",
       "      <td>NaN</td>\n",
       "      <td>NaN</td>\n",
       "      <td>NaN</td>\n",
       "    </tr>\n",
       "  </tbody>\n",
       "</table>\n",
       "</div>"
      ],
      "text/plain": [
       "  publisher genres title release_date tags   id developer\n",
       "0       NaN    NaN   NaN          NaN  NaN  NaN       NaN\n",
       "1       NaN    NaN   NaN          NaN  NaN  NaN       NaN"
      ]
     },
     "execution_count": 167,
     "metadata": {},
     "output_type": "execute_result"
    }
   ],
   "source": [
    "df_games = df_games.drop(columns=campos_eliminar)\n",
    "df_games.head(2)"
   ]
  },
  {
   "cell_type": "markdown",
   "metadata": {},
   "source": [
    "##### Se decidio eliminar estos campos debido a diversas razones que van desde que tenian información poco relevante, información que se cumplia con la de otro campo o que no se considera necesaria para cumplir con las consignas que se piden"
   ]
  },
  {
   "cell_type": "markdown",
   "metadata": {},
   "source": [
    "NULOS"
   ]
  },
  {
   "cell_type": "code",
   "execution_count": 168,
   "metadata": {},
   "outputs": [
    {
     "data": {
      "text/plain": [
       "publisher       96362\n",
       "genres          91593\n",
       "title           90360\n",
       "release_date    90377\n",
       "tags            88473\n",
       "id              88312\n",
       "developer       91609\n",
       "dtype: int64"
      ]
     },
     "execution_count": 168,
     "metadata": {},
     "output_type": "execute_result"
    }
   ],
   "source": [
    "# Conteo de Nulos\n",
    "nulos = df_games.isna().sum()\n",
    "nulos"
   ]
  },
  {
   "cell_type": "markdown",
   "metadata": {},
   "source": [
    "Se hace notorio que hay filas que estan completamente llenas de NaN's así que se procedera a eliminar esas primero"
   ]
  },
  {
   "cell_type": "code",
   "execution_count": 169,
   "metadata": {},
   "outputs": [],
   "source": [
    "df_games = df_games.dropna(how='all') # Se le indica que elimine solo las filas que contienen NaN en todos los campos"
   ]
  },
  {
   "cell_type": "code",
   "execution_count": 170,
   "metadata": {},
   "outputs": [
    {
     "data": {
      "text/plain": [
       "publisher       8051\n",
       "genres          3282\n",
       "title           2049\n",
       "release_date    2066\n",
       "tags             162\n",
       "id                 1\n",
       "developer       3298\n",
       "dtype: int64"
      ]
     },
     "execution_count": 170,
     "metadata": {},
     "output_type": "execute_result"
    }
   ],
   "source": [
    "# Se vuelve a contar los Nulos\n",
    "nulos = df_games.isna().sum()\n",
    "nulos"
   ]
  },
  {
   "cell_type": "code",
   "execution_count": 171,
   "metadata": {},
   "outputs": [
    {
     "data": {
      "text/plain": [
       "(32134, 7)"
      ]
     },
     "execution_count": 171,
     "metadata": {},
     "output_type": "execute_result"
    }
   ],
   "source": [
    "# Se revisa el nuevo tamaño del DataFrame para ver en cuanto se redujo su contenido\n",
    "df_games.shape"
   ]
  },
  {
   "cell_type": "code",
   "execution_count": 172,
   "metadata": {},
   "outputs": [
    {
     "name": "stdout",
     "output_type": "stream",
     "text": [
      "Eliminando solamente las filas completas de valores Nulos se redujo el Data Set en un 73.32%\n"
     ]
    }
   ],
   "source": [
    "print(f'Eliminando solamente las filas completas de valores Nulos se redujo el Data Set en un {100 - (round(((32134/120445)*100) ,2))}%')"
   ]
  },
  {
   "cell_type": "markdown",
   "metadata": {},
   "source": [
    "Se elimina la fila donde existe un valor Nulo en el campo \"id\""
   ]
  },
  {
   "cell_type": "code",
   "execution_count": 173,
   "metadata": {},
   "outputs": [],
   "source": [
    "df_games.dropna(subset=[\"id\"], inplace=True)"
   ]
  },
  {
   "cell_type": "markdown",
   "metadata": {},
   "source": [
    "##### Siguiendo las consignas de las funciónes de colsulta se puede determinar que los campos \"genres\" y \"developer\" son crusiales por lo cual se procedera a eliminar las filas donde estos tengan valores Nulos"
   ]
  },
  {
   "cell_type": "code",
   "execution_count": 174,
   "metadata": {},
   "outputs": [],
   "source": [
    "df_games.dropna(subset=[\"genres\"], inplace=True) # Se eliminan los nulos del campo 'genres'\n",
    "df_games.dropna(subset=[\"developer\"], inplace=True) # Se eliminan los nulos del campo 'developer'"
   ]
  },
  {
   "cell_type": "code",
   "execution_count": 175,
   "metadata": {},
   "outputs": [
    {
     "data": {
      "text/plain": [
       "publisher       4780\n",
       "genres             0\n",
       "title              0\n",
       "release_date      18\n",
       "tags              24\n",
       "id                 0\n",
       "developer          0\n",
       "dtype: int64"
      ]
     },
     "execution_count": 175,
     "metadata": {},
     "output_type": "execute_result"
    }
   ],
   "source": [
    "# Se revisa cuantos valores nulos se tiene hasta el momento\n",
    "nulos = df_games.isna().sum()\n",
    "nulos"
   ]
  },
  {
   "cell_type": "code",
   "execution_count": 176,
   "metadata": {},
   "outputs": [
    {
     "data": {
      "text/plain": [
       "(28681, 7)"
      ]
     },
     "execution_count": 176,
     "metadata": {},
     "output_type": "execute_result"
    }
   ],
   "source": [
    "df_games.shape # Se analiza el número de filas que tiene el DataSet hasta el momento"
   ]
  },
  {
   "cell_type": "markdown",
   "metadata": {},
   "source": [
    "En base a lo anterior se considera que la cantidad de valores Nulos del campo \"release_date\" son infimos dentro del conjunto del DataFrame por lo cual se procede a ser eliminados, es de aclarar que la información de este campo tambien es necesaria para las consginas"
   ]
  },
  {
   "cell_type": "code",
   "execution_count": 177,
   "metadata": {},
   "outputs": [
    {
     "data": {
      "text/plain": [
       "(28663, 7)"
      ]
     },
     "execution_count": 177,
     "metadata": {},
     "output_type": "execute_result"
    }
   ],
   "source": [
    "df_games.dropna(subset=[\"release_date\"], inplace=True) # Se eliminan los nulos del campo 'release_date'\n",
    "df_games.shape"
   ]
  },
  {
   "cell_type": "code",
   "execution_count": 178,
   "metadata": {},
   "outputs": [
    {
     "data": {
      "text/plain": [
       "publisher       4779\n",
       "genres             0\n",
       "title              0\n",
       "release_date       0\n",
       "tags              24\n",
       "id                 0\n",
       "developer          0\n",
       "dtype: int64"
      ]
     },
     "execution_count": 178,
     "metadata": {},
     "output_type": "execute_result"
    }
   ],
   "source": [
    "# Se revisa cuantos valores nulos se tiene hasta el momento\n",
    "nulos = df_games.isna().sum()\n",
    "nulos"
   ]
  },
  {
   "cell_type": "markdown",
   "metadata": {},
   "source": [
    "La cantidad de Nulos que quedan en el campo \"publisher\" es considerable además de ser un campo que podría no ser presendible para las funciones se decide dejarlo y reemplazar los valores Nulos por un string que indique \"No Data\" de esta manera \"N/D\" y lo mismo para el campo \"tags\""
   ]
  },
  {
   "cell_type": "code",
   "execution_count": 179,
   "metadata": {},
   "outputs": [
    {
     "name": "stdout",
     "output_type": "stream",
     "text": [
      "<class 'pandas.core.frame.DataFrame'>\n",
      "Index: 28663 entries, 88310 to 120443\n",
      "Data columns (total 7 columns):\n",
      " #   Column        Non-Null Count  Dtype \n",
      "---  ------        --------------  ----- \n",
      " 0   publisher     23884 non-null  object\n",
      " 1   genres        28663 non-null  object\n",
      " 2   title         28663 non-null  object\n",
      " 3   release_date  28663 non-null  object\n",
      " 4   tags          28639 non-null  object\n",
      " 5   id            28663 non-null  object\n",
      " 6   developer     28663 non-null  object\n",
      "dtypes: object(7)\n",
      "memory usage: 1.7+ MB\n"
     ]
    }
   ],
   "source": [
    "df_games.info() "
   ]
  },
  {
   "cell_type": "markdown",
   "metadata": {},
   "source": [
    "Se observa que el tipo de dato de todos los campos esta en \"str\""
   ]
  },
  {
   "cell_type": "code",
   "execution_count": 180,
   "metadata": {},
   "outputs": [],
   "source": [
    "# Se reemplaza los valores Nulos del campo 'tags' por una la siguiente lista '[N/D]'\n",
    "df_games['tags'] = df_games['tags'].fillna('[N/D]')"
   ]
  },
  {
   "cell_type": "code",
   "execution_count": 181,
   "metadata": {},
   "outputs": [
    {
     "data": {
      "text/plain": [
       "publisher       4779\n",
       "genres             0\n",
       "title              0\n",
       "release_date       0\n",
       "tags               0\n",
       "id                 0\n",
       "developer          0\n",
       "dtype: int64"
      ]
     },
     "execution_count": 181,
     "metadata": {},
     "output_type": "execute_result"
    }
   ],
   "source": [
    "# Se verifica que ya no hayan valores Nulos en el campo 'tags'\n",
    "nulos = df_games.isna().sum()\n",
    "nulos"
   ]
  },
  {
   "cell_type": "code",
   "execution_count": 182,
   "metadata": {},
   "outputs": [],
   "source": [
    "# Se reemplaza los valores Nulos del campo 'publisher' por una el siguiente string 'N/D'\n",
    "df_games['publisher'] = df_games['publisher'].fillna('N/D')"
   ]
  },
  {
   "cell_type": "code",
   "execution_count": 183,
   "metadata": {},
   "outputs": [
    {
     "data": {
      "text/plain": [
       "publisher       0\n",
       "genres          0\n",
       "title           0\n",
       "release_date    0\n",
       "tags            0\n",
       "id              0\n",
       "developer       0\n",
       "dtype: int64"
      ]
     },
     "execution_count": 183,
     "metadata": {},
     "output_type": "execute_result"
    }
   ],
   "source": [
    "# Se verifica que ya no hayan valores Nulos en el campo 'publisher'\n",
    "nulos = df_games.isna().sum()\n",
    "nulos"
   ]
  },
  {
   "cell_type": "markdown",
   "metadata": {},
   "source": [
    "Hasta este punto ya no hay valores Nulos en el Data Frame"
   ]
  },
  {
   "cell_type": "markdown",
   "metadata": {},
   "source": [
    "##### Se identifica una complejidad en el campo \"release_date\" por lo cual se procede a ser tranformado"
   ]
  },
  {
   "cell_type": "code",
   "execution_count": 184,
   "metadata": {},
   "outputs": [
    {
     "data": {
      "text/html": [
       "<div>\n",
       "<style scoped>\n",
       "    .dataframe tbody tr th:only-of-type {\n",
       "        vertical-align: middle;\n",
       "    }\n",
       "\n",
       "    .dataframe tbody tr th {\n",
       "        vertical-align: top;\n",
       "    }\n",
       "\n",
       "    .dataframe thead th {\n",
       "        text-align: right;\n",
       "    }\n",
       "</style>\n",
       "<table border=\"1\" class=\"dataframe\">\n",
       "  <thead>\n",
       "    <tr style=\"text-align: right;\">\n",
       "      <th></th>\n",
       "      <th>publisher</th>\n",
       "      <th>genres</th>\n",
       "      <th>title</th>\n",
       "      <th>release_date</th>\n",
       "      <th>tags</th>\n",
       "      <th>id</th>\n",
       "      <th>developer</th>\n",
       "    </tr>\n",
       "  </thead>\n",
       "  <tbody>\n",
       "    <tr>\n",
       "      <th>88320</th>\n",
       "      <td>Qucheza</td>\n",
       "      <td>[Action, Indie, Simulation, Early Access]</td>\n",
       "      <td>Uncanny Islands</td>\n",
       "      <td>Soon..</td>\n",
       "      <td>[Early Access, Action, Indie, Simulation, Surv...</td>\n",
       "      <td>768570</td>\n",
       "      <td>Qucheza</td>\n",
       "    </tr>\n",
       "    <tr>\n",
       "      <th>88353</th>\n",
       "      <td>Breakout Studio</td>\n",
       "      <td>[Indie, Massively Multiplayer, RPG, Early Access]</td>\n",
       "      <td>Life of Rome</td>\n",
       "      <td>2017</td>\n",
       "      <td>[Early Access, Massively Multiplayer, RPG, Ind...</td>\n",
       "      <td>381620</td>\n",
       "      <td>Breakout Studio</td>\n",
       "    </tr>\n",
       "    <tr>\n",
       "      <th>88354</th>\n",
       "      <td>zha7</td>\n",
       "      <td>[Adventure, Free to Play, RPG, Early Access]</td>\n",
       "      <td>Idle Adventure</td>\n",
       "      <td>Beta测试已开启</td>\n",
       "      <td>[Early Access, Free to Play, Adventure, RPG]</td>\n",
       "      <td>714020</td>\n",
       "      <td>zha7,Phaedruns,Yingke Wu</td>\n",
       "    </tr>\n",
       "    <tr>\n",
       "      <th>88560</th>\n",
       "      <td>Erik Svedäng</td>\n",
       "      <td>[Adventure, Indie]</td>\n",
       "      <td>Blueberry Garden</td>\n",
       "      <td>Jun 2009</td>\n",
       "      <td>[Adventure, Indie, Short, Puzzle]</td>\n",
       "      <td>29160</td>\n",
       "      <td>Erik Svedäng</td>\n",
       "    </tr>\n",
       "    <tr>\n",
       "      <th>88816</th>\n",
       "      <td>Paradox Interactive</td>\n",
       "      <td>[RPG, Strategy]</td>\n",
       "      <td>Age of Wonders II: The Wizard's Throne</td>\n",
       "      <td>Oct 2010</td>\n",
       "      <td>[Strategy, RPG, Turn-Based Strategy, Fantasy, ...</td>\n",
       "      <td>61510</td>\n",
       "      <td>Triumph Studios</td>\n",
       "    </tr>\n",
       "    <tr>\n",
       "      <th>...</th>\n",
       "      <td>...</td>\n",
       "      <td>...</td>\n",
       "      <td>...</td>\n",
       "      <td>...</td>\n",
       "      <td>...</td>\n",
       "      <td>...</td>\n",
       "      <td>...</td>\n",
       "    </tr>\n",
       "    <tr>\n",
       "      <th>120392</th>\n",
       "      <td>Fat Dog Games</td>\n",
       "      <td>[Action, Adventure, Indie, Simulation, Strategy]</td>\n",
       "      <td>War Builder League</td>\n",
       "      <td>15.01.2018</td>\n",
       "      <td>[Action, Indie, Simulation, Adventure, Strateg...</td>\n",
       "      <td>716800</td>\n",
       "      <td>Cyber Prophet</td>\n",
       "    </tr>\n",
       "    <tr>\n",
       "      <th>120393</th>\n",
       "      <td>Wrecked Angle Studios</td>\n",
       "      <td>[Action, Casual, Indie, Early Access]</td>\n",
       "      <td>Chromalocity</td>\n",
       "      <td>Q1, 2018</td>\n",
       "      <td>[Early Access, Action, Indie, Casual, Platform...</td>\n",
       "      <td>718250</td>\n",
       "      <td>Wrecked Angle Studios</td>\n",
       "    </tr>\n",
       "    <tr>\n",
       "      <th>120397</th>\n",
       "      <td>Greyson Richey, Nicholas Lives</td>\n",
       "      <td>[Action, Casual, Indie, Simulation]</td>\n",
       "      <td>Lonely Astronaut</td>\n",
       "      <td>Coming Soon</td>\n",
       "      <td>[Casual, Action, Indie, Simulation]</td>\n",
       "      <td>755830</td>\n",
       "      <td>Greyson Richey,Nicholas Lives</td>\n",
       "    </tr>\n",
       "    <tr>\n",
       "      <th>120407</th>\n",
       "      <td>Lunar Giant Studios</td>\n",
       "      <td>[Action, Indie]</td>\n",
       "      <td>Tetrapulse</td>\n",
       "      <td>2016</td>\n",
       "      <td>[Indie, Action, Co-op]</td>\n",
       "      <td>250440</td>\n",
       "      <td>The Amiable</td>\n",
       "    </tr>\n",
       "    <tr>\n",
       "      <th>120433</th>\n",
       "      <td>VersoVR</td>\n",
       "      <td>[Casual, Indie, Simulation, Sports, Early Access]</td>\n",
       "      <td>Cricket Club</td>\n",
       "      <td>January 2018</td>\n",
       "      <td>[Early Access, Indie, Casual, Simulation, Sports]</td>\n",
       "      <td>772180</td>\n",
       "      <td>VersoVR</td>\n",
       "    </tr>\n",
       "  </tbody>\n",
       "</table>\n",
       "<p>285 rows × 7 columns</p>\n",
       "</div>"
      ],
      "text/plain": [
       "                             publisher  \\\n",
       "88320                          Qucheza   \n",
       "88353                  Breakout Studio   \n",
       "88354                             zha7   \n",
       "88560                     Erik Svedäng   \n",
       "88816              Paradox Interactive   \n",
       "...                                ...   \n",
       "120392                   Fat Dog Games   \n",
       "120393           Wrecked Angle Studios   \n",
       "120397  Greyson Richey, Nicholas Lives   \n",
       "120407             Lunar Giant Studios   \n",
       "120433                         VersoVR   \n",
       "\n",
       "                                                   genres  \\\n",
       "88320           [Action, Indie, Simulation, Early Access]   \n",
       "88353   [Indie, Massively Multiplayer, RPG, Early Access]   \n",
       "88354        [Adventure, Free to Play, RPG, Early Access]   \n",
       "88560                                  [Adventure, Indie]   \n",
       "88816                                     [RPG, Strategy]   \n",
       "...                                                   ...   \n",
       "120392   [Action, Adventure, Indie, Simulation, Strategy]   \n",
       "120393              [Action, Casual, Indie, Early Access]   \n",
       "120397                [Action, Casual, Indie, Simulation]   \n",
       "120407                                    [Action, Indie]   \n",
       "120433  [Casual, Indie, Simulation, Sports, Early Access]   \n",
       "\n",
       "                                         title  release_date  \\\n",
       "88320                          Uncanny Islands        Soon..   \n",
       "88353                             Life of Rome          2017   \n",
       "88354                           Idle Adventure     Beta测试已开启   \n",
       "88560                         Blueberry Garden      Jun 2009   \n",
       "88816   Age of Wonders II: The Wizard's Throne      Oct 2010   \n",
       "...                                        ...           ...   \n",
       "120392                      War Builder League    15.01.2018   \n",
       "120393                            Chromalocity      Q1, 2018   \n",
       "120397                        Lonely Astronaut   Coming Soon   \n",
       "120407                              Tetrapulse          2016   \n",
       "120433                            Cricket Club  January 2018   \n",
       "\n",
       "                                                     tags      id  \\\n",
       "88320   [Early Access, Action, Indie, Simulation, Surv...  768570   \n",
       "88353   [Early Access, Massively Multiplayer, RPG, Ind...  381620   \n",
       "88354        [Early Access, Free to Play, Adventure, RPG]  714020   \n",
       "88560                   [Adventure, Indie, Short, Puzzle]   29160   \n",
       "88816   [Strategy, RPG, Turn-Based Strategy, Fantasy, ...   61510   \n",
       "...                                                   ...     ...   \n",
       "120392  [Action, Indie, Simulation, Adventure, Strateg...  716800   \n",
       "120393  [Early Access, Action, Indie, Casual, Platform...  718250   \n",
       "120397                [Casual, Action, Indie, Simulation]  755830   \n",
       "120407                             [Indie, Action, Co-op]  250440   \n",
       "120433  [Early Access, Indie, Casual, Simulation, Sports]  772180   \n",
       "\n",
       "                            developer  \n",
       "88320                         Qucheza  \n",
       "88353                 Breakout Studio  \n",
       "88354        zha7,Phaedruns,Yingke Wu  \n",
       "88560                    Erik Svedäng  \n",
       "88816                 Triumph Studios  \n",
       "...                               ...  \n",
       "120392                  Cyber Prophet  \n",
       "120393          Wrecked Angle Studios  \n",
       "120397  Greyson Richey,Nicholas Lives  \n",
       "120407                    The Amiable  \n",
       "120433                        VersoVR  \n",
       "\n",
       "[285 rows x 7 columns]"
      ]
     },
     "execution_count": 184,
     "metadata": {},
     "output_type": "execute_result"
    }
   ],
   "source": [
    "# Se realiza un filtrado de los valores que no coinciden con el patrón de fecha\n",
    "import re\n",
    "patron = re.compile(r'^\\d{4}-\\d{2}-\\d{2}$')\n",
    "filas_no_patron = df_games[~df_games['release_date'].astype(str).str.match(patron)]\n",
    "filas_no_patron"
   ]
  },
  {
   "cell_type": "markdown",
   "metadata": {},
   "source": [
    "Se descubre que hay una cantidad de filas cuyos datos de \"release_date\" son muy variados o no contienen información exacta de alguna fecha haciendolo dificil de normalizar por lo cual se procede a eliminar estas filas"
   ]
  },
  {
   "cell_type": "code",
   "execution_count": 185,
   "metadata": {},
   "outputs": [
    {
     "data": {
      "text/plain": [
       "(28378, 7)"
      ]
     },
     "execution_count": 185,
     "metadata": {},
     "output_type": "execute_result"
    }
   ],
   "source": [
    "# Se eliminan las filas que no coinciden con el patron de fecha de 'release_date'\n",
    "df_games = df_games.drop(filas_no_patron.index)\n",
    "df_games.shape"
   ]
  },
  {
   "cell_type": "code",
   "execution_count": 187,
   "metadata": {},
   "outputs": [
    {
     "data": {
      "text/html": [
       "<div>\n",
       "<style scoped>\n",
       "    .dataframe tbody tr th:only-of-type {\n",
       "        vertical-align: middle;\n",
       "    }\n",
       "\n",
       "    .dataframe tbody tr th {\n",
       "        vertical-align: top;\n",
       "    }\n",
       "\n",
       "    .dataframe thead th {\n",
       "        text-align: right;\n",
       "    }\n",
       "</style>\n",
       "<table border=\"1\" class=\"dataframe\">\n",
       "  <thead>\n",
       "    <tr style=\"text-align: right;\">\n",
       "      <th></th>\n",
       "      <th>publisher</th>\n",
       "      <th>genres</th>\n",
       "      <th>title</th>\n",
       "      <th>release_date</th>\n",
       "      <th>tags</th>\n",
       "      <th>id</th>\n",
       "      <th>developer</th>\n",
       "    </tr>\n",
       "  </thead>\n",
       "  <tbody>\n",
       "  </tbody>\n",
       "</table>\n",
       "</div>"
      ],
      "text/plain": [
       "Empty DataFrame\n",
       "Columns: [publisher, genres, title, release_date, tags, id, developer]\n",
       "Index: []"
      ]
     },
     "execution_count": 187,
     "metadata": {},
     "output_type": "execute_result"
    }
   ],
   "source": [
    "# Se verifica que no hayan valores mas largos como valor en'realease_rate' que no se puedan convertir a una fecha\n",
    "longitud_no_deseada = df_games[df_games['release_date'].astype(str).apply(len) != 10]\n",
    "longitud_no_deseada"
   ]
  },
  {
   "cell_type": "code",
   "execution_count": 188,
   "metadata": {},
   "outputs": [
    {
     "data": {
      "text/html": [
       "<div>\n",
       "<style scoped>\n",
       "    .dataframe tbody tr th:only-of-type {\n",
       "        vertical-align: middle;\n",
       "    }\n",
       "\n",
       "    .dataframe tbody tr th {\n",
       "        vertical-align: top;\n",
       "    }\n",
       "\n",
       "    .dataframe thead th {\n",
       "        text-align: right;\n",
       "    }\n",
       "</style>\n",
       "<table border=\"1\" class=\"dataframe\">\n",
       "  <thead>\n",
       "    <tr style=\"text-align: right;\">\n",
       "      <th></th>\n",
       "      <th>publisher</th>\n",
       "      <th>genres</th>\n",
       "      <th>title</th>\n",
       "      <th>release_date</th>\n",
       "      <th>tags</th>\n",
       "      <th>id</th>\n",
       "      <th>developer</th>\n",
       "    </tr>\n",
       "  </thead>\n",
       "  <tbody>\n",
       "    <tr>\n",
       "      <th>88310</th>\n",
       "      <td>Kotoshiro</td>\n",
       "      <td>[Action, Casual, Indie, Simulation, Strategy]</td>\n",
       "      <td>Lost Summoner Kitty</td>\n",
       "      <td>2018</td>\n",
       "      <td>[Strategy, Action, Indie, Casual, Simulation]</td>\n",
       "      <td>761140</td>\n",
       "      <td>Kotoshiro</td>\n",
       "    </tr>\n",
       "    <tr>\n",
       "      <th>88311</th>\n",
       "      <td>Making Fun, Inc.</td>\n",
       "      <td>[Free to Play, Indie, RPG, Strategy]</td>\n",
       "      <td>Ironbound</td>\n",
       "      <td>2018</td>\n",
       "      <td>[Free to Play, Strategy, Indie, RPG, Card Game...</td>\n",
       "      <td>643980</td>\n",
       "      <td>Secret Level SRL</td>\n",
       "    </tr>\n",
       "    <tr>\n",
       "      <th>88312</th>\n",
       "      <td>Poolians.com</td>\n",
       "      <td>[Casual, Free to Play, Indie, Simulation, Sports]</td>\n",
       "      <td>Real Pool 3D - Poolians</td>\n",
       "      <td>2017</td>\n",
       "      <td>[Free to Play, Simulation, Sports, Casual, Ind...</td>\n",
       "      <td>670290</td>\n",
       "      <td>Poolians.com</td>\n",
       "    </tr>\n",
       "    <tr>\n",
       "      <th>88313</th>\n",
       "      <td>彼岸领域</td>\n",
       "      <td>[Action, Adventure, Casual]</td>\n",
       "      <td>弹炸人2222</td>\n",
       "      <td>2017</td>\n",
       "      <td>[Action, Adventure, Casual]</td>\n",
       "      <td>767400</td>\n",
       "      <td>彼岸领域</td>\n",
       "    </tr>\n",
       "    <tr>\n",
       "      <th>88315</th>\n",
       "      <td>Trickjump Games Ltd</td>\n",
       "      <td>[Action, Adventure, Simulation]</td>\n",
       "      <td>Battle Royale Trainer</td>\n",
       "      <td>2018</td>\n",
       "      <td>[Action, Adventure, Simulation, FPS, Shooter, ...</td>\n",
       "      <td>772540</td>\n",
       "      <td>Trickjump Games Ltd</td>\n",
       "    </tr>\n",
       "  </tbody>\n",
       "</table>\n",
       "</div>"
      ],
      "text/plain": [
       "                 publisher                                             genres  \\\n",
       "88310            Kotoshiro      [Action, Casual, Indie, Simulation, Strategy]   \n",
       "88311     Making Fun, Inc.               [Free to Play, Indie, RPG, Strategy]   \n",
       "88312         Poolians.com  [Casual, Free to Play, Indie, Simulation, Sports]   \n",
       "88313                 彼岸领域                        [Action, Adventure, Casual]   \n",
       "88315  Trickjump Games Ltd                    [Action, Adventure, Simulation]   \n",
       "\n",
       "                         title release_date  \\\n",
       "88310      Lost Summoner Kitty         2018   \n",
       "88311                Ironbound         2018   \n",
       "88312  Real Pool 3D - Poolians         2017   \n",
       "88313                  弹炸人2222         2017   \n",
       "88315    Battle Royale Trainer         2018   \n",
       "\n",
       "                                                    tags      id  \\\n",
       "88310      [Strategy, Action, Indie, Casual, Simulation]  761140   \n",
       "88311  [Free to Play, Strategy, Indie, RPG, Card Game...  643980   \n",
       "88312  [Free to Play, Simulation, Sports, Casual, Ind...  670290   \n",
       "88313                        [Action, Adventure, Casual]  767400   \n",
       "88315  [Action, Adventure, Simulation, FPS, Shooter, ...  772540   \n",
       "\n",
       "                 developer  \n",
       "88310            Kotoshiro  \n",
       "88311     Secret Level SRL  \n",
       "88312         Poolians.com  \n",
       "88313                 彼岸领域  \n",
       "88315  Trickjump Games Ltd  "
      ]
     },
     "execution_count": 188,
     "metadata": {},
     "output_type": "execute_result"
    }
   ],
   "source": [
    "# Se eliminan los últimos 6 dijitos del campo 'release_date' para que solamente quede los dijitos del año\n",
    "df_games['release_date'] = df_games['release_date'].astype(str).str[:4]\n",
    "df_games.head()"
   ]
  },
  {
   "cell_type": "code",
   "execution_count": 189,
   "metadata": {},
   "outputs": [
    {
     "data": {
      "text/plain": [
       "array(['2018', '2017', '1997', '1998', '2016', '2006', '2005', '2003',\n",
       "       '2007', '2002', '2000', '1995', '1996', '1994', '2001', '1993',\n",
       "       '2004', '1999', '2008', '2009', '1992', '1989', '2010', '2011',\n",
       "       '2013', '2012', '2014', '1983', '1984', '2015', '1990', '1988',\n",
       "       '1991', '1987', '1986', '2021', '2019', '1985'], dtype=object)"
      ]
     },
     "execution_count": 189,
     "metadata": {},
     "output_type": "execute_result"
    }
   ],
   "source": [
    "# Se verifica que los únicos valores del campo sean cadenas que coincidan con años\n",
    "fecuencia_valores_date = df_games['release_date'].unique()\n",
    "fecuencia_valores_date"
   ]
  },
  {
   "cell_type": "markdown",
   "metadata": {},
   "source": [
    "Se reinicia el conteo del index del Data Frame"
   ]
  },
  {
   "cell_type": "code",
   "execution_count": 190,
   "metadata": {},
   "outputs": [],
   "source": [
    "df_games = df_games.reset_index()\n",
    "df_games = df_games.drop(columns='index')"
   ]
  },
  {
   "cell_type": "markdown",
   "metadata": {},
   "source": [
    "Se procede a Normalizar los nombres de los campos"
   ]
  },
  {
   "cell_type": "code",
   "execution_count": 191,
   "metadata": {},
   "outputs": [
    {
     "data": {
      "text/html": [
       "<div>\n",
       "<style scoped>\n",
       "    .dataframe tbody tr th:only-of-type {\n",
       "        vertical-align: middle;\n",
       "    }\n",
       "\n",
       "    .dataframe tbody tr th {\n",
       "        vertical-align: top;\n",
       "    }\n",
       "\n",
       "    .dataframe thead th {\n",
       "        text-align: right;\n",
       "    }\n",
       "</style>\n",
       "<table border=\"1\" class=\"dataframe\">\n",
       "  <thead>\n",
       "    <tr style=\"text-align: right;\">\n",
       "      <th></th>\n",
       "      <th>Publisher</th>\n",
       "      <th>Genres</th>\n",
       "      <th>Title</th>\n",
       "      <th>Year</th>\n",
       "      <th>Tags</th>\n",
       "      <th>Id</th>\n",
       "      <th>Developer</th>\n",
       "    </tr>\n",
       "  </thead>\n",
       "  <tbody>\n",
       "    <tr>\n",
       "      <th>0</th>\n",
       "      <td>Kotoshiro</td>\n",
       "      <td>[Action, Casual, Indie, Simulation, Strategy]</td>\n",
       "      <td>Lost Summoner Kitty</td>\n",
       "      <td>2018</td>\n",
       "      <td>[Strategy, Action, Indie, Casual, Simulation]</td>\n",
       "      <td>761140</td>\n",
       "      <td>Kotoshiro</td>\n",
       "    </tr>\n",
       "    <tr>\n",
       "      <th>1</th>\n",
       "      <td>Making Fun, Inc.</td>\n",
       "      <td>[Free to Play, Indie, RPG, Strategy]</td>\n",
       "      <td>Ironbound</td>\n",
       "      <td>2018</td>\n",
       "      <td>[Free to Play, Strategy, Indie, RPG, Card Game...</td>\n",
       "      <td>643980</td>\n",
       "      <td>Secret Level SRL</td>\n",
       "    </tr>\n",
       "  </tbody>\n",
       "</table>\n",
       "</div>"
      ],
      "text/plain": [
       "          Publisher                                         Genres  \\\n",
       "0         Kotoshiro  [Action, Casual, Indie, Simulation, Strategy]   \n",
       "1  Making Fun, Inc.           [Free to Play, Indie, RPG, Strategy]   \n",
       "\n",
       "                 Title  Year  \\\n",
       "0  Lost Summoner Kitty  2018   \n",
       "1            Ironbound  2018   \n",
       "\n",
       "                                                Tags      Id         Developer  \n",
       "0      [Strategy, Action, Indie, Casual, Simulation]  761140         Kotoshiro  \n",
       "1  [Free to Play, Strategy, Indie, RPG, Card Game...  643980  Secret Level SRL  "
      ]
     },
     "execution_count": 191,
     "metadata": {},
     "output_type": "execute_result"
    }
   ],
   "source": [
    "df_games = df_games.rename(columns={'publisher': 'Publisher'})\n",
    "df_games = df_games.rename(columns={'genres': 'Genres'})\n",
    "df_games = df_games.rename(columns={'title': 'Title'})\n",
    "df_games = df_games.rename(columns={'release_date': 'Year'})\n",
    "df_games = df_games.rename(columns={'tags': 'Tags'})\n",
    "df_games = df_games.rename(columns={'id': 'Item_Id'})\n",
    "df_games = df_games.rename(columns={'developer': 'Developer'})\n",
    "df_games.head(2)"
   ]
  },
  {
   "cell_type": "markdown",
   "metadata": {},
   "source": [
    "#### Se transforma los tipos de datos de los valores "
   ]
  },
  {
   "cell_type": "code",
   "execution_count": 192,
   "metadata": {},
   "outputs": [
    {
     "data": {
      "text/html": [
       "<div>\n",
       "<style scoped>\n",
       "    .dataframe tbody tr th:only-of-type {\n",
       "        vertical-align: middle;\n",
       "    }\n",
       "\n",
       "    .dataframe tbody tr th {\n",
       "        vertical-align: top;\n",
       "    }\n",
       "\n",
       "    .dataframe thead th {\n",
       "        text-align: right;\n",
       "    }\n",
       "</style>\n",
       "<table border=\"1\" class=\"dataframe\">\n",
       "  <thead>\n",
       "    <tr style=\"text-align: right;\">\n",
       "      <th></th>\n",
       "      <th>Publisher</th>\n",
       "      <th>Genres</th>\n",
       "      <th>Title</th>\n",
       "      <th>Year</th>\n",
       "      <th>Tags</th>\n",
       "      <th>Id</th>\n",
       "      <th>Developer</th>\n",
       "    </tr>\n",
       "  </thead>\n",
       "  <tbody>\n",
       "    <tr>\n",
       "      <th>0</th>\n",
       "      <td>Kotoshiro</td>\n",
       "      <td>[Action, Casual, Indie, Simulation, Strategy]</td>\n",
       "      <td>Lost Summoner Kitty</td>\n",
       "      <td>2018</td>\n",
       "      <td>[Strategy, Action, Indie, Casual, Simulation]</td>\n",
       "      <td>761140</td>\n",
       "      <td>Kotoshiro</td>\n",
       "    </tr>\n",
       "    <tr>\n",
       "      <th>1</th>\n",
       "      <td>Making Fun, Inc.</td>\n",
       "      <td>[Free to Play, Indie, RPG, Strategy]</td>\n",
       "      <td>Ironbound</td>\n",
       "      <td>2018</td>\n",
       "      <td>[Free to Play, Strategy, Indie, RPG, Card Game...</td>\n",
       "      <td>643980</td>\n",
       "      <td>Secret Level SRL</td>\n",
       "    </tr>\n",
       "  </tbody>\n",
       "</table>\n",
       "</div>"
      ],
      "text/plain": [
       "          Publisher                                         Genres  \\\n",
       "0         Kotoshiro  [Action, Casual, Indie, Simulation, Strategy]   \n",
       "1  Making Fun, Inc.           [Free to Play, Indie, RPG, Strategy]   \n",
       "\n",
       "                 Title  Year  \\\n",
       "0  Lost Summoner Kitty  2018   \n",
       "1            Ironbound  2018   \n",
       "\n",
       "                                                Tags      Id         Developer  \n",
       "0      [Strategy, Action, Indie, Casual, Simulation]  761140         Kotoshiro  \n",
       "1  [Free to Play, Strategy, Indie, RPG, Card Game...  643980  Secret Level SRL  "
      ]
     },
     "execution_count": 192,
     "metadata": {},
     "output_type": "execute_result"
    }
   ],
   "source": [
    "# Se cambia el tipo de dato del campo 'Release_Date' por tipo de dato Date Time\n",
    "df_games['Year'] = df_games['Year'].astype(int)\n",
    "df_games.head(2)"
   ]
  },
  {
   "cell_type": "code",
   "execution_count": 193,
   "metadata": {},
   "outputs": [
    {
     "data": {
      "text/html": [
       "<div>\n",
       "<style scoped>\n",
       "    .dataframe tbody tr th:only-of-type {\n",
       "        vertical-align: middle;\n",
       "    }\n",
       "\n",
       "    .dataframe tbody tr th {\n",
       "        vertical-align: top;\n",
       "    }\n",
       "\n",
       "    .dataframe thead th {\n",
       "        text-align: right;\n",
       "    }\n",
       "</style>\n",
       "<table border=\"1\" class=\"dataframe\">\n",
       "  <thead>\n",
       "    <tr style=\"text-align: right;\">\n",
       "      <th></th>\n",
       "      <th>Publisher</th>\n",
       "      <th>Genres</th>\n",
       "      <th>Title</th>\n",
       "      <th>Year</th>\n",
       "      <th>Tags</th>\n",
       "      <th>Id</th>\n",
       "      <th>Developer</th>\n",
       "    </tr>\n",
       "  </thead>\n",
       "  <tbody>\n",
       "    <tr>\n",
       "      <th>0</th>\n",
       "      <td>Kotoshiro</td>\n",
       "      <td>[Action, Casual, Indie, Simulation, Strategy]</td>\n",
       "      <td>Lost Summoner Kitty</td>\n",
       "      <td>2018</td>\n",
       "      <td>[Strategy, Action, Indie, Casual, Simulation]</td>\n",
       "      <td>761140</td>\n",
       "      <td>Kotoshiro</td>\n",
       "    </tr>\n",
       "    <tr>\n",
       "      <th>1</th>\n",
       "      <td>Making Fun, Inc.</td>\n",
       "      <td>[Free to Play, Indie, RPG, Strategy]</td>\n",
       "      <td>Ironbound</td>\n",
       "      <td>2018</td>\n",
       "      <td>[Free to Play, Strategy, Indie, RPG, Card Game...</td>\n",
       "      <td>643980</td>\n",
       "      <td>Secret Level SRL</td>\n",
       "    </tr>\n",
       "  </tbody>\n",
       "</table>\n",
       "</div>"
      ],
      "text/plain": [
       "          Publisher                                         Genres  \\\n",
       "0         Kotoshiro  [Action, Casual, Indie, Simulation, Strategy]   \n",
       "1  Making Fun, Inc.           [Free to Play, Indie, RPG, Strategy]   \n",
       "\n",
       "                 Title  Year  \\\n",
       "0  Lost Summoner Kitty  2018   \n",
       "1            Ironbound  2018   \n",
       "\n",
       "                                                Tags      Id         Developer  \n",
       "0      [Strategy, Action, Indie, Casual, Simulation]  761140         Kotoshiro  \n",
       "1  [Free to Play, Strategy, Indie, RPG, Card Game...  643980  Secret Level SRL  "
      ]
     },
     "execution_count": 193,
     "metadata": {},
     "output_type": "execute_result"
    }
   ],
   "source": [
    "# Se transforma los datos del campo 'Item_Id' de tipo str a tipo int\n",
    "df_games['Item_Id'] = df_games['Item_Id'].astype(int)\n",
    "df_games.head(2)"
   ]
  },
  {
   "cell_type": "code",
   "execution_count": 194,
   "metadata": {},
   "outputs": [
    {
     "data": {
      "text/html": [
       "<div>\n",
       "<style scoped>\n",
       "    .dataframe tbody tr th:only-of-type {\n",
       "        vertical-align: middle;\n",
       "    }\n",
       "\n",
       "    .dataframe tbody tr th {\n",
       "        vertical-align: top;\n",
       "    }\n",
       "\n",
       "    .dataframe thead th {\n",
       "        text-align: right;\n",
       "    }\n",
       "</style>\n",
       "<table border=\"1\" class=\"dataframe\">\n",
       "  <thead>\n",
       "    <tr style=\"text-align: right;\">\n",
       "      <th></th>\n",
       "      <th>Publisher</th>\n",
       "      <th>Genres</th>\n",
       "      <th>Title</th>\n",
       "      <th>Year</th>\n",
       "      <th>Tags</th>\n",
       "      <th>Id</th>\n",
       "      <th>Developer</th>\n",
       "    </tr>\n",
       "  </thead>\n",
       "  <tbody>\n",
       "    <tr>\n",
       "      <th>0</th>\n",
       "      <td>Kotoshiro</td>\n",
       "      <td>['Action', 'Casual', 'Indie', 'Simulation', 'S...</td>\n",
       "      <td>Lost Summoner Kitty</td>\n",
       "      <td>2018</td>\n",
       "      <td>['Strategy', 'Action', 'Indie', 'Casual', 'Sim...</td>\n",
       "      <td>761140</td>\n",
       "      <td>Kotoshiro</td>\n",
       "    </tr>\n",
       "    <tr>\n",
       "      <th>1</th>\n",
       "      <td>Making Fun, Inc.</td>\n",
       "      <td>['Free to Play', 'Indie', 'RPG', 'Strategy']</td>\n",
       "      <td>Ironbound</td>\n",
       "      <td>2018</td>\n",
       "      <td>['Free to Play', 'Strategy', 'Indie', 'RPG', '...</td>\n",
       "      <td>643980</td>\n",
       "      <td>Secret Level SRL</td>\n",
       "    </tr>\n",
       "  </tbody>\n",
       "</table>\n",
       "</div>"
      ],
      "text/plain": [
       "          Publisher                                             Genres  \\\n",
       "0         Kotoshiro  ['Action', 'Casual', 'Indie', 'Simulation', 'S...   \n",
       "1  Making Fun, Inc.       ['Free to Play', 'Indie', 'RPG', 'Strategy']   \n",
       "\n",
       "                 Title  Year  \\\n",
       "0  Lost Summoner Kitty  2018   \n",
       "1            Ironbound  2018   \n",
       "\n",
       "                                                Tags      Id         Developer  \n",
       "0  ['Strategy', 'Action', 'Indie', 'Casual', 'Sim...  761140         Kotoshiro  \n",
       "1  ['Free to Play', 'Strategy', 'Indie', 'RPG', '...  643980  Secret Level SRL  "
      ]
     },
     "execution_count": 194,
     "metadata": {},
     "output_type": "execute_result"
    }
   ],
   "source": [
    "# Se transforma los datos de los campos 'Genres' y 'Tags' de tipo str a tipo str\n",
    "df_games['Genres'] = df_games['Genres'].astype(str)\n",
    "df_games['Tags'] = df_games['Tags'].astype(str)\n",
    "df_games.head(2)"
   ]
  },
  {
   "cell_type": "code",
   "execution_count": 195,
   "metadata": {},
   "outputs": [
    {
     "name": "stdout",
     "output_type": "stream",
     "text": [
      "<class 'pandas.core.frame.DataFrame'>\n",
      "RangeIndex: 28378 entries, 0 to 28377\n",
      "Data columns (total 7 columns):\n",
      " #   Column     Non-Null Count  Dtype \n",
      "---  ------     --------------  ----- \n",
      " 0   Publisher  28378 non-null  object\n",
      " 1   Genres     28378 non-null  object\n",
      " 2   Title      28378 non-null  object\n",
      " 3   Year       28378 non-null  int32 \n",
      " 4   Tags       28378 non-null  object\n",
      " 5   Id         28378 non-null  int32 \n",
      " 6   Developer  28378 non-null  object\n",
      "dtypes: int32(2), object(5)\n",
      "memory usage: 1.3+ MB\n"
     ]
    }
   ],
   "source": [
    "# Se verifica estos cambios de tipos de dato\n",
    "df_games.info()"
   ]
  },
  {
   "cell_type": "code",
   "execution_count": 196,
   "metadata": {},
   "outputs": [
    {
     "data": {
      "text/html": [
       "<div>\n",
       "<style scoped>\n",
       "    .dataframe tbody tr th:only-of-type {\n",
       "        vertical-align: middle;\n",
       "    }\n",
       "\n",
       "    .dataframe tbody tr th {\n",
       "        vertical-align: top;\n",
       "    }\n",
       "\n",
       "    .dataframe thead th {\n",
       "        text-align: right;\n",
       "    }\n",
       "</style>\n",
       "<table border=\"1\" class=\"dataframe\">\n",
       "  <thead>\n",
       "    <tr style=\"text-align: right;\">\n",
       "      <th></th>\n",
       "      <th>Publisher</th>\n",
       "      <th>Genres</th>\n",
       "      <th>Title</th>\n",
       "      <th>Year</th>\n",
       "      <th>Tags</th>\n",
       "      <th>Id</th>\n",
       "      <th>Developer</th>\n",
       "    </tr>\n",
       "  </thead>\n",
       "  <tbody>\n",
       "    <tr>\n",
       "      <th>0</th>\n",
       "      <td>Kotoshiro</td>\n",
       "      <td>'Action', 'Casual', 'Indie', 'Simulation', 'St...</td>\n",
       "      <td>Lost Summoner Kitty</td>\n",
       "      <td>2018</td>\n",
       "      <td>'Strategy', 'Action', 'Indie', 'Casual', 'Simu...</td>\n",
       "      <td>761140</td>\n",
       "      <td>Kotoshiro</td>\n",
       "    </tr>\n",
       "    <tr>\n",
       "      <th>1</th>\n",
       "      <td>Making Fun, Inc.</td>\n",
       "      <td>'Free to Play', 'Indie', 'RPG', 'Strategy'</td>\n",
       "      <td>Ironbound</td>\n",
       "      <td>2018</td>\n",
       "      <td>'Free to Play', 'Strategy', 'Indie', 'RPG', 'C...</td>\n",
       "      <td>643980</td>\n",
       "      <td>Secret Level SRL</td>\n",
       "    </tr>\n",
       "  </tbody>\n",
       "</table>\n",
       "</div>"
      ],
      "text/plain": [
       "          Publisher                                             Genres  \\\n",
       "0         Kotoshiro  'Action', 'Casual', 'Indie', 'Simulation', 'St...   \n",
       "1  Making Fun, Inc.         'Free to Play', 'Indie', 'RPG', 'Strategy'   \n",
       "\n",
       "                 Title  Year  \\\n",
       "0  Lost Summoner Kitty  2018   \n",
       "1            Ironbound  2018   \n",
       "\n",
       "                                                Tags      Id         Developer  \n",
       "0  'Strategy', 'Action', 'Indie', 'Casual', 'Simu...  761140         Kotoshiro  \n",
       "1  'Free to Play', 'Strategy', 'Indie', 'RPG', 'C...  643980  Secret Level SRL  "
      ]
     },
     "execution_count": 196,
     "metadata": {},
     "output_type": "execute_result"
    }
   ],
   "source": [
    "# Se elimina los corchetes del principio y el final de las cadenas\n",
    "df_games['Genres'] = df_games['Genres'].str.strip('[]')\n",
    "df_games['Tags'] = df_games['Tags'].str.strip('[]')\n",
    "df_games.head(2)"
   ]
  },
  {
   "cell_type": "code",
   "execution_count": 197,
   "metadata": {},
   "outputs": [
    {
     "data": {
      "text/html": [
       "<div>\n",
       "<style scoped>\n",
       "    .dataframe tbody tr th:only-of-type {\n",
       "        vertical-align: middle;\n",
       "    }\n",
       "\n",
       "    .dataframe tbody tr th {\n",
       "        vertical-align: top;\n",
       "    }\n",
       "\n",
       "    .dataframe thead th {\n",
       "        text-align: right;\n",
       "    }\n",
       "</style>\n",
       "<table border=\"1\" class=\"dataframe\">\n",
       "  <thead>\n",
       "    <tr style=\"text-align: right;\">\n",
       "      <th></th>\n",
       "      <th>Publisher</th>\n",
       "      <th>Genres</th>\n",
       "      <th>Title</th>\n",
       "      <th>Year</th>\n",
       "      <th>Tags</th>\n",
       "      <th>Id</th>\n",
       "      <th>Developer</th>\n",
       "    </tr>\n",
       "  </thead>\n",
       "  <tbody>\n",
       "    <tr>\n",
       "      <th>0</th>\n",
       "      <td>Kotoshiro</td>\n",
       "      <td>Action, Casual, Indie, Simulation, Strategy</td>\n",
       "      <td>Lost Summoner Kitty</td>\n",
       "      <td>2018</td>\n",
       "      <td>Strategy, Action, Indie, Casual, Simulation</td>\n",
       "      <td>761140</td>\n",
       "      <td>Kotoshiro</td>\n",
       "    </tr>\n",
       "    <tr>\n",
       "      <th>1</th>\n",
       "      <td>Making Fun, Inc.</td>\n",
       "      <td>Free to Play, Indie, RPG, Strategy</td>\n",
       "      <td>Ironbound</td>\n",
       "      <td>2018</td>\n",
       "      <td>Free to Play, Strategy, Indie, RPG, Card Game,...</td>\n",
       "      <td>643980</td>\n",
       "      <td>Secret Level SRL</td>\n",
       "    </tr>\n",
       "  </tbody>\n",
       "</table>\n",
       "</div>"
      ],
      "text/plain": [
       "          Publisher                                       Genres  \\\n",
       "0         Kotoshiro  Action, Casual, Indie, Simulation, Strategy   \n",
       "1  Making Fun, Inc.           Free to Play, Indie, RPG, Strategy   \n",
       "\n",
       "                 Title  Year  \\\n",
       "0  Lost Summoner Kitty  2018   \n",
       "1            Ironbound  2018   \n",
       "\n",
       "                                                Tags      Id         Developer  \n",
       "0        Strategy, Action, Indie, Casual, Simulation  761140         Kotoshiro  \n",
       "1  Free to Play, Strategy, Indie, RPG, Card Game,...  643980  Secret Level SRL  "
      ]
     },
     "execution_count": 197,
     "metadata": {},
     "output_type": "execute_result"
    }
   ],
   "source": [
    "# Se elimina la la comilla \"'\" de todos las filas de los campos  'Genres' y 'Tags'\n",
    "df_games['Genres'] = df_games['Genres'].str.replace(\"'\", '')\n",
    "df_games['Tags'] = df_games['Tags'].str.replace(\"'\", '')\n",
    "df_games.head(2)"
   ]
  },
  {
   "cell_type": "code",
   "execution_count": 198,
   "metadata": {},
   "outputs": [
    {
     "data": {
      "text/plain": [
       "0"
      ]
     },
     "execution_count": 198,
     "metadata": {},
     "output_type": "execute_result"
    }
   ],
   "source": [
    "# Se crea una variable para contar cuantos valores hay que sean strings (\"\") en el campo 'Generes'\n",
    "cant_generes = df_games[df_games['Genres'] == ''].count()['Genres']\n",
    "cant_generes"
   ]
  },
  {
   "cell_type": "code",
   "execution_count": 199,
   "metadata": {},
   "outputs": [
    {
     "data": {
      "text/plain": [
       "0"
      ]
     },
     "execution_count": 199,
     "metadata": {},
     "output_type": "execute_result"
    }
   ],
   "source": [
    "# Se crea una variable para contar cuantos valores hay que sean strings (\"\") en el campo 'Tags'\n",
    "cant_tags = df_games[df_games['Tags'] == ''].count()['Tags']\n",
    "cant_tags"
   ]
  },
  {
   "cell_type": "markdown",
   "metadata": {},
   "source": [
    "De esta manera se verifica que ya no hay filas con datos irelevantes hasta el momento"
   ]
  },
  {
   "cell_type": "markdown",
   "metadata": {},
   "source": [
    "##### Se decide tomar como relevante el contenido del campo \"Tags\" para las consultas sobre los generos por lo cual se unira al campo \"Genres\" creando un nuevo campo llamado \"Genres_Plus\" donde solo aparezcan los valores únicos resultantes "
   ]
  },
  {
   "cell_type": "code",
   "execution_count": 200,
   "metadata": {},
   "outputs": [
    {
     "data": {
      "text/html": [
       "<div>\n",
       "<style scoped>\n",
       "    .dataframe tbody tr th:only-of-type {\n",
       "        vertical-align: middle;\n",
       "    }\n",
       "\n",
       "    .dataframe tbody tr th {\n",
       "        vertical-align: top;\n",
       "    }\n",
       "\n",
       "    .dataframe thead th {\n",
       "        text-align: right;\n",
       "    }\n",
       "</style>\n",
       "<table border=\"1\" class=\"dataframe\">\n",
       "  <thead>\n",
       "    <tr style=\"text-align: right;\">\n",
       "      <th></th>\n",
       "      <th>Publisher</th>\n",
       "      <th>Genres</th>\n",
       "      <th>Title</th>\n",
       "      <th>Year</th>\n",
       "      <th>Tags</th>\n",
       "      <th>Id</th>\n",
       "      <th>Developer</th>\n",
       "      <th>Genres_Plus</th>\n",
       "    </tr>\n",
       "  </thead>\n",
       "  <tbody>\n",
       "    <tr>\n",
       "      <th>0</th>\n",
       "      <td>Kotoshiro</td>\n",
       "      <td>Action, Casual, Indie, Simulation, Strategy</td>\n",
       "      <td>Lost Summoner Kitty</td>\n",
       "      <td>2018</td>\n",
       "      <td>Strategy, Action, Indie, Casual, Simulation</td>\n",
       "      <td>761140</td>\n",
       "      <td>Kotoshiro</td>\n",
       "      <td>Simulation, Strategy, Casual, Action, Indie</td>\n",
       "    </tr>\n",
       "    <tr>\n",
       "      <th>1</th>\n",
       "      <td>Making Fun, Inc.</td>\n",
       "      <td>Free to Play, Indie, RPG, Strategy</td>\n",
       "      <td>Ironbound</td>\n",
       "      <td>2018</td>\n",
       "      <td>Free to Play, Strategy, Indie, RPG, Card Game,...</td>\n",
       "      <td>643980</td>\n",
       "      <td>Secret Level SRL</td>\n",
       "      <td>2D, Replay Value, RPG, Turn-Based, Free to Pla...</td>\n",
       "    </tr>\n",
       "    <tr>\n",
       "      <th>2</th>\n",
       "      <td>Poolians.com</td>\n",
       "      <td>Casual, Free to Play, Indie, Simulation, Sports</td>\n",
       "      <td>Real Pool 3D - Poolians</td>\n",
       "      <td>2017</td>\n",
       "      <td>Free to Play, Simulation, Sports, Casual, Indi...</td>\n",
       "      <td>670290</td>\n",
       "      <td>Poolians.com</td>\n",
       "      <td>Sports, Simulation, Free to Play, Multiplayer,...</td>\n",
       "    </tr>\n",
       "    <tr>\n",
       "      <th>3</th>\n",
       "      <td>彼岸领域</td>\n",
       "      <td>Action, Adventure, Casual</td>\n",
       "      <td>弹炸人2222</td>\n",
       "      <td>2017</td>\n",
       "      <td>Action, Adventure, Casual</td>\n",
       "      <td>767400</td>\n",
       "      <td>彼岸领域</td>\n",
       "      <td>Action, Casual, Adventure</td>\n",
       "    </tr>\n",
       "    <tr>\n",
       "      <th>4</th>\n",
       "      <td>Trickjump Games Ltd</td>\n",
       "      <td>Action, Adventure, Simulation</td>\n",
       "      <td>Battle Royale Trainer</td>\n",
       "      <td>2018</td>\n",
       "      <td>Action, Adventure, Simulation, FPS, Shooter, T...</td>\n",
       "      <td>772540</td>\n",
       "      <td>Trickjump Games Ltd</td>\n",
       "      <td>Third-Person Shooter, Sniper, Shooter, Simulat...</td>\n",
       "    </tr>\n",
       "    <tr>\n",
       "      <th>...</th>\n",
       "      <td>...</td>\n",
       "      <td>...</td>\n",
       "      <td>...</td>\n",
       "      <td>...</td>\n",
       "      <td>...</td>\n",
       "      <td>...</td>\n",
       "      <td>...</td>\n",
       "      <td>...</td>\n",
       "    </tr>\n",
       "    <tr>\n",
       "      <th>28373</th>\n",
       "      <td>Bidoniera Games</td>\n",
       "      <td>Action, Adventure, Casual, Indie</td>\n",
       "      <td>Kebab it Up!</td>\n",
       "      <td>2018</td>\n",
       "      <td>Action, Indie, Casual, Violent, Adventure</td>\n",
       "      <td>745400</td>\n",
       "      <td>Bidoniera Games</td>\n",
       "      <td>Violent, Casual, Adventure, Action, Indie</td>\n",
       "    </tr>\n",
       "    <tr>\n",
       "      <th>28374</th>\n",
       "      <td>Ghost_RUS Games</td>\n",
       "      <td>Casual, Indie, Simulation, Strategy</td>\n",
       "      <td>Colony On Mars</td>\n",
       "      <td>2018</td>\n",
       "      <td>Strategy, Indie, Casual, Simulation</td>\n",
       "      <td>773640</td>\n",
       "      <td>Nikita \"Ghost_RUS\"</td>\n",
       "      <td>Casual, Indie, Simulation, Strategy</td>\n",
       "    </tr>\n",
       "    <tr>\n",
       "      <th>28375</th>\n",
       "      <td>Sacada</td>\n",
       "      <td>Casual, Indie, Strategy</td>\n",
       "      <td>LOGistICAL: South Africa</td>\n",
       "      <td>2018</td>\n",
       "      <td>Strategy, Indie, Casual</td>\n",
       "      <td>733530</td>\n",
       "      <td>Sacada</td>\n",
       "      <td>Casual, Indie, Strategy</td>\n",
       "    </tr>\n",
       "    <tr>\n",
       "      <th>28376</th>\n",
       "      <td>Laush Studio</td>\n",
       "      <td>Indie, Racing, Simulation</td>\n",
       "      <td>Russian Roads</td>\n",
       "      <td>2018</td>\n",
       "      <td>Indie, Simulation, Racing</td>\n",
       "      <td>610660</td>\n",
       "      <td>Laush Dmitriy Sergeevich</td>\n",
       "      <td>Racing, Indie, Simulation</td>\n",
       "    </tr>\n",
       "    <tr>\n",
       "      <th>28377</th>\n",
       "      <td>SIXNAILS</td>\n",
       "      <td>Casual, Indie</td>\n",
       "      <td>EXIT 2 - Directions</td>\n",
       "      <td>2017</td>\n",
       "      <td>Indie, Casual, Puzzle, Singleplayer, Atmospher...</td>\n",
       "      <td>658870</td>\n",
       "      <td>xropi,stev3ns</td>\n",
       "      <td>Singleplayer, Puzzle, Atmospheric, Casual, Rel...</td>\n",
       "    </tr>\n",
       "  </tbody>\n",
       "</table>\n",
       "<p>28378 rows × 8 columns</p>\n",
       "</div>"
      ],
      "text/plain": [
       "                 Publisher                                           Genres  \\\n",
       "0                Kotoshiro      Action, Casual, Indie, Simulation, Strategy   \n",
       "1         Making Fun, Inc.               Free to Play, Indie, RPG, Strategy   \n",
       "2             Poolians.com  Casual, Free to Play, Indie, Simulation, Sports   \n",
       "3                     彼岸领域                        Action, Adventure, Casual   \n",
       "4      Trickjump Games Ltd                    Action, Adventure, Simulation   \n",
       "...                    ...                                              ...   \n",
       "28373      Bidoniera Games                 Action, Adventure, Casual, Indie   \n",
       "28374      Ghost_RUS Games              Casual, Indie, Simulation, Strategy   \n",
       "28375               Sacada                          Casual, Indie, Strategy   \n",
       "28376         Laush Studio                        Indie, Racing, Simulation   \n",
       "28377             SIXNAILS                                    Casual, Indie   \n",
       "\n",
       "                          Title  Year  \\\n",
       "0           Lost Summoner Kitty  2018   \n",
       "1                     Ironbound  2018   \n",
       "2       Real Pool 3D - Poolians  2017   \n",
       "3                       弹炸人2222  2017   \n",
       "4         Battle Royale Trainer  2018   \n",
       "...                         ...   ...   \n",
       "28373              Kebab it Up!  2018   \n",
       "28374            Colony On Mars  2018   \n",
       "28375  LOGistICAL: South Africa  2018   \n",
       "28376             Russian Roads  2018   \n",
       "28377       EXIT 2 - Directions  2017   \n",
       "\n",
       "                                                    Tags      Id  \\\n",
       "0            Strategy, Action, Indie, Casual, Simulation  761140   \n",
       "1      Free to Play, Strategy, Indie, RPG, Card Game,...  643980   \n",
       "2      Free to Play, Simulation, Sports, Casual, Indi...  670290   \n",
       "3                              Action, Adventure, Casual  767400   \n",
       "4      Action, Adventure, Simulation, FPS, Shooter, T...  772540   \n",
       "...                                                  ...     ...   \n",
       "28373          Action, Indie, Casual, Violent, Adventure  745400   \n",
       "28374                Strategy, Indie, Casual, Simulation  773640   \n",
       "28375                            Strategy, Indie, Casual  733530   \n",
       "28376                          Indie, Simulation, Racing  610660   \n",
       "28377  Indie, Casual, Puzzle, Singleplayer, Atmospher...  658870   \n",
       "\n",
       "                      Developer  \\\n",
       "0                     Kotoshiro   \n",
       "1              Secret Level SRL   \n",
       "2                  Poolians.com   \n",
       "3                          彼岸领域   \n",
       "4           Trickjump Games Ltd   \n",
       "...                         ...   \n",
       "28373           Bidoniera Games   \n",
       "28374        Nikita \"Ghost_RUS\"   \n",
       "28375                    Sacada   \n",
       "28376  Laush Dmitriy Sergeevich   \n",
       "28377             xropi,stev3ns   \n",
       "\n",
       "                                             Genres_Plus  \n",
       "0            Simulation, Strategy, Casual, Action, Indie  \n",
       "1      2D, Replay Value, RPG, Turn-Based, Free to Pla...  \n",
       "2      Sports, Simulation, Free to Play, Multiplayer,...  \n",
       "3                              Action, Casual, Adventure  \n",
       "4      Third-Person Shooter, Sniper, Shooter, Simulat...  \n",
       "...                                                  ...  \n",
       "28373          Violent, Casual, Adventure, Action, Indie  \n",
       "28374                Casual, Indie, Simulation, Strategy  \n",
       "28375                            Casual, Indie, Strategy  \n",
       "28376                          Racing, Indie, Simulation  \n",
       "28377  Singleplayer, Puzzle, Atmospheric, Casual, Rel...  \n",
       "\n",
       "[28378 rows x 8 columns]"
      ]
     },
     "execution_count": 200,
     "metadata": {},
     "output_type": "execute_result"
    }
   ],
   "source": [
    "df_games['Genres_Plus'] = (df_games['Genres'].str.split(', ') + df_games['Tags'].str.split(', ')).apply(set).apply(list).apply(', '.join)\n",
    "df_games"
   ]
  },
  {
   "cell_type": "markdown",
   "metadata": {},
   "source": [
    "Ahora que se tiene el nuevo campo se procede a eliminar los originales y a normalizar el nuevo"
   ]
  },
  {
   "cell_type": "code",
   "execution_count": 203,
   "metadata": {},
   "outputs": [
    {
     "data": {
      "text/html": [
       "<div>\n",
       "<style scoped>\n",
       "    .dataframe tbody tr th:only-of-type {\n",
       "        vertical-align: middle;\n",
       "    }\n",
       "\n",
       "    .dataframe tbody tr th {\n",
       "        vertical-align: top;\n",
       "    }\n",
       "\n",
       "    .dataframe thead th {\n",
       "        text-align: right;\n",
       "    }\n",
       "</style>\n",
       "<table border=\"1\" class=\"dataframe\">\n",
       "  <thead>\n",
       "    <tr style=\"text-align: right;\">\n",
       "      <th></th>\n",
       "      <th>Publisher</th>\n",
       "      <th>Title</th>\n",
       "      <th>Year</th>\n",
       "      <th>Id</th>\n",
       "      <th>Developer</th>\n",
       "      <th>Genres_Plus</th>\n",
       "    </tr>\n",
       "  </thead>\n",
       "  <tbody>\n",
       "    <tr>\n",
       "      <th>0</th>\n",
       "      <td>Kotoshiro</td>\n",
       "      <td>Lost Summoner Kitty</td>\n",
       "      <td>2018</td>\n",
       "      <td>761140</td>\n",
       "      <td>Kotoshiro</td>\n",
       "      <td>Simulation, Strategy, Casual, Action, Indie</td>\n",
       "    </tr>\n",
       "    <tr>\n",
       "      <th>1</th>\n",
       "      <td>Making Fun, Inc.</td>\n",
       "      <td>Ironbound</td>\n",
       "      <td>2018</td>\n",
       "      <td>643980</td>\n",
       "      <td>Secret Level SRL</td>\n",
       "      <td>2D, Replay Value, RPG, Turn-Based, Free to Pla...</td>\n",
       "    </tr>\n",
       "  </tbody>\n",
       "</table>\n",
       "</div>"
      ],
      "text/plain": [
       "          Publisher                Title  Year      Id         Developer  \\\n",
       "0         Kotoshiro  Lost Summoner Kitty  2018  761140         Kotoshiro   \n",
       "1  Making Fun, Inc.            Ironbound  2018  643980  Secret Level SRL   \n",
       "\n",
       "                                         Genres_Plus  \n",
       "0        Simulation, Strategy, Casual, Action, Indie  \n",
       "1  2D, Replay Value, RPG, Turn-Based, Free to Pla...  "
      ]
     },
     "execution_count": 203,
     "metadata": {},
     "output_type": "execute_result"
    }
   ],
   "source": [
    "# Se eliminan las columnas orginales\n",
    "df_games = df_games.drop(columns='Genres')\n",
    "df_games = df_games.drop(columns='Tags')\n",
    "df_games.head(2)"
   ]
  },
  {
   "cell_type": "code",
   "execution_count": 204,
   "metadata": {},
   "outputs": [
    {
     "data": {
      "text/html": [
       "<div>\n",
       "<style scoped>\n",
       "    .dataframe tbody tr th:only-of-type {\n",
       "        vertical-align: middle;\n",
       "    }\n",
       "\n",
       "    .dataframe tbody tr th {\n",
       "        vertical-align: top;\n",
       "    }\n",
       "\n",
       "    .dataframe thead th {\n",
       "        text-align: right;\n",
       "    }\n",
       "</style>\n",
       "<table border=\"1\" class=\"dataframe\">\n",
       "  <thead>\n",
       "    <tr style=\"text-align: right;\">\n",
       "      <th></th>\n",
       "      <th>Publisher</th>\n",
       "      <th>Title</th>\n",
       "      <th>Year</th>\n",
       "      <th>Id</th>\n",
       "      <th>Developer</th>\n",
       "      <th>Genres</th>\n",
       "    </tr>\n",
       "  </thead>\n",
       "  <tbody>\n",
       "    <tr>\n",
       "      <th>0</th>\n",
       "      <td>Kotoshiro</td>\n",
       "      <td>Lost Summoner Kitty</td>\n",
       "      <td>2018</td>\n",
       "      <td>761140</td>\n",
       "      <td>Kotoshiro</td>\n",
       "      <td>Simulation, Strategy, Casual, Action, Indie</td>\n",
       "    </tr>\n",
       "    <tr>\n",
       "      <th>1</th>\n",
       "      <td>Making Fun, Inc.</td>\n",
       "      <td>Ironbound</td>\n",
       "      <td>2018</td>\n",
       "      <td>643980</td>\n",
       "      <td>Secret Level SRL</td>\n",
       "      <td>2D, Replay Value, RPG, Turn-Based, Free to Pla...</td>\n",
       "    </tr>\n",
       "  </tbody>\n",
       "</table>\n",
       "</div>"
      ],
      "text/plain": [
       "          Publisher                Title  Year      Id         Developer  \\\n",
       "0         Kotoshiro  Lost Summoner Kitty  2018  761140         Kotoshiro   \n",
       "1  Making Fun, Inc.            Ironbound  2018  643980  Secret Level SRL   \n",
       "\n",
       "                                              Genres  \n",
       "0        Simulation, Strategy, Casual, Action, Indie  \n",
       "1  2D, Replay Value, RPG, Turn-Based, Free to Pla...  "
      ]
     },
     "execution_count": 204,
     "metadata": {},
     "output_type": "execute_result"
    }
   ],
   "source": [
    "# Se le cambia el nombre al campo nuevo\n",
    "df_games = df_games.rename(columns={'Genres_Plus': 'Genres'})\n",
    "df_games.head(2)"
   ]
  },
  {
   "cell_type": "markdown",
   "metadata": {},
   "source": [
    "Para una mejor lectura del Data Frame se decide cambiar la posición del campo \"Publisher\""
   ]
  },
  {
   "cell_type": "code",
   "execution_count": 205,
   "metadata": {},
   "outputs": [
    {
     "data": {
      "text/html": [
       "<div>\n",
       "<style scoped>\n",
       "    .dataframe tbody tr th:only-of-type {\n",
       "        vertical-align: middle;\n",
       "    }\n",
       "\n",
       "    .dataframe tbody tr th {\n",
       "        vertical-align: top;\n",
       "    }\n",
       "\n",
       "    .dataframe thead th {\n",
       "        text-align: right;\n",
       "    }\n",
       "</style>\n",
       "<table border=\"1\" class=\"dataframe\">\n",
       "  <thead>\n",
       "    <tr style=\"text-align: right;\">\n",
       "      <th></th>\n",
       "      <th>Id</th>\n",
       "      <th>Title</th>\n",
       "      <th>Year</th>\n",
       "      <th>Publisher</th>\n",
       "      <th>Developer</th>\n",
       "      <th>Genres</th>\n",
       "    </tr>\n",
       "  </thead>\n",
       "  <tbody>\n",
       "    <tr>\n",
       "      <th>0</th>\n",
       "      <td>761140</td>\n",
       "      <td>Lost Summoner Kitty</td>\n",
       "      <td>2018</td>\n",
       "      <td>Kotoshiro</td>\n",
       "      <td>Kotoshiro</td>\n",
       "      <td>Simulation, Strategy, Casual, Action, Indie</td>\n",
       "    </tr>\n",
       "    <tr>\n",
       "      <th>1</th>\n",
       "      <td>643980</td>\n",
       "      <td>Ironbound</td>\n",
       "      <td>2018</td>\n",
       "      <td>Making Fun, Inc.</td>\n",
       "      <td>Secret Level SRL</td>\n",
       "      <td>2D, Replay Value, RPG, Turn-Based, Free to Pla...</td>\n",
       "    </tr>\n",
       "    <tr>\n",
       "      <th>2</th>\n",
       "      <td>670290</td>\n",
       "      <td>Real Pool 3D - Poolians</td>\n",
       "      <td>2017</td>\n",
       "      <td>Poolians.com</td>\n",
       "      <td>Poolians.com</td>\n",
       "      <td>Sports, Simulation, Free to Play, Multiplayer,...</td>\n",
       "    </tr>\n",
       "    <tr>\n",
       "      <th>3</th>\n",
       "      <td>767400</td>\n",
       "      <td>弹炸人2222</td>\n",
       "      <td>2017</td>\n",
       "      <td>彼岸领域</td>\n",
       "      <td>彼岸领域</td>\n",
       "      <td>Action, Casual, Adventure</td>\n",
       "    </tr>\n",
       "    <tr>\n",
       "      <th>4</th>\n",
       "      <td>772540</td>\n",
       "      <td>Battle Royale Trainer</td>\n",
       "      <td>2018</td>\n",
       "      <td>Trickjump Games Ltd</td>\n",
       "      <td>Trickjump Games Ltd</td>\n",
       "      <td>Third-Person Shooter, Sniper, Shooter, Simulat...</td>\n",
       "    </tr>\n",
       "  </tbody>\n",
       "</table>\n",
       "</div>"
      ],
      "text/plain": [
       "       Id                    Title  Year            Publisher  \\\n",
       "0  761140      Lost Summoner Kitty  2018            Kotoshiro   \n",
       "1  643980                Ironbound  2018     Making Fun, Inc.   \n",
       "2  670290  Real Pool 3D - Poolians  2017         Poolians.com   \n",
       "3  767400                  弹炸人2222  2017                 彼岸领域   \n",
       "4  772540    Battle Royale Trainer  2018  Trickjump Games Ltd   \n",
       "\n",
       "             Developer                                             Genres  \n",
       "0            Kotoshiro        Simulation, Strategy, Casual, Action, Indie  \n",
       "1     Secret Level SRL  2D, Replay Value, RPG, Turn-Based, Free to Pla...  \n",
       "2         Poolians.com  Sports, Simulation, Free to Play, Multiplayer,...  \n",
       "3                 彼岸领域                          Action, Casual, Adventure  \n",
       "4  Trickjump Games Ltd  Third-Person Shooter, Sniper, Shooter, Simulat...  "
      ]
     },
     "execution_count": 205,
     "metadata": {},
     "output_type": "execute_result"
    }
   ],
   "source": [
    "columnas = list(df_games.columns)\n",
    "columnas[0], columnas[3] = columnas[3], columnas[0]\n",
    "df_games = df_games[columnas]\n",
    "df_games.head()"
   ]
  },
  {
   "cell_type": "markdown",
   "metadata": {},
   "source": [
    "### Se guarda el DataFrame en formatos mas ligeros"
   ]
  },
  {
   "cell_type": "code",
   "execution_count": null,
   "metadata": {},
   "outputs": [],
   "source": [
    "df_games.to_csv('user_games.csv', index=False) # Se guarda el DataFrame en formato CSV)"
   ]
  },
  {
   "cell_type": "code",
   "execution_count": null,
   "metadata": {},
   "outputs": [
    {
     "data": {
      "text/html": [
       "<div>\n",
       "<style scoped>\n",
       "    .dataframe tbody tr th:only-of-type {\n",
       "        vertical-align: middle;\n",
       "    }\n",
       "\n",
       "    .dataframe tbody tr th {\n",
       "        vertical-align: top;\n",
       "    }\n",
       "\n",
       "    .dataframe thead th {\n",
       "        text-align: right;\n",
       "    }\n",
       "</style>\n",
       "<table border=\"1\" class=\"dataframe\">\n",
       "  <thead>\n",
       "    <tr style=\"text-align: right;\">\n",
       "      <th></th>\n",
       "      <th>User_Id</th>\n",
       "      <th>Items_Count</th>\n",
       "      <th>Steam_Id</th>\n",
       "      <th>Item_Id</th>\n",
       "      <th>Item_Name</th>\n",
       "      <th>Playtime_Forever_Hours</th>\n",
       "    </tr>\n",
       "  </thead>\n",
       "  <tbody>\n",
       "    <tr>\n",
       "      <th>0</th>\n",
       "      <td>76561197970982479</td>\n",
       "      <td>277</td>\n",
       "      <td>76561197970982479</td>\n",
       "      <td>10</td>\n",
       "      <td>Counter-Strike</td>\n",
       "      <td>6</td>\n",
       "    </tr>\n",
       "    <tr>\n",
       "      <th>1</th>\n",
       "      <td>76561197970982479</td>\n",
       "      <td>277</td>\n",
       "      <td>76561197970982479</td>\n",
       "      <td>30</td>\n",
       "      <td>Day of Defeat</td>\n",
       "      <td>7</td>\n",
       "    </tr>\n",
       "    <tr>\n",
       "      <th>2</th>\n",
       "      <td>76561197970982479</td>\n",
       "      <td>277</td>\n",
       "      <td>76561197970982479</td>\n",
       "      <td>300</td>\n",
       "      <td>Day of Defeat: Source</td>\n",
       "      <td>4733</td>\n",
       "    </tr>\n",
       "    <tr>\n",
       "      <th>3</th>\n",
       "      <td>76561197970982479</td>\n",
       "      <td>277</td>\n",
       "      <td>76561197970982479</td>\n",
       "      <td>240</td>\n",
       "      <td>Counter-Strike: Source</td>\n",
       "      <td>1853</td>\n",
       "    </tr>\n",
       "    <tr>\n",
       "      <th>4</th>\n",
       "      <td>76561197970982479</td>\n",
       "      <td>277</td>\n",
       "      <td>76561197970982479</td>\n",
       "      <td>3830</td>\n",
       "      <td>Psychonauts</td>\n",
       "      <td>333</td>\n",
       "    </tr>\n",
       "    <tr>\n",
       "      <th>...</th>\n",
       "      <td>...</td>\n",
       "      <td>...</td>\n",
       "      <td>...</td>\n",
       "      <td>...</td>\n",
       "      <td>...</td>\n",
       "      <td>...</td>\n",
       "    </tr>\n",
       "    <tr>\n",
       "      <th>3285241</th>\n",
       "      <td>76561198329548331</td>\n",
       "      <td>7</td>\n",
       "      <td>76561198329548331</td>\n",
       "      <td>304930</td>\n",
       "      <td>Unturned</td>\n",
       "      <td>677</td>\n",
       "    </tr>\n",
       "    <tr>\n",
       "      <th>3285242</th>\n",
       "      <td>76561198329548331</td>\n",
       "      <td>7</td>\n",
       "      <td>76561198329548331</td>\n",
       "      <td>227940</td>\n",
       "      <td>Heroes &amp; Generals</td>\n",
       "      <td>43</td>\n",
       "    </tr>\n",
       "    <tr>\n",
       "      <th>3285243</th>\n",
       "      <td>76561198329548331</td>\n",
       "      <td>7</td>\n",
       "      <td>76561198329548331</td>\n",
       "      <td>388490</td>\n",
       "      <td>One Way To Die: Steam Edition</td>\n",
       "      <td>3</td>\n",
       "    </tr>\n",
       "    <tr>\n",
       "      <th>3285244</th>\n",
       "      <td>76561198329548331</td>\n",
       "      <td>7</td>\n",
       "      <td>76561198329548331</td>\n",
       "      <td>521570</td>\n",
       "      <td>You Have 10 Seconds 2</td>\n",
       "      <td>4</td>\n",
       "    </tr>\n",
       "    <tr>\n",
       "      <th>3285245</th>\n",
       "      <td>76561198329548331</td>\n",
       "      <td>7</td>\n",
       "      <td>76561198329548331</td>\n",
       "      <td>519140</td>\n",
       "      <td>Minds Eyes</td>\n",
       "      <td>3</td>\n",
       "    </tr>\n",
       "  </tbody>\n",
       "</table>\n",
       "<p>3285246 rows × 6 columns</p>\n",
       "</div>"
      ],
      "text/plain": [
       "                   User_Id  Items_Count           Steam_Id  Item_Id  \\\n",
       "0        76561197970982479          277  76561197970982479       10   \n",
       "1        76561197970982479          277  76561197970982479       30   \n",
       "2        76561197970982479          277  76561197970982479      300   \n",
       "3        76561197970982479          277  76561197970982479      240   \n",
       "4        76561197970982479          277  76561197970982479     3830   \n",
       "...                    ...          ...                ...      ...   \n",
       "3285241  76561198329548331            7  76561198329548331   304930   \n",
       "3285242  76561198329548331            7  76561198329548331   227940   \n",
       "3285243  76561198329548331            7  76561198329548331   388490   \n",
       "3285244  76561198329548331            7  76561198329548331   521570   \n",
       "3285245  76561198329548331            7  76561198329548331   519140   \n",
       "\n",
       "                             Item_Name  Playtime_Forever_Hours  \n",
       "0                       Counter-Strike                       6  \n",
       "1                        Day of Defeat                       7  \n",
       "2                Day of Defeat: Source                    4733  \n",
       "3               Counter-Strike: Source                    1853  \n",
       "4                          Psychonauts                     333  \n",
       "...                                ...                     ...  \n",
       "3285241                       Unturned                     677  \n",
       "3285242              Heroes & Generals                      43  \n",
       "3285243  One Way To Die: Steam Edition                       3  \n",
       "3285244          You Have 10 Seconds 2                       4  \n",
       "3285245                     Minds Eyes                       3  \n",
       "\n",
       "[3285246 rows x 6 columns]"
      ]
     },
     "metadata": {},
     "output_type": "display_data"
    }
   ],
   "source": [
    "# Se convierte el archivo CSV a parquet bajo la compresión \"gzip\"\n",
    "ruta_csv_items = 'E:\\\\AAADATOS\\\\Henry\\\\AA_Data_Science\\\\MATERIAL_PI\\\\PI_ML_OPS_STEAM_DSFT17\\\\user_games.csv' # Se crea una variable con la ruta del archivo CSV\n",
    "df_games_temp = pd.read_csv(ruta_csv_items) # Se lee ese CSV en un nuevo DataFrame temporal para segurar como estan los datos\n",
    "df_games_temp"
   ]
  },
  {
   "cell_type": "markdown",
   "metadata": {},
   "source": [
    "Se guarada el DataFrame temporal en formato comprimido gzip"
   ]
  },
  {
   "cell_type": "code",
   "execution_count": null,
   "metadata": {},
   "outputs": [],
   "source": [
    "df_games_temp.to_csv('user_games.gzip', compression='gzip', index=False)"
   ]
  },
  {
   "cell_type": "code",
   "execution_count": null,
   "metadata": {},
   "outputs": [
    {
     "data": {
      "text/html": [
       "<div>\n",
       "<style scoped>\n",
       "    .dataframe tbody tr th:only-of-type {\n",
       "        vertical-align: middle;\n",
       "    }\n",
       "\n",
       "    .dataframe tbody tr th {\n",
       "        vertical-align: top;\n",
       "    }\n",
       "\n",
       "    .dataframe thead th {\n",
       "        text-align: right;\n",
       "    }\n",
       "</style>\n",
       "<table border=\"1\" class=\"dataframe\">\n",
       "  <thead>\n",
       "    <tr style=\"text-align: right;\">\n",
       "      <th></th>\n",
       "      <th>User_Id</th>\n",
       "      <th>Items_Count</th>\n",
       "      <th>Steam_Id</th>\n",
       "      <th>Item_Id</th>\n",
       "      <th>Item_Name</th>\n",
       "      <th>Playtime_Forever_Hours</th>\n",
       "    </tr>\n",
       "  </thead>\n",
       "  <tbody>\n",
       "    <tr>\n",
       "      <th>0</th>\n",
       "      <td>76561197970982479</td>\n",
       "      <td>277</td>\n",
       "      <td>76561197970982479</td>\n",
       "      <td>10</td>\n",
       "      <td>Counter-Strike</td>\n",
       "      <td>6</td>\n",
       "    </tr>\n",
       "    <tr>\n",
       "      <th>1</th>\n",
       "      <td>76561197970982479</td>\n",
       "      <td>277</td>\n",
       "      <td>76561197970982479</td>\n",
       "      <td>30</td>\n",
       "      <td>Day of Defeat</td>\n",
       "      <td>7</td>\n",
       "    </tr>\n",
       "    <tr>\n",
       "      <th>2</th>\n",
       "      <td>76561197970982479</td>\n",
       "      <td>277</td>\n",
       "      <td>76561197970982479</td>\n",
       "      <td>300</td>\n",
       "      <td>Day of Defeat: Source</td>\n",
       "      <td>4733</td>\n",
       "    </tr>\n",
       "    <tr>\n",
       "      <th>3</th>\n",
       "      <td>76561197970982479</td>\n",
       "      <td>277</td>\n",
       "      <td>76561197970982479</td>\n",
       "      <td>240</td>\n",
       "      <td>Counter-Strike: Source</td>\n",
       "      <td>1853</td>\n",
       "    </tr>\n",
       "    <tr>\n",
       "      <th>4</th>\n",
       "      <td>76561197970982479</td>\n",
       "      <td>277</td>\n",
       "      <td>76561197970982479</td>\n",
       "      <td>3830</td>\n",
       "      <td>Psychonauts</td>\n",
       "      <td>333</td>\n",
       "    </tr>\n",
       "    <tr>\n",
       "      <th>...</th>\n",
       "      <td>...</td>\n",
       "      <td>...</td>\n",
       "      <td>...</td>\n",
       "      <td>...</td>\n",
       "      <td>...</td>\n",
       "      <td>...</td>\n",
       "    </tr>\n",
       "    <tr>\n",
       "      <th>3285241</th>\n",
       "      <td>76561198329548331</td>\n",
       "      <td>7</td>\n",
       "      <td>76561198329548331</td>\n",
       "      <td>304930</td>\n",
       "      <td>Unturned</td>\n",
       "      <td>677</td>\n",
       "    </tr>\n",
       "    <tr>\n",
       "      <th>3285242</th>\n",
       "      <td>76561198329548331</td>\n",
       "      <td>7</td>\n",
       "      <td>76561198329548331</td>\n",
       "      <td>227940</td>\n",
       "      <td>Heroes &amp; Generals</td>\n",
       "      <td>43</td>\n",
       "    </tr>\n",
       "    <tr>\n",
       "      <th>3285243</th>\n",
       "      <td>76561198329548331</td>\n",
       "      <td>7</td>\n",
       "      <td>76561198329548331</td>\n",
       "      <td>388490</td>\n",
       "      <td>One Way To Die: Steam Edition</td>\n",
       "      <td>3</td>\n",
       "    </tr>\n",
       "    <tr>\n",
       "      <th>3285244</th>\n",
       "      <td>76561198329548331</td>\n",
       "      <td>7</td>\n",
       "      <td>76561198329548331</td>\n",
       "      <td>521570</td>\n",
       "      <td>You Have 10 Seconds 2</td>\n",
       "      <td>4</td>\n",
       "    </tr>\n",
       "    <tr>\n",
       "      <th>3285245</th>\n",
       "      <td>76561198329548331</td>\n",
       "      <td>7</td>\n",
       "      <td>76561198329548331</td>\n",
       "      <td>519140</td>\n",
       "      <td>Minds Eyes</td>\n",
       "      <td>3</td>\n",
       "    </tr>\n",
       "  </tbody>\n",
       "</table>\n",
       "<p>3285246 rows × 6 columns</p>\n",
       "</div>"
      ],
      "text/plain": [
       "                   User_Id  Items_Count           Steam_Id  Item_Id  \\\n",
       "0        76561197970982479          277  76561197970982479       10   \n",
       "1        76561197970982479          277  76561197970982479       30   \n",
       "2        76561197970982479          277  76561197970982479      300   \n",
       "3        76561197970982479          277  76561197970982479      240   \n",
       "4        76561197970982479          277  76561197970982479     3830   \n",
       "...                    ...          ...                ...      ...   \n",
       "3285241  76561198329548331            7  76561198329548331   304930   \n",
       "3285242  76561198329548331            7  76561198329548331   227940   \n",
       "3285243  76561198329548331            7  76561198329548331   388490   \n",
       "3285244  76561198329548331            7  76561198329548331   521570   \n",
       "3285245  76561198329548331            7  76561198329548331   519140   \n",
       "\n",
       "                             Item_Name  Playtime_Forever_Hours  \n",
       "0                       Counter-Strike                       6  \n",
       "1                        Day of Defeat                       7  \n",
       "2                Day of Defeat: Source                    4733  \n",
       "3               Counter-Strike: Source                    1853  \n",
       "4                          Psychonauts                     333  \n",
       "...                                ...                     ...  \n",
       "3285241                       Unturned                     677  \n",
       "3285242              Heroes & Generals                      43  \n",
       "3285243  One Way To Die: Steam Edition                       3  \n",
       "3285244          You Have 10 Seconds 2                       4  \n",
       "3285245                     Minds Eyes                       3  \n",
       "\n",
       "[3285246 rows x 6 columns]"
      ]
     },
     "metadata": {},
     "output_type": "display_data"
    }
   ],
   "source": [
    "# Se verifica que el archivo gzip comprimido pueda ser leido de manera efectiva y que no hayan problemas en los datos que este arroja\n",
    "df_games_parquet = pd.read_csv('user_games.gzip', compression='gzip')\n",
    "df_games_parquet"
   ]
  },
  {
   "cell_type": "code",
   "execution_count": null,
   "metadata": {},
   "outputs": [
    {
     "name": "stdout",
     "output_type": "stream",
     "text": [
      "<class 'pandas.core.frame.DataFrame'>\n",
      "RangeIndex: 3285246 entries, 0 to 3285245\n",
      "Data columns (total 6 columns):\n",
      " #   Column                  Dtype \n",
      "---  ------                  ----- \n",
      " 0   User_Id                 object\n",
      " 1   Items_Count             int64 \n",
      " 2   Steam_Id                int64 \n",
      " 3   Item_Id                 int64 \n",
      " 4   Item_Name               object\n",
      " 5   Playtime_Forever_Hours  int64 \n",
      "dtypes: int64(4), object(2)\n",
      "memory usage: 150.4+ MB\n"
     ]
    }
   ],
   "source": [
    "df_items_parquet.info()"
   ]
  }
 ],
 "metadata": {
  "kernelspec": {
   "display_name": "env",
   "language": "python",
   "name": "python3"
  },
  "language_info": {
   "codemirror_mode": {
    "name": "ipython",
    "version": 3
   },
   "file_extension": ".py",
   "mimetype": "text/x-python",
   "name": "python",
   "nbconvert_exporter": "python",
   "pygments_lexer": "ipython3",
   "version": "3.11.4"
  }
 },
 "nbformat": 4,
 "nbformat_minor": 2
}
