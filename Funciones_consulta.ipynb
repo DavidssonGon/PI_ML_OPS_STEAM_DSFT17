{
 "cells": [
  {
   "cell_type": "markdown",
   "metadata": {},
   "source": [
    "# Funciones de consulta Proyecto Individual ML Ops STEAM"
   ]
  },
  {
   "cell_type": "markdown",
   "metadata": {},
   "source": [
    "## Creación y pruebas de las funciones"
   ]
  },
  {
   "cell_type": "code",
   "execution_count": 1,
   "metadata": {},
   "outputs": [],
   "source": [
    "# Se importan las librerías necesarias para este proceso de transformación\n",
    "import numpy as np\n",
    "import pandas as pd\n",
    "import matplotlib.pyplot as plt\n",
    "import seaborn as sns"
   ]
  },
  {
   "cell_type": "code",
   "execution_count": 45,
   "metadata": {},
   "outputs": [],
   "source": [
    "# Rutas de ubicación para los datasets:\n",
    "consulta1 = 'E:\\\\AAADATOS\\Henry\\\\AA_Data_Science\\\\MATERIAL_PI\\\\PI_ML_OPS_STEAM_DSFT17\\\\PlayTimeGenre.gzip'\n",
    "consulta2 = 'E:\\\\AAADATOS\\Henry\\\\AA_Data_Science\\\\MATERIAL_PI\\\\PI_ML_OPS_STEAM_DSFT17\\\\UserForGenre.gzip'\n",
    "consulta3 = 'E:\\\\AAADATOS\\Henry\\\\AA_Data_Science\\\\MATERIAL_PI\\\\PI_ML_OPS_STEAM_DSFT17\\\\UsersRecommend.gzip'\n",
    "consulta4 = 'E:\\\\AAADATOS\\Henry\\\\AA_Data_Science\\\\MATERIAL_PI\\\\PI_ML_OPS_STEAM_DSFT17\\\\UsersWorstDeveloper.gzip'\n",
    "consulta5 = 'E:\\\\AAADATOS\\Henry\\\\AA_Data_Science\\\\MATERIAL_PI\\\\PI_ML_OPS_STEAM_DSFT17\\\\sentiment_analysis.gzip'"
   ]
  },
  {
   "cell_type": "markdown",
   "metadata": {},
   "source": [
    "---"
   ]
  },
  {
   "cell_type": "markdown",
   "metadata": {},
   "source": [
    "### Funciones"
   ]
  },
  {
   "cell_type": "markdown",
   "metadata": {},
   "source": [
    "#### Consulta 1\n",
    "- def **PlayTimeGenre**( **`genero`** : str ): Debe devolver **`año`** con mas horas jugadas para dicho género.\n",
    "\n",
    "Ejemplo de retorno: {\"Año de lanzamiento con más horas jugadas para Género X\" : 2013}"
   ]
  },
  {
   "cell_type": "code",
   "execution_count": 23,
   "metadata": {},
   "outputs": [],
   "source": [
    "# Se crea la función \"PlayTimeGenre\" que recibe un string \"str\" y devuelve un año \"int\" dentro de un diccionario\n",
    "\n",
    "def PlayTimeGenre(genero):\n",
    "    \n",
    "    # Se verifica que el género sea una cadena (string)\n",
    "    if not isinstance(genero, str):\n",
    "        return {'Error': 'El género debe ser una cadena (string)'}\n",
    "    \n",
    "    # Se inicializa el Data Frame al que se le hara la consulta\n",
    "    df_def1 = pd.read_csv(consulta1, compression='gzip')\n",
    "    \n",
    "    # Se filtra el Data Frame para incluir solo las filas que contengan el género deseado\n",
    "    df_genero = df_def1[df_def1['Genres'].str.contains(genero, case=False, na=False)]\n",
    "    \n",
    "    # Se agrupa por el año y se suman las horas de juego para cada año\n",
    "    df_agrupado = df_genero.groupby('Year_Launch')['Playtime_Forever_Hours'].sum().reset_index()\n",
    "    \n",
    "    # Se verifica si el Data Frame agrupado está vacío\n",
    "    if df_agrupado.empty:\n",
    "        return {'Error': f'No hay datos para el género \"{genero}\" después de filtrar por año'}\n",
    "    \n",
    "    # Se busca el año con la el valor mas grande horas de juego\n",
    "    anio_mas_jugado = df_agrupado.loc[df_agrupado['Playtime_Forever_Hours'].idxmax()]['Year_Launch']\n",
    "    \n",
    "    # Se devuelve el resultado en un diccionario\n",
    "    resultado = {'Año de lanzamiento con más horas jugadas para Género {}'.format(genero): int(anio_mas_jugado)}\n",
    "    \n",
    "    return resultado"
   ]
  },
  {
   "cell_type": "code",
   "execution_count": 28,
   "metadata": {},
   "outputs": [
    {
     "name": "stdout",
     "output_type": "stream",
     "text": [
      "{'Año de lanzamiento con más horas jugadas para Género indiE': 2006}\n"
     ]
    }
   ],
   "source": [
    "genero = \"indiE\"\n",
    "año_resultante = PlayTimeGenre(genero)\n",
    "print(año_resultante)"
   ]
  },
  {
   "cell_type": "markdown",
   "metadata": {},
   "source": [
    "---"
   ]
  },
  {
   "cell_type": "markdown",
   "metadata": {},
   "source": [
    "#### Consulta 2\n",
    "- def **UserForGenre**( **`genero`** : str ):  Debe devolver el **`usuario`** que acumula más horas jugadas para el género dado y una lista de la acumulación de horas jugadas por año.\n",
    "\n",
    "Ejemplo de retorno: {\"Usuario con más horas jugadas para Género X\" : us213ndjss09sdf, \"Horas jugadas\":[{Año: 2013, Horas: 203}, {Año: 2012, Horas: 100}, {Año: 2011, Horas: 23}]}"
   ]
  },
  {
   "cell_type": "code",
   "execution_count": 38,
   "metadata": {},
   "outputs": [],
   "source": [
    "# Se crea la función \"UserForGenre\" que recibe un string \"str\" y devuelve un diccionario\n",
    "\n",
    "def UserForGenre(genero):\n",
    "    \n",
    "    # Se verifica que el género sea una cadena (string)\n",
    "    if not isinstance(genero, str):\n",
    "        return {'Error': 'El género debe ser una cadena (string)'}\n",
    "    \n",
    "    # Se inicializa el Data Frame al que se le hara la consulta\n",
    "    df_def2 = pd.read_csv(consulta2, compression='gzip')\n",
    "    \n",
    "    # Se filtra el Data Frame para incluir solo las filas que contengan el género deseado\n",
    "    df_genero = df_def2[df_def2['Genres'].str.contains(genero, case=False, na=False)]\n",
    "    \n",
    "    # Se verifica si el Data Frame agrupado está vacío\n",
    "    if df_genero.empty:\n",
    "        return {'Error': f'No hay datos para el género \"{genero}\"'}\n",
    "    \n",
    "    # Se agrupa por usuario y se suman las horas de juego para cada usuario\n",
    "    df_agrupado_usuario = df_genero.groupby('User_Id')['Playtime_Forever_Hours'].sum().reset_index()\n",
    "    \n",
    "    # Se verifica si el DataFrame agrupado por usuario está vacío\n",
    "    if df_agrupado_usuario.empty:\n",
    "        return {'Error': f'No hay datos para el género \"{genero}\" después de filtrar por usuario'}\n",
    "    \n",
    "    # Se busca el usuario con el máximo total de horas jugadas\n",
    "    usuario_mas_horas = df_agrupado_usuario.loc[df_agrupado_usuario['Playtime_Forever_Hours'].idxmax()]['User_Id']\n",
    "    \n",
    "    # Se agrupa por año y suma las horas de juego para cada año\n",
    "    df_agrupado_anio = df_genero.groupby('Year_Launch')['Playtime_Forever_Hours'].sum().reset_index()\n",
    "    \n",
    "    # Se rea una lista de diccionarios con la acumulación de horas jugadas por año\n",
    "    lista_acumulacion_horas = [{'Año': int(anio), 'Horas': int(horas)} for anio, horas in zip(df_agrupado_anio['Year_Launch'],\n",
    "                                                                                              df_agrupado_anio['Playtime_Forever_Hours'])]\n",
    "    # Se construye el diccionario de resultado\n",
    "    resultado = {\n",
    "        'Usuario con más horas jugadas para Género {}'.format(genero): usuario_mas_horas,\n",
    "        'Horas jugadas': lista_acumulacion_horas\n",
    "    }\n",
    "\n",
    "    return resultado"
   ]
  },
  {
   "cell_type": "code",
   "execution_count": 42,
   "metadata": {},
   "outputs": [
    {
     "data": {
      "text/plain": [
       "{'Usuario con más horas jugadas para Género Fast-Paced': 'Cow666',\n",
       " 'Horas jugadas': [{'Año': 1999, 'Horas': 89},\n",
       "  {'Año': 2000, 'Horas': 219},\n",
       "  {'Año': 2007, 'Horas': 2},\n",
       "  {'Año': 2008, 'Horas': 553255},\n",
       "  {'Año': 2009, 'Horas': 840},\n",
       "  {'Año': 2010, 'Horas': 102973},\n",
       "  {'Año': 2011, 'Horas': 6},\n",
       "  {'Año': 2012, 'Horas': 1402621},\n",
       "  {'Año': 2013, 'Horas': 1650},\n",
       "  {'Año': 2014, 'Horas': 10759},\n",
       "  {'Año': 2015, 'Horas': 42036},\n",
       "  {'Año': 2016, 'Horas': 126},\n",
       "  {'Año': 2017, 'Horas': 1}]}"
      ]
     },
     "execution_count": 42,
     "metadata": {},
     "output_type": "execute_result"
    }
   ],
   "source": [
    "UserForGenre('Fast-Paced')"
   ]
  },
  {
   "cell_type": "markdown",
   "metadata": {},
   "source": [
    "---"
   ]
  },
  {
   "cell_type": "markdown",
   "metadata": {},
   "source": [
    "#### Consulta 3\n",
    "- def **UsersRecommend**( **`año`** : int ):  Devuelve el top 3 de **`juegos`** MÁS recomendados por usuarios para el año dado. (reviews.recommend = True y comentarios positivos/neutrales)\n",
    "\n",
    "Ejemplo de retorno: [{\"Puesto 1\" : X}, {\"Puesto 2\" : Y},{\"Puesto 3\" : Z}]"
   ]
  },
  {
   "cell_type": "code",
   "execution_count": 59,
   "metadata": {},
   "outputs": [],
   "source": [
    "# Se crea la función \"UsersRecommend\" que recibe un entero\"int\" y devuelve una lista de diccionarios\n",
    "\n",
    "def UsersRecommend(anio):\n",
    "    \n",
    "    # Se verifica que el año sea un entero\n",
    "    if not isinstance(anio, int):\n",
    "        return {'Error': 'El año debe ser un entero'}\n",
    "    \n",
    "    # Se inicializa el Data Frame al que se le hara la consulta\n",
    "    df_def3 = pd.read_csv(consulta3, compression='gzip')\n",
    "    \n",
    "    # Se filtra el DataFrame para incluir solo las filas correspondientes al año dado\n",
    "    df_anio = df_def3[df_def3['Year'] == anio]\n",
    "    \n",
    "    # Se verifica si el DataFrame resultante está vacío\n",
    "    if df_anio.empty:\n",
    "        return [{'Error': f'No hay datos para el año {anio}'}]\n",
    "    \n",
    "    # Se agrupa por título de juego y suma los valores en el campo \"Conteo\"\n",
    "    df_agrupado_juegos = df_anio.groupby('Title')['Conteo'].sum().reset_index()\n",
    "    \n",
    "    # Se ordena el DataFrame en orden descendente según la suma del campo \"Conteo\"\n",
    "    df_agrupado_juegos = df_agrupado_juegos.sort_values(by='Conteo', ascending=False)\n",
    "    \n",
    "    # Se selecciona los tres primeros juegos\n",
    "    top_3_juegos = df_agrupado_juegos.head(3)\n",
    "    \n",
    "    # Se construye la lista de diccionarios de resultado\n",
    "    resultado = [\n",
    "        {'Puesto 1': top_3_juegos.iloc[0]['Title']},\n",
    "        {'Puesto 2': top_3_juegos.iloc[1]['Title']},\n",
    "        {'Puesto 3': top_3_juegos.iloc[2]['Title']}\n",
    "    ]\n",
    "\n",
    "    return resultado"
   ]
  },
  {
   "cell_type": "code",
   "execution_count": 61,
   "metadata": {},
   "outputs": [
    {
     "name": "stdout",
     "output_type": "stream",
     "text": [
      "[{'Puesto 1': 'Team Fortress 2'}, {'Puesto 2': 'Terraria'}, {'Puesto 3': \"Garry's Mod\"}]\n"
     ]
    }
   ],
   "source": [
    "print(UsersRecommend(2012))"
   ]
  },
  {
   "cell_type": "markdown",
   "metadata": {},
   "source": [
    "---"
   ]
  },
  {
   "cell_type": "markdown",
   "metadata": {},
   "source": [
    "#### Consulta 4\n",
    "- def **UsersWorstDeveloper**( **`año`** : int ):  Devuelve el top 3 de **`desarrolladoras`** con juegos MENOS recomendados por usuarios para el año dado. (reviews.recommend = False y comentarios negativos)\n",
    "\n",
    "Ejemplo de retorno: [{\"Puesto 1\" : X}, {\"Puesto 2\" : Y},{\"Puesto 3\" : Z}]"
   ]
  },
  {
   "cell_type": "code",
   "execution_count": 77,
   "metadata": {},
   "outputs": [],
   "source": [
    "# Se crea la función \"UsersWorstDeveloper\" que recibe un entero\"int\" y devuelve una lista de diccionarios\n",
    "\n",
    "def UsersWorstDeveloper(anio):\n",
    "    \n",
    "    # Se verifica que el año sea un entero\n",
    "    if not isinstance(anio, int):\n",
    "        return {'Error': 'El año debe ser un entero'}\n",
    "    \n",
    "    # Se inicializa el Data Frame al que se le hara la consulta\n",
    "    df_def4 = pd.read_csv(consulta4, compression='gzip')\n",
    "    \n",
    "    # Se filtra el DataFrame para incluir solo las filas correspondientes al año dado\n",
    "    df_anio = df_def4[df_def4['Year'] == anio]\n",
    "    \n",
    "    # Se verifica si el DataFrame resultante está vacío\n",
    "    if df_anio.empty:\n",
    "        return [{'Error': f'No hay datos para el año {anio}'}]\n",
    "    \n",
    "    # Se agrupa por desarrolladora y suma los valores en el campo \"Conteo\"\n",
    "    df_agrupado_desarrolladoras = df_anio.groupby('Developer')['Conteo'].sum().reset_index()\n",
    "    \n",
    "    # Se ordena el DataFrame en orden descendente según la suma del campo \"Conteo\"\n",
    "    df_agrupado_desarrolladoras = df_agrupado_desarrolladoras.sort_values(by='Conteo', ascending=False)\n",
    "    \n",
    "    # Se selecciona los tres primeros desarrolladores\n",
    "    top_3_desarrolladoras = df_agrupado_desarrolladoras.head(3)\n",
    "    \n",
    "    # Se construye la lista de diccionarios de resultado\n",
    "    resultado = [\n",
    "        {\"Puesto 1\": top_3_desarrolladoras.iloc[0]['Developer']},\n",
    "        {\"Puesto 2\": top_3_desarrolladoras.iloc[1]['Developer']},\n",
    "        {\"Puesto 3\": top_3_desarrolladoras.iloc[2]['Developer']}\n",
    "    ]\n",
    "    \n",
    "    return resultado"
   ]
  },
  {
   "cell_type": "code",
   "execution_count": 78,
   "metadata": {},
   "outputs": [
    {
     "name": "stdout",
     "output_type": "stream",
     "text": [
      "[{'Puesto 1': 'Valve'}, {'Puesto 2': 'Hello Games'}, {'Puesto 3': 'Ubisoft'}]\n"
     ]
    }
   ],
   "source": [
    "print(UsersWorstDeveloper(2016))"
   ]
  },
  {
   "cell_type": "markdown",
   "metadata": {},
   "source": [
    "---"
   ]
  },
  {
   "cell_type": "markdown",
   "metadata": {},
   "source": [
    "#### Consulta 5\n",
    "- def **sentiment_analysis**( **`empresa desarrolladora`** : str ):  Según la empresa desarrolladora, se devuelve un diccionario con el nombre de la desarrolladora como llave y una lista con la cantidad total de registros de reseñas de usuarios que se encuentren categorizados con un análisis de sentimiento como valor.\n",
    "\n",
    "Ejemplo de retorno: {'Valve' : [Negative = 182, Neutral = 120, Positive = 278]}"
   ]
  },
  {
   "cell_type": "code",
   "execution_count": 118,
   "metadata": {},
   "outputs": [],
   "source": [
    "# Se crea la función \"sentiment_analysis\" que recibe un string \"str\" y devuelve un diccionario\n",
    "\n",
    "def sentiment_analysis(desarrolladora):\n",
    "    \n",
    "    # Se verifica que la desarrolladora sea una cadena (string)\n",
    "    if not isinstance(desarrolladora, str):\n",
    "        return {'Error': 'La Desarrolladora debe ser una cadena (string)'}\n",
    "    \n",
    "    # Se inicializa el Data Frame al que se le hara la consulta\n",
    "    df_def5 = pd.read_csv(consulta5, compression='gzip')\n",
    "    \n",
    "    # Se filtra el DataFrame para incluir solo las filas correspondientes a la desarrolladora dada\n",
    "    df_desarrolladora = df_def5[df_def5['Developer'] == desarrolladora]\n",
    "    \n",
    "    # Se verifica si el DataFrame resultante está vacío\n",
    "    if df_desarrolladora.empty:\n",
    "        return {'Error': f'No hay datos para la desarrolladora {desarrolladora}'}\n",
    "    \n",
    "    # Se realiza un mapeo de valores originales a equivalentes deseados\n",
    "    mapeo_sentimientos = {0: \"Negative\", 1: \"Neutral\", 2: \"Positive\"}\n",
    "    \n",
    "    # Se reemplaza los valores originales por los equivalentes deseados\n",
    "    df_desarrolladora['Sentiment_Analysis'] = df_desarrolladora['Sentiment_Analysis'].map(mapeo_sentimientos)\n",
    "    \n",
    "    # Se define la lista ordenada de sentimientos\n",
    "    sentimientos_ordenados = [\"Negative\", \"Neutral\", \"Positive\"]\n",
    "    \n",
    "    # Se agrupa por \"Sentiment_Analysis\" y cuenta la frecuencia de cada valor\n",
    "    conteo_sentimientos = df_desarrolladora['Sentiment_Analysis'].value_counts().reindex(sentimientos_ordenados, fill_value=0).to_dict()\n",
    "    \n",
    "    # Se construye el diccionario de resultado con etiquetas\n",
    "    resultado = {desarrolladora: {f\"{sentimiento} =\": conteo_sentimientos[sentimiento] for sentimiento in sentimientos_ordenados}}\n",
    "    \n",
    "    return resultado"
   ]
  },
  {
   "cell_type": "code",
   "execution_count": 119,
   "metadata": {},
   "outputs": [
    {
     "name": "stdout",
     "output_type": "stream",
     "text": [
      "{'Ubisoft': {'Negative =': 194, 'Neutral =': 1, 'Positive =': 773}}\n"
     ]
    },
    {
     "name": "stderr",
     "output_type": "stream",
     "text": [
      "C:\\Users\\DavidssonPC\\AppData\\Local\\Temp\\ipykernel_6504\\3229684718.py:23: SettingWithCopyWarning: \n",
      "A value is trying to be set on a copy of a slice from a DataFrame.\n",
      "Try using .loc[row_indexer,col_indexer] = value instead\n",
      "\n",
      "See the caveats in the documentation: https://pandas.pydata.org/pandas-docs/stable/user_guide/indexing.html#returning-a-view-versus-a-copy\n",
      "  df_desarrolladora['Sentiment_Analysis'] = df_desarrolladora['Sentiment_Analysis'].map(mapeo_sentimientos)\n"
     ]
    }
   ],
   "source": [
    "print(sentiment_analysis('Ubisoft'))"
   ]
  },
  {
   "cell_type": "markdown",
   "metadata": {},
   "source": [
    "---"
   ]
  },
  {
   "cell_type": "code",
   "execution_count": 115,
   "metadata": {},
   "outputs": [
    {
     "ename": "NameError",
     "evalue": "name 'df_sentiment_analysis_parquet' is not defined",
     "output_type": "error",
     "traceback": [
      "\u001b[1;31m---------------------------------------------------------------------------\u001b[0m",
      "\u001b[1;31mNameError\u001b[0m                                 Traceback (most recent call last)",
      "\u001b[1;32me:\\AAADATOS\\Henry\\AA_Data_Science\\MATERIAL_PI\\PI_ML_OPS_STEAM_DSFT17\\Funciones_consulta.ipynb Cell 36\u001b[0m line \u001b[0;36m2\n\u001b[0;32m      <a href='vscode-notebook-cell:/e%3A/AAADATOS/Henry/AA_Data_Science/MATERIAL_PI/PI_ML_OPS_STEAM_DSFT17/Funciones_consulta.ipynb#W3sZmlsZQ%3D%3D?line=0'>1</a>\u001b[0m lista \u001b[39m=\u001b[39m []\n\u001b[1;32m----> <a href='vscode-notebook-cell:/e%3A/AAADATOS/Henry/AA_Data_Science/MATERIAL_PI/PI_ML_OPS_STEAM_DSFT17/Funciones_consulta.ipynb#W3sZmlsZQ%3D%3D?line=1'>2</a>\u001b[0m \u001b[39mfor\u001b[39;00m d \u001b[39min\u001b[39;00m df_sentiment_analysis_parquet[\u001b[39m'\u001b[39m\u001b[39mDeveloper\u001b[39m\u001b[39m'\u001b[39m]\u001b[39m.\u001b[39munique():\n\u001b[0;32m      <a href='vscode-notebook-cell:/e%3A/AAADATOS/Henry/AA_Data_Science/MATERIAL_PI/PI_ML_OPS_STEAM_DSFT17/Funciones_consulta.ipynb#W3sZmlsZQ%3D%3D?line=2'>3</a>\u001b[0m     lista\u001b[39m.\u001b[39mappend(d)\n\u001b[0;32m      <a href='vscode-notebook-cell:/e%3A/AAADATOS/Henry/AA_Data_Science/MATERIAL_PI/PI_ML_OPS_STEAM_DSFT17/Funciones_consulta.ipynb#W3sZmlsZQ%3D%3D?line=4'>5</a>\u001b[0m \u001b[39mprint\u001b[39m(lista)\n",
      "\u001b[1;31mNameError\u001b[0m: name 'df_sentiment_analysis_parquet' is not defined"
     ]
    }
   ],
   "source": [
    "lista = []\n",
    "for d in df_sentiment_analysis_parquet['Developer'].unique():\n",
    "    lista.append(d)\n",
    "\n",
    "print(lista)\n",
    "print(len(lista))"
   ]
  }
 ],
 "metadata": {
  "kernelspec": {
   "display_name": "Python 3",
   "language": "python",
   "name": "python3"
  },
  "language_info": {
   "codemirror_mode": {
    "name": "ipython",
    "version": 3
   },
   "file_extension": ".py",
   "mimetype": "text/x-python",
   "name": "python",
   "nbconvert_exporter": "python",
   "pygments_lexer": "ipython3",
   "version": "3.11.4"
  }
 },
 "nbformat": 4,
 "nbformat_minor": 2
}
